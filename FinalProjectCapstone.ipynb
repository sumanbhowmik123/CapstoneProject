{
 "cells": [
  {
   "cell_type": "code",
   "execution_count": 1,
   "metadata": {},
   "outputs": [],
   "source": [
    "import pandas as pd \n",
    "import numpy as np\n",
    "import seaborn as sns \n",
    "import matplotlib.pyplot as plt \n",
    "import statsmodels.api as sm \n",
    "import scipy.stats as stats \n",
    "import warnings\n",
    "warnings.filterwarnings(\"ignore\")\n",
    "from collections import Counter"
   ]
  },
  {
   "cell_type": "code",
   "execution_count": 4,
   "metadata": {},
   "outputs": [
    {
     "name": "stdout",
     "output_type": "stream",
     "text": [
      "Requirement already satisfied: imbalanced-learn in c:\\users\\suman\\anaconda3\\lib\\site-packages (0.8.0)\n",
      "Requirement already satisfied: scipy>=0.19.1 in c:\\users\\suman\\anaconda3\\lib\\site-packages (from imbalanced-learn) (1.5.2)\n",
      "Requirement already satisfied: joblib>=0.11 in c:\\users\\suman\\anaconda3\\lib\\site-packages (from imbalanced-learn) (0.17.0)\n",
      "Requirement already satisfied: numpy>=1.13.3 in c:\\users\\suman\\anaconda3\\lib\\site-packages (from imbalanced-learn) (1.19.2)\n",
      "Requirement already satisfied: scikit-learn>=0.24 in c:\\users\\suman\\anaconda3\\lib\\site-packages (from imbalanced-learn) (0.24.1)\n",
      "Requirement already satisfied: threadpoolctl>=2.0.0 in c:\\users\\suman\\anaconda3\\lib\\site-packages (from scikit-learn>=0.24->imbalanced-learn) (2.1.0)\n",
      "Note: you may need to restart the kernel to use updated packages.\n"
     ]
    }
   ],
   "source": [
    "pip install imbalanced-learn"
   ]
  },
  {
   "cell_type": "code",
   "execution_count": 5,
   "metadata": {},
   "outputs": [
    {
     "data": {
      "text/html": [
       "<div>\n",
       "<style scoped>\n",
       "    .dataframe tbody tr th:only-of-type {\n",
       "        vertical-align: middle;\n",
       "    }\n",
       "\n",
       "    .dataframe tbody tr th {\n",
       "        vertical-align: top;\n",
       "    }\n",
       "\n",
       "    .dataframe thead th {\n",
       "        text-align: right;\n",
       "    }\n",
       "</style>\n",
       "<table border=\"1\" class=\"dataframe\">\n",
       "  <thead>\n",
       "    <tr style=\"text-align: right;\">\n",
       "      <th></th>\n",
       "      <th>Loan ID</th>\n",
       "      <th>Customer ID</th>\n",
       "      <th>Loan Status</th>\n",
       "      <th>Current Loan Amount</th>\n",
       "      <th>Term</th>\n",
       "      <th>Credit Score</th>\n",
       "      <th>Annual Income</th>\n",
       "      <th>Years in current job</th>\n",
       "      <th>Home Ownership</th>\n",
       "      <th>Purpose</th>\n",
       "      <th>Monthly Debt</th>\n",
       "      <th>Years of Credit History</th>\n",
       "      <th>Months since last delinquent</th>\n",
       "      <th>Number of Open Accounts</th>\n",
       "      <th>Number of Credit Problems</th>\n",
       "      <th>Current Credit Balance</th>\n",
       "      <th>Maximum Open Credit</th>\n",
       "      <th>Bankruptcies</th>\n",
       "      <th>Tax Liens</th>\n",
       "    </tr>\n",
       "  </thead>\n",
       "  <tbody>\n",
       "    <tr>\n",
       "      <th>0</th>\n",
       "      <td>14dd8831-6af5-400b-83ec-68e61888a048</td>\n",
       "      <td>981165ec-3274-42f5-a3b4-d104041a9ca9</td>\n",
       "      <td>Fully Paid</td>\n",
       "      <td>445412.0</td>\n",
       "      <td>Short Term</td>\n",
       "      <td>709.0</td>\n",
       "      <td>1167493.0</td>\n",
       "      <td>8 years</td>\n",
       "      <td>Home Mortgage</td>\n",
       "      <td>Home Improvements</td>\n",
       "      <td>5214.74</td>\n",
       "      <td>17.2</td>\n",
       "      <td>NaN</td>\n",
       "      <td>6.0</td>\n",
       "      <td>1.0</td>\n",
       "      <td>228190.0</td>\n",
       "      <td>416746.0</td>\n",
       "      <td>1.0</td>\n",
       "      <td>0.0</td>\n",
       "    </tr>\n",
       "    <tr>\n",
       "      <th>1</th>\n",
       "      <td>4771cc26-131a-45db-b5aa-537ea4ba5342</td>\n",
       "      <td>2de017a3-2e01-49cb-a581-08169e83be29</td>\n",
       "      <td>Fully Paid</td>\n",
       "      <td>262328.0</td>\n",
       "      <td>Short Term</td>\n",
       "      <td>NaN</td>\n",
       "      <td>NaN</td>\n",
       "      <td>10+ years</td>\n",
       "      <td>Home Mortgage</td>\n",
       "      <td>Debt Consolidation</td>\n",
       "      <td>33295.98</td>\n",
       "      <td>21.1</td>\n",
       "      <td>8.0</td>\n",
       "      <td>35.0</td>\n",
       "      <td>0.0</td>\n",
       "      <td>229976.0</td>\n",
       "      <td>850784.0</td>\n",
       "      <td>0.0</td>\n",
       "      <td>0.0</td>\n",
       "    </tr>\n",
       "    <tr>\n",
       "      <th>2</th>\n",
       "      <td>4eed4e6a-aa2f-4c91-8651-ce984ee8fb26</td>\n",
       "      <td>5efb2b2b-bf11-4dfd-a572-3761a2694725</td>\n",
       "      <td>Fully Paid</td>\n",
       "      <td>99999999.0</td>\n",
       "      <td>Short Term</td>\n",
       "      <td>741.0</td>\n",
       "      <td>2231892.0</td>\n",
       "      <td>8 years</td>\n",
       "      <td>Own Home</td>\n",
       "      <td>Debt Consolidation</td>\n",
       "      <td>29200.53</td>\n",
       "      <td>14.9</td>\n",
       "      <td>29.0</td>\n",
       "      <td>18.0</td>\n",
       "      <td>1.0</td>\n",
       "      <td>297996.0</td>\n",
       "      <td>750090.0</td>\n",
       "      <td>0.0</td>\n",
       "      <td>0.0</td>\n",
       "    </tr>\n",
       "    <tr>\n",
       "      <th>3</th>\n",
       "      <td>77598f7b-32e7-4e3b-a6e5-06ba0d98fe8a</td>\n",
       "      <td>e777faab-98ae-45af-9a86-7ce5b33b1011</td>\n",
       "      <td>Fully Paid</td>\n",
       "      <td>347666.0</td>\n",
       "      <td>Long Term</td>\n",
       "      <td>721.0</td>\n",
       "      <td>806949.0</td>\n",
       "      <td>3 years</td>\n",
       "      <td>Own Home</td>\n",
       "      <td>Debt Consolidation</td>\n",
       "      <td>8741.90</td>\n",
       "      <td>12.0</td>\n",
       "      <td>NaN</td>\n",
       "      <td>9.0</td>\n",
       "      <td>0.0</td>\n",
       "      <td>256329.0</td>\n",
       "      <td>386958.0</td>\n",
       "      <td>0.0</td>\n",
       "      <td>0.0</td>\n",
       "    </tr>\n",
       "    <tr>\n",
       "      <th>4</th>\n",
       "      <td>d4062e70-befa-4995-8643-a0de73938182</td>\n",
       "      <td>81536ad9-5ccf-4eb8-befb-47a4d608658e</td>\n",
       "      <td>Fully Paid</td>\n",
       "      <td>176220.0</td>\n",
       "      <td>Short Term</td>\n",
       "      <td>NaN</td>\n",
       "      <td>NaN</td>\n",
       "      <td>5 years</td>\n",
       "      <td>Rent</td>\n",
       "      <td>Debt Consolidation</td>\n",
       "      <td>20639.70</td>\n",
       "      <td>6.1</td>\n",
       "      <td>NaN</td>\n",
       "      <td>15.0</td>\n",
       "      <td>0.0</td>\n",
       "      <td>253460.0</td>\n",
       "      <td>427174.0</td>\n",
       "      <td>0.0</td>\n",
       "      <td>0.0</td>\n",
       "    </tr>\n",
       "  </tbody>\n",
       "</table>\n",
       "</div>"
      ],
      "text/plain": [
       "                                Loan ID                           Customer ID  \\\n",
       "0  14dd8831-6af5-400b-83ec-68e61888a048  981165ec-3274-42f5-a3b4-d104041a9ca9   \n",
       "1  4771cc26-131a-45db-b5aa-537ea4ba5342  2de017a3-2e01-49cb-a581-08169e83be29   \n",
       "2  4eed4e6a-aa2f-4c91-8651-ce984ee8fb26  5efb2b2b-bf11-4dfd-a572-3761a2694725   \n",
       "3  77598f7b-32e7-4e3b-a6e5-06ba0d98fe8a  e777faab-98ae-45af-9a86-7ce5b33b1011   \n",
       "4  d4062e70-befa-4995-8643-a0de73938182  81536ad9-5ccf-4eb8-befb-47a4d608658e   \n",
       "\n",
       "  Loan Status  Current Loan Amount        Term  Credit Score  Annual Income  \\\n",
       "0  Fully Paid             445412.0  Short Term         709.0      1167493.0   \n",
       "1  Fully Paid             262328.0  Short Term           NaN            NaN   \n",
       "2  Fully Paid           99999999.0  Short Term         741.0      2231892.0   \n",
       "3  Fully Paid             347666.0   Long Term         721.0       806949.0   \n",
       "4  Fully Paid             176220.0  Short Term           NaN            NaN   \n",
       "\n",
       "  Years in current job Home Ownership             Purpose  Monthly Debt  \\\n",
       "0              8 years  Home Mortgage   Home Improvements       5214.74   \n",
       "1            10+ years  Home Mortgage  Debt Consolidation      33295.98   \n",
       "2              8 years       Own Home  Debt Consolidation      29200.53   \n",
       "3              3 years       Own Home  Debt Consolidation       8741.90   \n",
       "4              5 years           Rent  Debt Consolidation      20639.70   \n",
       "\n",
       "   Years of Credit History  Months since last delinquent  \\\n",
       "0                     17.2                           NaN   \n",
       "1                     21.1                           8.0   \n",
       "2                     14.9                          29.0   \n",
       "3                     12.0                           NaN   \n",
       "4                      6.1                           NaN   \n",
       "\n",
       "   Number of Open Accounts  Number of Credit Problems  Current Credit Balance  \\\n",
       "0                      6.0                        1.0                228190.0   \n",
       "1                     35.0                        0.0                229976.0   \n",
       "2                     18.0                        1.0                297996.0   \n",
       "3                      9.0                        0.0                256329.0   \n",
       "4                     15.0                        0.0                253460.0   \n",
       "\n",
       "   Maximum Open Credit  Bankruptcies  Tax Liens  \n",
       "0             416746.0           1.0        0.0  \n",
       "1             850784.0           0.0        0.0  \n",
       "2             750090.0           0.0        0.0  \n",
       "3             386958.0           0.0        0.0  \n",
       "4             427174.0           0.0        0.0  "
      ]
     },
     "execution_count": 5,
     "metadata": {},
     "output_type": "execute_result"
    }
   ],
   "source": [
    "df1=pd.read_csv('credit_train.csv')\n",
    "pd.options.display.max_colwidth =500\n",
    "pd.options.display.max_rows =500\n",
    "df1.head()"
   ]
  },
  {
   "cell_type": "code",
   "execution_count": 6,
   "metadata": {},
   "outputs": [
    {
     "data": {
      "text/plain": [
       "(100514, 19)"
      ]
     },
     "execution_count": 6,
     "metadata": {},
     "output_type": "execute_result"
    }
   ],
   "source": [
    "df1.shape"
   ]
  },
  {
   "cell_type": "code",
   "execution_count": 7,
   "metadata": {},
   "outputs": [
    {
     "data": {
      "text/html": [
       "<div>\n",
       "<style scoped>\n",
       "    .dataframe tbody tr th:only-of-type {\n",
       "        vertical-align: middle;\n",
       "    }\n",
       "\n",
       "    .dataframe tbody tr th {\n",
       "        vertical-align: top;\n",
       "    }\n",
       "\n",
       "    .dataframe thead th {\n",
       "        text-align: right;\n",
       "    }\n",
       "</style>\n",
       "<table border=\"1\" class=\"dataframe\">\n",
       "  <thead>\n",
       "    <tr style=\"text-align: right;\">\n",
       "      <th></th>\n",
       "      <th>Loan ID</th>\n",
       "      <th>Customer ID</th>\n",
       "      <th>Current Loan Amount</th>\n",
       "      <th>Term</th>\n",
       "      <th>Credit Score</th>\n",
       "      <th>Annual Income</th>\n",
       "      <th>Years in current job</th>\n",
       "      <th>Home Ownership</th>\n",
       "      <th>Purpose</th>\n",
       "      <th>Monthly Debt</th>\n",
       "      <th>Years of Credit History</th>\n",
       "      <th>Months since last delinquent</th>\n",
       "      <th>Number of Open Accounts</th>\n",
       "      <th>Number of Credit Problems</th>\n",
       "      <th>Current Credit Balance</th>\n",
       "      <th>Maximum Open Credit</th>\n",
       "      <th>Bankruptcies</th>\n",
       "      <th>Tax Liens</th>\n",
       "    </tr>\n",
       "  </thead>\n",
       "  <tbody>\n",
       "    <tr>\n",
       "      <th>0</th>\n",
       "      <td>f738779f-c726-40dc-92cf-689d73af533d</td>\n",
       "      <td>ded0b3c3-6bf4-4091-8726-47039f2c1b90</td>\n",
       "      <td>611314.0</td>\n",
       "      <td>Short Term</td>\n",
       "      <td>747.0</td>\n",
       "      <td>2074116.0</td>\n",
       "      <td>10+ years</td>\n",
       "      <td>Home Mortgage</td>\n",
       "      <td>Debt Consolidation</td>\n",
       "      <td>42000.83</td>\n",
       "      <td>21.8</td>\n",
       "      <td>NaN</td>\n",
       "      <td>9.0</td>\n",
       "      <td>0.0</td>\n",
       "      <td>621908.0</td>\n",
       "      <td>1058970.0</td>\n",
       "      <td>0.0</td>\n",
       "      <td>0.0</td>\n",
       "    </tr>\n",
       "    <tr>\n",
       "      <th>1</th>\n",
       "      <td>6dcc0947-164d-476c-a1de-3ae7283dde0a</td>\n",
       "      <td>1630e6e3-34e3-461a-8fda-09297d3140c8</td>\n",
       "      <td>266662.0</td>\n",
       "      <td>Short Term</td>\n",
       "      <td>734.0</td>\n",
       "      <td>1919190.0</td>\n",
       "      <td>10+ years</td>\n",
       "      <td>Home Mortgage</td>\n",
       "      <td>Debt Consolidation</td>\n",
       "      <td>36624.40</td>\n",
       "      <td>19.4</td>\n",
       "      <td>NaN</td>\n",
       "      <td>11.0</td>\n",
       "      <td>0.0</td>\n",
       "      <td>679573.0</td>\n",
       "      <td>904442.0</td>\n",
       "      <td>0.0</td>\n",
       "      <td>0.0</td>\n",
       "    </tr>\n",
       "    <tr>\n",
       "      <th>2</th>\n",
       "      <td>f7744d01-894b-49c3-8777-fc6431a2cff1</td>\n",
       "      <td>2c60938b-ad2b-4702-804d-eeca43949c52</td>\n",
       "      <td>153494.0</td>\n",
       "      <td>Short Term</td>\n",
       "      <td>709.0</td>\n",
       "      <td>871112.0</td>\n",
       "      <td>2 years</td>\n",
       "      <td>Rent</td>\n",
       "      <td>Debt Consolidation</td>\n",
       "      <td>8391.73</td>\n",
       "      <td>12.5</td>\n",
       "      <td>10.0</td>\n",
       "      <td>10.0</td>\n",
       "      <td>0.0</td>\n",
       "      <td>38532.0</td>\n",
       "      <td>388036.0</td>\n",
       "      <td>0.0</td>\n",
       "      <td>0.0</td>\n",
       "    </tr>\n",
       "    <tr>\n",
       "      <th>3</th>\n",
       "      <td>83721ffb-b99a-4a0f-aea5-ef472a138b41</td>\n",
       "      <td>12116614-2f3c-4d16-ad34-d92883718806</td>\n",
       "      <td>176242.0</td>\n",
       "      <td>Short Term</td>\n",
       "      <td>727.0</td>\n",
       "      <td>780083.0</td>\n",
       "      <td>10+ years</td>\n",
       "      <td>Rent</td>\n",
       "      <td>Debt Consolidation</td>\n",
       "      <td>16771.87</td>\n",
       "      <td>16.5</td>\n",
       "      <td>27.0</td>\n",
       "      <td>16.0</td>\n",
       "      <td>1.0</td>\n",
       "      <td>156940.0</td>\n",
       "      <td>531322.0</td>\n",
       "      <td>1.0</td>\n",
       "      <td>0.0</td>\n",
       "    </tr>\n",
       "    <tr>\n",
       "      <th>4</th>\n",
       "      <td>08f3789f-5714-4b10-929d-e1527ab5e5a3</td>\n",
       "      <td>39888105-fd5f-4023-860a-30a3e6f5ccb7</td>\n",
       "      <td>321992.0</td>\n",
       "      <td>Short Term</td>\n",
       "      <td>744.0</td>\n",
       "      <td>1761148.0</td>\n",
       "      <td>10+ years</td>\n",
       "      <td>Home Mortgage</td>\n",
       "      <td>Debt Consolidation</td>\n",
       "      <td>39478.77</td>\n",
       "      <td>26.0</td>\n",
       "      <td>44.0</td>\n",
       "      <td>14.0</td>\n",
       "      <td>0.0</td>\n",
       "      <td>359765.0</td>\n",
       "      <td>468072.0</td>\n",
       "      <td>0.0</td>\n",
       "      <td>0.0</td>\n",
       "    </tr>\n",
       "  </tbody>\n",
       "</table>\n",
       "</div>"
      ],
      "text/plain": [
       "                                Loan ID                           Customer ID  \\\n",
       "0  f738779f-c726-40dc-92cf-689d73af533d  ded0b3c3-6bf4-4091-8726-47039f2c1b90   \n",
       "1  6dcc0947-164d-476c-a1de-3ae7283dde0a  1630e6e3-34e3-461a-8fda-09297d3140c8   \n",
       "2  f7744d01-894b-49c3-8777-fc6431a2cff1  2c60938b-ad2b-4702-804d-eeca43949c52   \n",
       "3  83721ffb-b99a-4a0f-aea5-ef472a138b41  12116614-2f3c-4d16-ad34-d92883718806   \n",
       "4  08f3789f-5714-4b10-929d-e1527ab5e5a3  39888105-fd5f-4023-860a-30a3e6f5ccb7   \n",
       "\n",
       "   Current Loan Amount        Term  Credit Score  Annual Income  \\\n",
       "0             611314.0  Short Term         747.0      2074116.0   \n",
       "1             266662.0  Short Term         734.0      1919190.0   \n",
       "2             153494.0  Short Term         709.0       871112.0   \n",
       "3             176242.0  Short Term         727.0       780083.0   \n",
       "4             321992.0  Short Term         744.0      1761148.0   \n",
       "\n",
       "  Years in current job Home Ownership             Purpose  Monthly Debt  \\\n",
       "0            10+ years  Home Mortgage  Debt Consolidation      42000.83   \n",
       "1            10+ years  Home Mortgage  Debt Consolidation      36624.40   \n",
       "2              2 years           Rent  Debt Consolidation       8391.73   \n",
       "3            10+ years           Rent  Debt Consolidation      16771.87   \n",
       "4            10+ years  Home Mortgage  Debt Consolidation      39478.77   \n",
       "\n",
       "   Years of Credit History  Months since last delinquent  \\\n",
       "0                     21.8                           NaN   \n",
       "1                     19.4                           NaN   \n",
       "2                     12.5                          10.0   \n",
       "3                     16.5                          27.0   \n",
       "4                     26.0                          44.0   \n",
       "\n",
       "   Number of Open Accounts  Number of Credit Problems  Current Credit Balance  \\\n",
       "0                      9.0                        0.0                621908.0   \n",
       "1                     11.0                        0.0                679573.0   \n",
       "2                     10.0                        0.0                 38532.0   \n",
       "3                     16.0                        1.0                156940.0   \n",
       "4                     14.0                        0.0                359765.0   \n",
       "\n",
       "   Maximum Open Credit  Bankruptcies  Tax Liens  \n",
       "0            1058970.0           0.0        0.0  \n",
       "1             904442.0           0.0        0.0  \n",
       "2             388036.0           0.0        0.0  \n",
       "3             531322.0           1.0        0.0  \n",
       "4             468072.0           0.0        0.0  "
      ]
     },
     "execution_count": 7,
     "metadata": {},
     "output_type": "execute_result"
    }
   ],
   "source": [
    "df2=pd.read_csv('credit_test.csv')\n",
    "pd.options.display.max_colwidth =500\n",
    "pd.options.display.max_rows =500\n",
    "df2.head()"
   ]
  },
  {
   "cell_type": "code",
   "execution_count": 8,
   "metadata": {},
   "outputs": [
    {
     "data": {
      "text/plain": [
       "(10353, 18)"
      ]
     },
     "execution_count": 8,
     "metadata": {},
     "output_type": "execute_result"
    }
   ],
   "source": [
    "df2.shape"
   ]
  },
  {
   "cell_type": "code",
   "execution_count": 9,
   "metadata": {},
   "outputs": [
    {
     "data": {
      "text/html": [
       "<div>\n",
       "<style scoped>\n",
       "    .dataframe tbody tr th:only-of-type {\n",
       "        vertical-align: middle;\n",
       "    }\n",
       "\n",
       "    .dataframe tbody tr th {\n",
       "        vertical-align: top;\n",
       "    }\n",
       "\n",
       "    .dataframe thead th {\n",
       "        text-align: right;\n",
       "    }\n",
       "</style>\n",
       "<table border=\"1\" class=\"dataframe\">\n",
       "  <thead>\n",
       "    <tr style=\"text-align: right;\">\n",
       "      <th></th>\n",
       "      <th>Current Loan Amount</th>\n",
       "      <th>Credit Score</th>\n",
       "      <th>Annual Income</th>\n",
       "      <th>Monthly Debt</th>\n",
       "      <th>Years of Credit History</th>\n",
       "      <th>Months since last delinquent</th>\n",
       "      <th>Number of Open Accounts</th>\n",
       "      <th>Number of Credit Problems</th>\n",
       "      <th>Current Credit Balance</th>\n",
       "      <th>Maximum Open Credit</th>\n",
       "      <th>Bankruptcies</th>\n",
       "      <th>Tax Liens</th>\n",
       "    </tr>\n",
       "  </thead>\n",
       "  <tbody>\n",
       "    <tr>\n",
       "      <th>count</th>\n",
       "      <td>1.000000e+05</td>\n",
       "      <td>80846.000000</td>\n",
       "      <td>8.084600e+04</td>\n",
       "      <td>100000.000000</td>\n",
       "      <td>100000.000000</td>\n",
       "      <td>46859.000000</td>\n",
       "      <td>100000.00000</td>\n",
       "      <td>100000.000000</td>\n",
       "      <td>1.000000e+05</td>\n",
       "      <td>9.999800e+04</td>\n",
       "      <td>99796.000000</td>\n",
       "      <td>99990.000000</td>\n",
       "    </tr>\n",
       "    <tr>\n",
       "      <th>mean</th>\n",
       "      <td>1.176045e+07</td>\n",
       "      <td>1076.456089</td>\n",
       "      <td>1.378277e+06</td>\n",
       "      <td>18472.412336</td>\n",
       "      <td>18.199141</td>\n",
       "      <td>34.901321</td>\n",
       "      <td>11.12853</td>\n",
       "      <td>0.168310</td>\n",
       "      <td>2.946374e+05</td>\n",
       "      <td>7.607984e+05</td>\n",
       "      <td>0.117740</td>\n",
       "      <td>0.029313</td>\n",
       "    </tr>\n",
       "    <tr>\n",
       "      <th>std</th>\n",
       "      <td>3.178394e+07</td>\n",
       "      <td>1475.403791</td>\n",
       "      <td>1.081360e+06</td>\n",
       "      <td>12174.992609</td>\n",
       "      <td>7.015324</td>\n",
       "      <td>21.997829</td>\n",
       "      <td>5.00987</td>\n",
       "      <td>0.482705</td>\n",
       "      <td>3.761709e+05</td>\n",
       "      <td>8.384503e+06</td>\n",
       "      <td>0.351424</td>\n",
       "      <td>0.258182</td>\n",
       "    </tr>\n",
       "    <tr>\n",
       "      <th>min</th>\n",
       "      <td>1.080200e+04</td>\n",
       "      <td>585.000000</td>\n",
       "      <td>7.662700e+04</td>\n",
       "      <td>0.000000</td>\n",
       "      <td>3.600000</td>\n",
       "      <td>0.000000</td>\n",
       "      <td>0.00000</td>\n",
       "      <td>0.000000</td>\n",
       "      <td>0.000000e+00</td>\n",
       "      <td>0.000000e+00</td>\n",
       "      <td>0.000000</td>\n",
       "      <td>0.000000</td>\n",
       "    </tr>\n",
       "    <tr>\n",
       "      <th>25%</th>\n",
       "      <td>1.796520e+05</td>\n",
       "      <td>705.000000</td>\n",
       "      <td>8.488440e+05</td>\n",
       "      <td>10214.162500</td>\n",
       "      <td>13.500000</td>\n",
       "      <td>16.000000</td>\n",
       "      <td>8.00000</td>\n",
       "      <td>0.000000</td>\n",
       "      <td>1.126700e+05</td>\n",
       "      <td>2.734380e+05</td>\n",
       "      <td>0.000000</td>\n",
       "      <td>0.000000</td>\n",
       "    </tr>\n",
       "    <tr>\n",
       "      <th>50%</th>\n",
       "      <td>3.122460e+05</td>\n",
       "      <td>724.000000</td>\n",
       "      <td>1.174162e+06</td>\n",
       "      <td>16220.300000</td>\n",
       "      <td>16.900000</td>\n",
       "      <td>32.000000</td>\n",
       "      <td>10.00000</td>\n",
       "      <td>0.000000</td>\n",
       "      <td>2.098170e+05</td>\n",
       "      <td>4.678740e+05</td>\n",
       "      <td>0.000000</td>\n",
       "      <td>0.000000</td>\n",
       "    </tr>\n",
       "    <tr>\n",
       "      <th>75%</th>\n",
       "      <td>5.249420e+05</td>\n",
       "      <td>741.000000</td>\n",
       "      <td>1.650663e+06</td>\n",
       "      <td>24012.057500</td>\n",
       "      <td>21.700000</td>\n",
       "      <td>51.000000</td>\n",
       "      <td>14.00000</td>\n",
       "      <td>0.000000</td>\n",
       "      <td>3.679588e+05</td>\n",
       "      <td>7.829580e+05</td>\n",
       "      <td>0.000000</td>\n",
       "      <td>0.000000</td>\n",
       "    </tr>\n",
       "    <tr>\n",
       "      <th>max</th>\n",
       "      <td>1.000000e+08</td>\n",
       "      <td>7510.000000</td>\n",
       "      <td>1.655574e+08</td>\n",
       "      <td>435843.280000</td>\n",
       "      <td>70.500000</td>\n",
       "      <td>176.000000</td>\n",
       "      <td>76.00000</td>\n",
       "      <td>15.000000</td>\n",
       "      <td>3.287897e+07</td>\n",
       "      <td>1.539738e+09</td>\n",
       "      <td>7.000000</td>\n",
       "      <td>15.000000</td>\n",
       "    </tr>\n",
       "  </tbody>\n",
       "</table>\n",
       "</div>"
      ],
      "text/plain": [
       "       Current Loan Amount  Credit Score  Annual Income   Monthly Debt  \\\n",
       "count         1.000000e+05  80846.000000   8.084600e+04  100000.000000   \n",
       "mean          1.176045e+07   1076.456089   1.378277e+06   18472.412336   \n",
       "std           3.178394e+07   1475.403791   1.081360e+06   12174.992609   \n",
       "min           1.080200e+04    585.000000   7.662700e+04       0.000000   \n",
       "25%           1.796520e+05    705.000000   8.488440e+05   10214.162500   \n",
       "50%           3.122460e+05    724.000000   1.174162e+06   16220.300000   \n",
       "75%           5.249420e+05    741.000000   1.650663e+06   24012.057500   \n",
       "max           1.000000e+08   7510.000000   1.655574e+08  435843.280000   \n",
       "\n",
       "       Years of Credit History  Months since last delinquent  \\\n",
       "count            100000.000000                  46859.000000   \n",
       "mean                 18.199141                     34.901321   \n",
       "std                   7.015324                     21.997829   \n",
       "min                   3.600000                      0.000000   \n",
       "25%                  13.500000                     16.000000   \n",
       "50%                  16.900000                     32.000000   \n",
       "75%                  21.700000                     51.000000   \n",
       "max                  70.500000                    176.000000   \n",
       "\n",
       "       Number of Open Accounts  Number of Credit Problems  \\\n",
       "count             100000.00000              100000.000000   \n",
       "mean                  11.12853                   0.168310   \n",
       "std                    5.00987                   0.482705   \n",
       "min                    0.00000                   0.000000   \n",
       "25%                    8.00000                   0.000000   \n",
       "50%                   10.00000                   0.000000   \n",
       "75%                   14.00000                   0.000000   \n",
       "max                   76.00000                  15.000000   \n",
       "\n",
       "       Current Credit Balance  Maximum Open Credit  Bankruptcies     Tax Liens  \n",
       "count            1.000000e+05         9.999800e+04  99796.000000  99990.000000  \n",
       "mean             2.946374e+05         7.607984e+05      0.117740      0.029313  \n",
       "std              3.761709e+05         8.384503e+06      0.351424      0.258182  \n",
       "min              0.000000e+00         0.000000e+00      0.000000      0.000000  \n",
       "25%              1.126700e+05         2.734380e+05      0.000000      0.000000  \n",
       "50%              2.098170e+05         4.678740e+05      0.000000      0.000000  \n",
       "75%              3.679588e+05         7.829580e+05      0.000000      0.000000  \n",
       "max              3.287897e+07         1.539738e+09      7.000000     15.000000  "
      ]
     },
     "execution_count": 9,
     "metadata": {},
     "output_type": "execute_result"
    }
   ],
   "source": [
    "df1.describe()"
   ]
  },
  {
   "cell_type": "code",
   "execution_count": 10,
   "metadata": {},
   "outputs": [
    {
     "name": "stdout",
     "output_type": "stream",
     "text": [
      "<class 'pandas.core.frame.DataFrame'>\n",
      "RangeIndex: 100514 entries, 0 to 100513\n",
      "Data columns (total 19 columns):\n",
      " #   Column                        Non-Null Count   Dtype  \n",
      "---  ------                        --------------   -----  \n",
      " 0   Loan ID                       100000 non-null  object \n",
      " 1   Customer ID                   100000 non-null  object \n",
      " 2   Loan Status                   100000 non-null  object \n",
      " 3   Current Loan Amount           100000 non-null  float64\n",
      " 4   Term                          100000 non-null  object \n",
      " 5   Credit Score                  80846 non-null   float64\n",
      " 6   Annual Income                 80846 non-null   float64\n",
      " 7   Years in current job          95778 non-null   object \n",
      " 8   Home Ownership                100000 non-null  object \n",
      " 9   Purpose                       100000 non-null  object \n",
      " 10  Monthly Debt                  100000 non-null  float64\n",
      " 11  Years of Credit History       100000 non-null  float64\n",
      " 12  Months since last delinquent  46859 non-null   float64\n",
      " 13  Number of Open Accounts       100000 non-null  float64\n",
      " 14  Number of Credit Problems     100000 non-null  float64\n",
      " 15  Current Credit Balance        100000 non-null  float64\n",
      " 16  Maximum Open Credit           99998 non-null   float64\n",
      " 17  Bankruptcies                  99796 non-null   float64\n",
      " 18  Tax Liens                     99990 non-null   float64\n",
      "dtypes: float64(12), object(7)\n",
      "memory usage: 14.6+ MB\n"
     ]
    }
   ],
   "source": [
    "df1.info()"
   ]
  },
  {
   "cell_type": "markdown",
   "metadata": {},
   "source": [
    "### Treatment of Features"
   ]
  },
  {
   "cell_type": "code",
   "execution_count": 11,
   "metadata": {},
   "outputs": [],
   "source": [
    "# These two features are only for identification.Hence dropping these . \n",
    "df1.drop(labels=['Loan ID', 'Customer ID'], axis=1, inplace=True)"
   ]
  },
  {
   "cell_type": "code",
   "execution_count": 12,
   "metadata": {},
   "outputs": [
    {
     "data": {
      "text/html": [
       "<div>\n",
       "<style scoped>\n",
       "    .dataframe tbody tr th:only-of-type {\n",
       "        vertical-align: middle;\n",
       "    }\n",
       "\n",
       "    .dataframe tbody tr th {\n",
       "        vertical-align: top;\n",
       "    }\n",
       "\n",
       "    .dataframe thead th {\n",
       "        text-align: right;\n",
       "    }\n",
       "</style>\n",
       "<table border=\"1\" class=\"dataframe\">\n",
       "  <thead>\n",
       "    <tr style=\"text-align: right;\">\n",
       "      <th></th>\n",
       "      <th>Missing_Count</th>\n",
       "      <th>Percentage</th>\n",
       "    </tr>\n",
       "  </thead>\n",
       "  <tbody>\n",
       "    <tr>\n",
       "      <th>Loan Status</th>\n",
       "      <td>514</td>\n",
       "      <td>0.511372</td>\n",
       "    </tr>\n",
       "    <tr>\n",
       "      <th>Current Loan Amount</th>\n",
       "      <td>514</td>\n",
       "      <td>0.511372</td>\n",
       "    </tr>\n",
       "    <tr>\n",
       "      <th>Term</th>\n",
       "      <td>514</td>\n",
       "      <td>0.511372</td>\n",
       "    </tr>\n",
       "    <tr>\n",
       "      <th>Credit Score</th>\n",
       "      <td>19668</td>\n",
       "      <td>19.567423</td>\n",
       "    </tr>\n",
       "    <tr>\n",
       "      <th>Annual Income</th>\n",
       "      <td>19668</td>\n",
       "      <td>19.567423</td>\n",
       "    </tr>\n",
       "    <tr>\n",
       "      <th>Years in current job</th>\n",
       "      <td>4736</td>\n",
       "      <td>4.711781</td>\n",
       "    </tr>\n",
       "    <tr>\n",
       "      <th>Home Ownership</th>\n",
       "      <td>514</td>\n",
       "      <td>0.511372</td>\n",
       "    </tr>\n",
       "    <tr>\n",
       "      <th>Purpose</th>\n",
       "      <td>514</td>\n",
       "      <td>0.511372</td>\n",
       "    </tr>\n",
       "    <tr>\n",
       "      <th>Monthly Debt</th>\n",
       "      <td>514</td>\n",
       "      <td>0.511372</td>\n",
       "    </tr>\n",
       "    <tr>\n",
       "      <th>Years of Credit History</th>\n",
       "      <td>514</td>\n",
       "      <td>0.511372</td>\n",
       "    </tr>\n",
       "    <tr>\n",
       "      <th>Months since last delinquent</th>\n",
       "      <td>53655</td>\n",
       "      <td>53.380624</td>\n",
       "    </tr>\n",
       "    <tr>\n",
       "      <th>Number of Open Accounts</th>\n",
       "      <td>514</td>\n",
       "      <td>0.511372</td>\n",
       "    </tr>\n",
       "    <tr>\n",
       "      <th>Number of Credit Problems</th>\n",
       "      <td>514</td>\n",
       "      <td>0.511372</td>\n",
       "    </tr>\n",
       "    <tr>\n",
       "      <th>Current Credit Balance</th>\n",
       "      <td>514</td>\n",
       "      <td>0.511372</td>\n",
       "    </tr>\n",
       "    <tr>\n",
       "      <th>Maximum Open Credit</th>\n",
       "      <td>516</td>\n",
       "      <td>0.513361</td>\n",
       "    </tr>\n",
       "    <tr>\n",
       "      <th>Bankruptcies</th>\n",
       "      <td>718</td>\n",
       "      <td>0.714328</td>\n",
       "    </tr>\n",
       "    <tr>\n",
       "      <th>Tax Liens</th>\n",
       "      <td>524</td>\n",
       "      <td>0.521320</td>\n",
       "    </tr>\n",
       "  </tbody>\n",
       "</table>\n",
       "</div>"
      ],
      "text/plain": [
       "                              Missing_Count  Percentage\n",
       "Loan Status                             514    0.511372\n",
       "Current Loan Amount                     514    0.511372\n",
       "Term                                    514    0.511372\n",
       "Credit Score                          19668   19.567423\n",
       "Annual Income                         19668   19.567423\n",
       "Years in current job                   4736    4.711781\n",
       "Home Ownership                          514    0.511372\n",
       "Purpose                                 514    0.511372\n",
       "Monthly Debt                            514    0.511372\n",
       "Years of Credit History                 514    0.511372\n",
       "Months since last delinquent          53655   53.380624\n",
       "Number of Open Accounts                 514    0.511372\n",
       "Number of Credit Problems               514    0.511372\n",
       "Current Credit Balance                  514    0.511372\n",
       "Maximum Open Credit                     516    0.513361\n",
       "Bankruptcies                            718    0.714328\n",
       "Tax Liens                               524    0.521320"
      ]
     },
     "execution_count": 12,
     "metadata": {},
     "output_type": "execute_result"
    }
   ],
   "source": [
    "#Calculating missing values by column\n",
    "mis_val = df1.isnull().sum()\n",
    "mis_val_percent = 100 * (df1.isnull().sum() / len(df1))\n",
    "# Making a table with the results\n",
    "mis_val_df = pd.concat([mis_val, mis_val_percent], axis=1 )\n",
    "mis_val_df.rename(columns = {0:'Missing_Count',1:'Percentage'}, inplace = True)\n",
    "mis_val_df"
   ]
  },
  {
   "cell_type": "code",
   "execution_count": 13,
   "metadata": {},
   "outputs": [],
   "source": [
    "# Drop the columns with > 50% missing\n",
    "df1.drop(columns = 'Months since last delinquent', axis=1, inplace=True)"
   ]
  },
  {
   "cell_type": "code",
   "execution_count": 14,
   "metadata": {},
   "outputs": [
    {
     "data": {
      "text/html": [
       "<div>\n",
       "<style scoped>\n",
       "    .dataframe tbody tr th:only-of-type {\n",
       "        vertical-align: middle;\n",
       "    }\n",
       "\n",
       "    .dataframe tbody tr th {\n",
       "        vertical-align: top;\n",
       "    }\n",
       "\n",
       "    .dataframe thead th {\n",
       "        text-align: right;\n",
       "    }\n",
       "</style>\n",
       "<table border=\"1\" class=\"dataframe\">\n",
       "  <thead>\n",
       "    <tr style=\"text-align: right;\">\n",
       "      <th></th>\n",
       "      <th>Loan Status</th>\n",
       "      <th>Current Loan Amount</th>\n",
       "      <th>Term</th>\n",
       "      <th>Credit Score</th>\n",
       "      <th>Annual Income</th>\n",
       "      <th>Years in current job</th>\n",
       "      <th>Home Ownership</th>\n",
       "      <th>Purpose</th>\n",
       "      <th>Monthly Debt</th>\n",
       "      <th>Years of Credit History</th>\n",
       "      <th>Number of Open Accounts</th>\n",
       "      <th>Number of Credit Problems</th>\n",
       "      <th>Current Credit Balance</th>\n",
       "      <th>Maximum Open Credit</th>\n",
       "      <th>Bankruptcies</th>\n",
       "      <th>Tax Liens</th>\n",
       "    </tr>\n",
       "  </thead>\n",
       "  <tbody>\n",
       "    <tr>\n",
       "      <th>100000</th>\n",
       "      <td>NaN</td>\n",
       "      <td>NaN</td>\n",
       "      <td>NaN</td>\n",
       "      <td>NaN</td>\n",
       "      <td>NaN</td>\n",
       "      <td>NaN</td>\n",
       "      <td>NaN</td>\n",
       "      <td>NaN</td>\n",
       "      <td>NaN</td>\n",
       "      <td>NaN</td>\n",
       "      <td>NaN</td>\n",
       "      <td>NaN</td>\n",
       "      <td>NaN</td>\n",
       "      <td>NaN</td>\n",
       "      <td>NaN</td>\n",
       "      <td>NaN</td>\n",
       "    </tr>\n",
       "    <tr>\n",
       "      <th>100001</th>\n",
       "      <td>NaN</td>\n",
       "      <td>NaN</td>\n",
       "      <td>NaN</td>\n",
       "      <td>NaN</td>\n",
       "      <td>NaN</td>\n",
       "      <td>NaN</td>\n",
       "      <td>NaN</td>\n",
       "      <td>NaN</td>\n",
       "      <td>NaN</td>\n",
       "      <td>NaN</td>\n",
       "      <td>NaN</td>\n",
       "      <td>NaN</td>\n",
       "      <td>NaN</td>\n",
       "      <td>NaN</td>\n",
       "      <td>NaN</td>\n",
       "      <td>NaN</td>\n",
       "    </tr>\n",
       "    <tr>\n",
       "      <th>100002</th>\n",
       "      <td>NaN</td>\n",
       "      <td>NaN</td>\n",
       "      <td>NaN</td>\n",
       "      <td>NaN</td>\n",
       "      <td>NaN</td>\n",
       "      <td>NaN</td>\n",
       "      <td>NaN</td>\n",
       "      <td>NaN</td>\n",
       "      <td>NaN</td>\n",
       "      <td>NaN</td>\n",
       "      <td>NaN</td>\n",
       "      <td>NaN</td>\n",
       "      <td>NaN</td>\n",
       "      <td>NaN</td>\n",
       "      <td>NaN</td>\n",
       "      <td>NaN</td>\n",
       "    </tr>\n",
       "    <tr>\n",
       "      <th>100003</th>\n",
       "      <td>NaN</td>\n",
       "      <td>NaN</td>\n",
       "      <td>NaN</td>\n",
       "      <td>NaN</td>\n",
       "      <td>NaN</td>\n",
       "      <td>NaN</td>\n",
       "      <td>NaN</td>\n",
       "      <td>NaN</td>\n",
       "      <td>NaN</td>\n",
       "      <td>NaN</td>\n",
       "      <td>NaN</td>\n",
       "      <td>NaN</td>\n",
       "      <td>NaN</td>\n",
       "      <td>NaN</td>\n",
       "      <td>NaN</td>\n",
       "      <td>NaN</td>\n",
       "    </tr>\n",
       "    <tr>\n",
       "      <th>100004</th>\n",
       "      <td>NaN</td>\n",
       "      <td>NaN</td>\n",
       "      <td>NaN</td>\n",
       "      <td>NaN</td>\n",
       "      <td>NaN</td>\n",
       "      <td>NaN</td>\n",
       "      <td>NaN</td>\n",
       "      <td>NaN</td>\n",
       "      <td>NaN</td>\n",
       "      <td>NaN</td>\n",
       "      <td>NaN</td>\n",
       "      <td>NaN</td>\n",
       "      <td>NaN</td>\n",
       "      <td>NaN</td>\n",
       "      <td>NaN</td>\n",
       "      <td>NaN</td>\n",
       "    </tr>\n",
       "    <tr>\n",
       "      <th>...</th>\n",
       "      <td>...</td>\n",
       "      <td>...</td>\n",
       "      <td>...</td>\n",
       "      <td>...</td>\n",
       "      <td>...</td>\n",
       "      <td>...</td>\n",
       "      <td>...</td>\n",
       "      <td>...</td>\n",
       "      <td>...</td>\n",
       "      <td>...</td>\n",
       "      <td>...</td>\n",
       "      <td>...</td>\n",
       "      <td>...</td>\n",
       "      <td>...</td>\n",
       "      <td>...</td>\n",
       "      <td>...</td>\n",
       "    </tr>\n",
       "    <tr>\n",
       "      <th>100509</th>\n",
       "      <td>NaN</td>\n",
       "      <td>NaN</td>\n",
       "      <td>NaN</td>\n",
       "      <td>NaN</td>\n",
       "      <td>NaN</td>\n",
       "      <td>NaN</td>\n",
       "      <td>NaN</td>\n",
       "      <td>NaN</td>\n",
       "      <td>NaN</td>\n",
       "      <td>NaN</td>\n",
       "      <td>NaN</td>\n",
       "      <td>NaN</td>\n",
       "      <td>NaN</td>\n",
       "      <td>NaN</td>\n",
       "      <td>NaN</td>\n",
       "      <td>NaN</td>\n",
       "    </tr>\n",
       "    <tr>\n",
       "      <th>100510</th>\n",
       "      <td>NaN</td>\n",
       "      <td>NaN</td>\n",
       "      <td>NaN</td>\n",
       "      <td>NaN</td>\n",
       "      <td>NaN</td>\n",
       "      <td>NaN</td>\n",
       "      <td>NaN</td>\n",
       "      <td>NaN</td>\n",
       "      <td>NaN</td>\n",
       "      <td>NaN</td>\n",
       "      <td>NaN</td>\n",
       "      <td>NaN</td>\n",
       "      <td>NaN</td>\n",
       "      <td>NaN</td>\n",
       "      <td>NaN</td>\n",
       "      <td>NaN</td>\n",
       "    </tr>\n",
       "    <tr>\n",
       "      <th>100511</th>\n",
       "      <td>NaN</td>\n",
       "      <td>NaN</td>\n",
       "      <td>NaN</td>\n",
       "      <td>NaN</td>\n",
       "      <td>NaN</td>\n",
       "      <td>NaN</td>\n",
       "      <td>NaN</td>\n",
       "      <td>NaN</td>\n",
       "      <td>NaN</td>\n",
       "      <td>NaN</td>\n",
       "      <td>NaN</td>\n",
       "      <td>NaN</td>\n",
       "      <td>NaN</td>\n",
       "      <td>NaN</td>\n",
       "      <td>NaN</td>\n",
       "      <td>NaN</td>\n",
       "    </tr>\n",
       "    <tr>\n",
       "      <th>100512</th>\n",
       "      <td>NaN</td>\n",
       "      <td>NaN</td>\n",
       "      <td>NaN</td>\n",
       "      <td>NaN</td>\n",
       "      <td>NaN</td>\n",
       "      <td>NaN</td>\n",
       "      <td>NaN</td>\n",
       "      <td>NaN</td>\n",
       "      <td>NaN</td>\n",
       "      <td>NaN</td>\n",
       "      <td>NaN</td>\n",
       "      <td>NaN</td>\n",
       "      <td>NaN</td>\n",
       "      <td>NaN</td>\n",
       "      <td>NaN</td>\n",
       "      <td>NaN</td>\n",
       "    </tr>\n",
       "    <tr>\n",
       "      <th>100513</th>\n",
       "      <td>NaN</td>\n",
       "      <td>NaN</td>\n",
       "      <td>NaN</td>\n",
       "      <td>NaN</td>\n",
       "      <td>NaN</td>\n",
       "      <td>NaN</td>\n",
       "      <td>NaN</td>\n",
       "      <td>NaN</td>\n",
       "      <td>NaN</td>\n",
       "      <td>NaN</td>\n",
       "      <td>NaN</td>\n",
       "      <td>NaN</td>\n",
       "      <td>NaN</td>\n",
       "      <td>NaN</td>\n",
       "      <td>NaN</td>\n",
       "      <td>NaN</td>\n",
       "    </tr>\n",
       "  </tbody>\n",
       "</table>\n",
       "<p>514 rows × 16 columns</p>\n",
       "</div>"
      ],
      "text/plain": [
       "       Loan Status  Current Loan Amount Term  Credit Score  Annual Income  \\\n",
       "100000         NaN                  NaN  NaN           NaN            NaN   \n",
       "100001         NaN                  NaN  NaN           NaN            NaN   \n",
       "100002         NaN                  NaN  NaN           NaN            NaN   \n",
       "100003         NaN                  NaN  NaN           NaN            NaN   \n",
       "100004         NaN                  NaN  NaN           NaN            NaN   \n",
       "...            ...                  ...  ...           ...            ...   \n",
       "100509         NaN                  NaN  NaN           NaN            NaN   \n",
       "100510         NaN                  NaN  NaN           NaN            NaN   \n",
       "100511         NaN                  NaN  NaN           NaN            NaN   \n",
       "100512         NaN                  NaN  NaN           NaN            NaN   \n",
       "100513         NaN                  NaN  NaN           NaN            NaN   \n",
       "\n",
       "       Years in current job Home Ownership Purpose  Monthly Debt  \\\n",
       "100000                  NaN            NaN     NaN           NaN   \n",
       "100001                  NaN            NaN     NaN           NaN   \n",
       "100002                  NaN            NaN     NaN           NaN   \n",
       "100003                  NaN            NaN     NaN           NaN   \n",
       "100004                  NaN            NaN     NaN           NaN   \n",
       "...                     ...            ...     ...           ...   \n",
       "100509                  NaN            NaN     NaN           NaN   \n",
       "100510                  NaN            NaN     NaN           NaN   \n",
       "100511                  NaN            NaN     NaN           NaN   \n",
       "100512                  NaN            NaN     NaN           NaN   \n",
       "100513                  NaN            NaN     NaN           NaN   \n",
       "\n",
       "        Years of Credit History  Number of Open Accounts  \\\n",
       "100000                      NaN                      NaN   \n",
       "100001                      NaN                      NaN   \n",
       "100002                      NaN                      NaN   \n",
       "100003                      NaN                      NaN   \n",
       "100004                      NaN                      NaN   \n",
       "...                         ...                      ...   \n",
       "100509                      NaN                      NaN   \n",
       "100510                      NaN                      NaN   \n",
       "100511                      NaN                      NaN   \n",
       "100512                      NaN                      NaN   \n",
       "100513                      NaN                      NaN   \n",
       "\n",
       "        Number of Credit Problems  Current Credit Balance  \\\n",
       "100000                        NaN                     NaN   \n",
       "100001                        NaN                     NaN   \n",
       "100002                        NaN                     NaN   \n",
       "100003                        NaN                     NaN   \n",
       "100004                        NaN                     NaN   \n",
       "...                           ...                     ...   \n",
       "100509                        NaN                     NaN   \n",
       "100510                        NaN                     NaN   \n",
       "100511                        NaN                     NaN   \n",
       "100512                        NaN                     NaN   \n",
       "100513                        NaN                     NaN   \n",
       "\n",
       "        Maximum Open Credit  Bankruptcies  Tax Liens  \n",
       "100000                  NaN           NaN        NaN  \n",
       "100001                  NaN           NaN        NaN  \n",
       "100002                  NaN           NaN        NaN  \n",
       "100003                  NaN           NaN        NaN  \n",
       "100004                  NaN           NaN        NaN  \n",
       "...                     ...           ...        ...  \n",
       "100509                  NaN           NaN        NaN  \n",
       "100510                  NaN           NaN        NaN  \n",
       "100511                  NaN           NaN        NaN  \n",
       "100512                  NaN           NaN        NaN  \n",
       "100513                  NaN           NaN        NaN  \n",
       "\n",
       "[514 rows x 16 columns]"
      ]
     },
     "execution_count": 14,
     "metadata": {},
     "output_type": "execute_result"
    }
   ],
   "source": [
    "# Checking the 514 observations which are NaN values.\n",
    "df1[df1['Years of Credit History'].isnull() == True]"
   ]
  },
  {
   "cell_type": "code",
   "execution_count": 15,
   "metadata": {},
   "outputs": [],
   "source": [
    "#Dropping the NaNs\n",
    "df1.drop(df1.tail(514).index, inplace=True) # drop last 514 rows"
   ]
  },
  {
   "cell_type": "code",
   "execution_count": 16,
   "metadata": {},
   "outputs": [
    {
     "data": {
      "text/plain": [
       "Loan Status                      0\n",
       "Current Loan Amount              0\n",
       "Term                             0\n",
       "Credit Score                 19154\n",
       "Annual Income                19154\n",
       "Years in current job          4222\n",
       "Home Ownership                   0\n",
       "Purpose                          0\n",
       "Monthly Debt                     0\n",
       "Years of Credit History          0\n",
       "Number of Open Accounts          0\n",
       "Number of Credit Problems        0\n",
       "Current Credit Balance           0\n",
       "Maximum Open Credit              2\n",
       "Bankruptcies                   204\n",
       "Tax Liens                       10\n",
       "dtype: int64"
      ]
     },
     "execution_count": 16,
     "metadata": {},
     "output_type": "execute_result"
    }
   ],
   "source": [
    "#Checking the missing values Now \n",
    "df1.isnull().sum()"
   ]
  },
  {
   "cell_type": "code",
   "execution_count": 17,
   "metadata": {},
   "outputs": [
    {
     "data": {
      "text/plain": [
       "(100000, 16)"
      ]
     },
     "execution_count": 17,
     "metadata": {},
     "output_type": "execute_result"
    }
   ],
   "source": [
    "df1.shape"
   ]
  },
  {
   "cell_type": "markdown",
   "metadata": {},
   "source": [
    "#### Treating the Maximum Open Credit feature "
   ]
  },
  {
   "cell_type": "code",
   "execution_count": 18,
   "metadata": {},
   "outputs": [],
   "source": [
    "indexNames = df1[df1['Maximum Open Credit'].isnull()==True].index\n",
    " \n",
    "# Delete these row indexes from dataFrame\n",
    "df1.drop(indexNames , inplace=True)"
   ]
  },
  {
   "cell_type": "code",
   "execution_count": 19,
   "metadata": {},
   "outputs": [
    {
     "data": {
      "text/plain": [
       "Loan Status                      0\n",
       "Current Loan Amount              0\n",
       "Term                             0\n",
       "Credit Score                 19153\n",
       "Annual Income                19153\n",
       "Years in current job          4222\n",
       "Home Ownership                   0\n",
       "Purpose                          0\n",
       "Monthly Debt                     0\n",
       "Years of Credit History          0\n",
       "Number of Open Accounts          0\n",
       "Number of Credit Problems        0\n",
       "Current Credit Balance           0\n",
       "Maximum Open Credit              0\n",
       "Bankruptcies                   204\n",
       "Tax Liens                       10\n",
       "dtype: int64"
      ]
     },
     "execution_count": 19,
     "metadata": {},
     "output_type": "execute_result"
    }
   ],
   "source": [
    "df1.isnull().sum()"
   ]
  },
  {
   "cell_type": "markdown",
   "metadata": {},
   "source": [
    "#### Treating the Tax Liens column "
   ]
  },
  {
   "cell_type": "code",
   "execution_count": 20,
   "metadata": {},
   "outputs": [],
   "source": [
    "indexNames = df1[df1['Tax Liens'].isnull()==True].index\n",
    " \n",
    "# Delete these row indexes from dataFrame\n",
    "df1.drop(indexNames , inplace=True)"
   ]
  },
  {
   "cell_type": "code",
   "execution_count": 21,
   "metadata": {},
   "outputs": [
    {
     "data": {
      "text/plain": [
       "Loan Status                      0\n",
       "Current Loan Amount              0\n",
       "Term                             0\n",
       "Credit Score                 19149\n",
       "Annual Income                19149\n",
       "Years in current job          4222\n",
       "Home Ownership                   0\n",
       "Purpose                          0\n",
       "Monthly Debt                     0\n",
       "Years of Credit History          0\n",
       "Number of Open Accounts          0\n",
       "Number of Credit Problems        0\n",
       "Current Credit Balance           0\n",
       "Maximum Open Credit              0\n",
       "Bankruptcies                   194\n",
       "Tax Liens                        0\n",
       "dtype: int64"
      ]
     },
     "execution_count": 21,
     "metadata": {},
     "output_type": "execute_result"
    }
   ],
   "source": [
    "df1.isnull().sum()"
   ]
  },
  {
   "cell_type": "markdown",
   "metadata": {},
   "source": [
    "#### Treating the Bankruptcies column"
   ]
  },
  {
   "cell_type": "code",
   "execution_count": 22,
   "metadata": {},
   "outputs": [],
   "source": [
    "indexNames = df1[df1['Bankruptcies'].isnull()==True].index\n",
    " \n",
    "# Delete these row indexes from dataFrame\n",
    "df1.drop(indexNames , inplace=True)"
   ]
  },
  {
   "cell_type": "code",
   "execution_count": 23,
   "metadata": {},
   "outputs": [
    {
     "data": {
      "text/plain": [
       "Loan Status                      0\n",
       "Current Loan Amount              0\n",
       "Term                             0\n",
       "Credit Score                 19111\n",
       "Annual Income                19111\n",
       "Years in current job          4222\n",
       "Home Ownership                   0\n",
       "Purpose                          0\n",
       "Monthly Debt                     0\n",
       "Years of Credit History          0\n",
       "Number of Open Accounts          0\n",
       "Number of Credit Problems        0\n",
       "Current Credit Balance           0\n",
       "Maximum Open Credit              0\n",
       "Bankruptcies                     0\n",
       "Tax Liens                        0\n",
       "dtype: int64"
      ]
     },
     "execution_count": 23,
     "metadata": {},
     "output_type": "execute_result"
    }
   ],
   "source": [
    "df1.isnull().sum()"
   ]
  },
  {
   "cell_type": "markdown",
   "metadata": {},
   "source": [
    "#### Treating further columns with NaNs  "
   ]
  },
  {
   "cell_type": "code",
   "execution_count": 24,
   "metadata": {},
   "outputs": [
    {
     "data": {
      "text/plain": [
       "0        1167493.0\n",
       "1              NaN\n",
       "2        2231892.0\n",
       "3         806949.0\n",
       "4              NaN\n",
       "           ...    \n",
       "99995     475437.0\n",
       "99996    1289416.0\n",
       "99997    1150545.0\n",
       "99998    1717524.0\n",
       "99999     935180.0\n",
       "Name: Annual Income, Length: 99794, dtype: float64"
      ]
     },
     "execution_count": 24,
     "metadata": {},
     "output_type": "execute_result"
    }
   ],
   "source": [
    "df1['Annual Income']"
   ]
  },
  {
   "cell_type": "code",
   "execution_count": 25,
   "metadata": {},
   "outputs": [
    {
     "data": {
      "text/plain": [
       "0        709.0\n",
       "1          NaN\n",
       "2        741.0\n",
       "3        721.0\n",
       "4          NaN\n",
       "         ...  \n",
       "99995    725.0\n",
       "99996    732.0\n",
       "99997    742.0\n",
       "99998    746.0\n",
       "99999    743.0\n",
       "Name: Credit Score, Length: 99794, dtype: float64"
      ]
     },
     "execution_count": 25,
     "metadata": {},
     "output_type": "execute_result"
    }
   ],
   "source": [
    "df1['Credit Score']"
   ]
  },
  {
   "cell_type": "code",
   "execution_count": 26,
   "metadata": {},
   "outputs": [],
   "source": [
    "indexNames = df1[df1['Annual Income'].isnull()==True].index\n",
    " \n",
    "# Delete these row indexes from dataFrame\n",
    "df1.drop(indexNames , inplace=True)"
   ]
  },
  {
   "cell_type": "code",
   "execution_count": 27,
   "metadata": {},
   "outputs": [],
   "source": [
    "indexNames = df1[df1['Credit Score'].isnull()==True].index\n",
    " \n",
    "# Delete these row indexes from dataFrame\n",
    "df1.drop(indexNames , inplace=True)"
   ]
  },
  {
   "cell_type": "code",
   "execution_count": 28,
   "metadata": {},
   "outputs": [],
   "source": [
    "#Converting the data types to Flaot \n",
    "df1['Annual Income']=df1['Annual Income'].astype('float')\n",
    "df1['Credit Score']=df1['Credit Score'].astype('float')"
   ]
  },
  {
   "cell_type": "code",
   "execution_count": 29,
   "metadata": {},
   "outputs": [
    {
     "data": {
      "text/plain": [
       "Loan Status                     0\n",
       "Current Loan Amount             0\n",
       "Term                            0\n",
       "Credit Score                    0\n",
       "Annual Income                   0\n",
       "Years in current job         3412\n",
       "Home Ownership                  0\n",
       "Purpose                         0\n",
       "Monthly Debt                    0\n",
       "Years of Credit History         0\n",
       "Number of Open Accounts         0\n",
       "Number of Credit Problems       0\n",
       "Current Credit Balance          0\n",
       "Maximum Open Credit             0\n",
       "Bankruptcies                    0\n",
       "Tax Liens                       0\n",
       "dtype: int64"
      ]
     },
     "execution_count": 29,
     "metadata": {},
     "output_type": "execute_result"
    }
   ],
   "source": [
    "df1.isnull().sum()"
   ]
  },
  {
   "cell_type": "markdown",
   "metadata": {},
   "source": [
    "#### Treating the anamolies in Credit_score column "
   ]
  },
  {
   "cell_type": "code",
   "execution_count": 30,
   "metadata": {},
   "outputs": [],
   "source": [
    "df1['Credit Score']=df1['Credit Score'].astype('str')"
   ]
  },
  {
   "cell_type": "code",
   "execution_count": 31,
   "metadata": {},
   "outputs": [],
   "source": [
    "df1['Credit Score']=df1['Credit Score'].str.slice(start=0,stop=3)"
   ]
  },
  {
   "cell_type": "code",
   "execution_count": 32,
   "metadata": {},
   "outputs": [],
   "source": [
    "df1['Credit Score']=df1['Credit Score'].astype('float')"
   ]
  },
  {
   "cell_type": "markdown",
   "metadata": {},
   "source": [
    "#### Checking the mode of Years in current job to impute "
   ]
  },
  {
   "cell_type": "code",
   "execution_count": 33,
   "metadata": {},
   "outputs": [
    {
     "data": {
      "text/plain": [
       "<AxesSubplot:xlabel='Years in current job', ylabel='count'>"
      ]
     },
     "execution_count": 33,
     "metadata": {},
     "output_type": "execute_result"
    },
    {
     "data": {
      "image/png": "[encoded data removed]",
      "text/plain": [
       "<Figure size 1080x576 with 1 Axes>"
      ]
     },
     "metadata": {
      "needs_background": "light"
     },
     "output_type": "display_data"
    }
   ],
   "source": [
    "plt.figure(figsize=(15,8))\n",
    "\n",
    "sns.countplot(df1['Years in current job'])\n"
   ]
  },
  {
   "cell_type": "markdown",
   "metadata": {},
   "source": [
    "###### It is evident that the maximum frequency of the Number of Years is 10+ Years "
   ]
  },
  {
   "cell_type": "code",
   "execution_count": 34,
   "metadata": {},
   "outputs": [],
   "source": [
    "#Filling the NaNs with Mode of the column\n",
    "df1.fillna('10+ years', inplace=True) "
   ]
  },
  {
   "cell_type": "code",
   "execution_count": 35,
   "metadata": {},
   "outputs": [
    {
     "data": {
      "text/plain": [
       "Loan Status                  0\n",
       "Current Loan Amount          0\n",
       "Term                         0\n",
       "Credit Score                 0\n",
       "Annual Income                0\n",
       "Years in current job         0\n",
       "Home Ownership               0\n",
       "Purpose                      0\n",
       "Monthly Debt                 0\n",
       "Years of Credit History      0\n",
       "Number of Open Accounts      0\n",
       "Number of Credit Problems    0\n",
       "Current Credit Balance       0\n",
       "Maximum Open Credit          0\n",
       "Bankruptcies                 0\n",
       "Tax Liens                    0\n",
       "dtype: int64"
      ]
     },
     "execution_count": 35,
     "metadata": {},
     "output_type": "execute_result"
    }
   ],
   "source": [
    "df1.isnull().sum()"
   ]
  },
  {
   "cell_type": "markdown",
   "metadata": {},
   "source": [
    "#### Categorizing Years in current job into 3 Classes "
   ]
  },
  {
   "cell_type": "code",
   "execution_count": 36,
   "metadata": {},
   "outputs": [
    {
     "data": {
      "text/plain": [
       "10+ years    28713\n",
       "2 years       7363\n",
       "3 years       6605\n",
       "< 1 year      6529\n",
       "5 years       5465\n",
       "1 year        5155\n",
       "4 years       4908\n",
       "6 years       4567\n",
       "7 years       4506\n",
       "8 years       3701\n",
       "9 years       3171\n",
       "Name: Years in current job, dtype: int64"
      ]
     },
     "execution_count": 36,
     "metadata": {},
     "output_type": "execute_result"
    }
   ],
   "source": [
    "df1['Years in current job'].value_counts()"
   ]
  },
  {
   "cell_type": "markdown",
   "metadata": {},
   "source": [
    "###### Entry Level -\n",
    "< 1 year,\n",
    " 1 year,\n",
    " 2 years,\n",
    " 3 years,\n",
    "\n",
    "##### Mid-Level -\n",
    " 4 years,\n",
    " 5 years,\n",
    " 6 years,\n",
    " 7 years,\n",
    " 8 years,\n",
    " 9 years,\n",
    "##### Senior-Level -\n",
    "10+ years\n",
    "\n"
   ]
  },
  {
   "cell_type": "code",
   "execution_count": 37,
   "metadata": {},
   "outputs": [],
   "source": [
    "#Entry_Level Mid_Level and Senior_Level encoding\n",
    "df1['Years in current job']=df1['Years in current job'].replace({'< 1 year':'Entry_Level','1 year':'Entry_Level','2 years':'Entry_Level','3 years':'Entry_Level','4 years':'Mid_Level','5 years':'Mid_Level','6 years':'Mid_Level','7 years':'Mid_Level','8 years':'Mid_Level','9 years':'Mid_Level','10+ years':'Senior_Level'})\n"
   ]
  },
  {
   "cell_type": "code",
   "execution_count": 38,
   "metadata": {},
   "outputs": [
    {
     "data": {
      "text/plain": [
       "Senior_Level    28713\n",
       "Mid_Level       26318\n",
       "Entry_Level     25652\n",
       "Name: Years in current job, dtype: int64"
      ]
     },
     "execution_count": 38,
     "metadata": {},
     "output_type": "execute_result"
    }
   ],
   "source": [
    "df1['Years in current job'].value_counts()"
   ]
  },
  {
   "cell_type": "markdown",
   "metadata": {},
   "source": [
    "#### Plotting the pairplot to get a better visualisation "
   ]
  },
  {
   "cell_type": "code",
   "execution_count": 39,
   "metadata": {},
   "outputs": [],
   "source": [
    "#plt.figure(figsize=(15,8))\n",
    "#sns.pairplot(df1)"
   ]
  },
  {
   "cell_type": "code",
   "execution_count": 40,
   "metadata": {},
   "outputs": [
    {
     "data": {
      "text/plain": [
       "(80683, 16)"
      ]
     },
     "execution_count": 40,
     "metadata": {},
     "output_type": "execute_result"
    }
   ],
   "source": [
    "df1.shape"
   ]
  },
  {
   "cell_type": "code",
   "execution_count": 41,
   "metadata": {},
   "outputs": [
    {
     "name": "stdout",
     "output_type": "stream",
     "text": [
      "<class 'pandas.core.frame.DataFrame'>\n",
      "Int64Index: 80683 entries, 0 to 99999\n",
      "Data columns (total 16 columns):\n",
      " #   Column                     Non-Null Count  Dtype  \n",
      "---  ------                     --------------  -----  \n",
      " 0   Loan Status                80683 non-null  object \n",
      " 1   Current Loan Amount        80683 non-null  float64\n",
      " 2   Term                       80683 non-null  object \n",
      " 3   Credit Score               80683 non-null  float64\n",
      " 4   Annual Income              80683 non-null  float64\n",
      " 5   Years in current job       80683 non-null  object \n",
      " 6   Home Ownership             80683 non-null  object \n",
      " 7   Purpose                    80683 non-null  object \n",
      " 8   Monthly Debt               80683 non-null  float64\n",
      " 9   Years of Credit History    80683 non-null  float64\n",
      " 10  Number of Open Accounts    80683 non-null  float64\n",
      " 11  Number of Credit Problems  80683 non-null  float64\n",
      " 12  Current Credit Balance     80683 non-null  float64\n",
      " 13  Maximum Open Credit        80683 non-null  float64\n",
      " 14  Bankruptcies               80683 non-null  float64\n",
      " 15  Tax Liens                  80683 non-null  float64\n",
      "dtypes: float64(11), object(5)\n",
      "memory usage: 13.0+ MB\n"
     ]
    }
   ],
   "source": [
    "df1.info()"
   ]
  },
  {
   "cell_type": "code",
   "execution_count": 42,
   "metadata": {},
   "outputs": [
    {
     "data": {
      "text/plain": [
       "Index(['Loan Status', 'Current Loan Amount', 'Term', 'Credit Score',\n",
       "       'Annual Income', 'Years in current job', 'Home Ownership', 'Purpose',\n",
       "       'Monthly Debt', 'Years of Credit History', 'Number of Open Accounts',\n",
       "       'Number of Credit Problems', 'Current Credit Balance',\n",
       "       'Maximum Open Credit', 'Bankruptcies', 'Tax Liens'],\n",
       "      dtype='object')"
      ]
     },
     "execution_count": 42,
     "metadata": {},
     "output_type": "execute_result"
    }
   ],
   "source": [
    "df1.columns"
   ]
  },
  {
   "cell_type": "markdown",
   "metadata": {},
   "source": [
    "##### Checking the Balance of the Dataset on the Basis of the Target Column (Loan_Status)"
   ]
  },
  {
   "cell_type": "code",
   "execution_count": 43,
   "metadata": {},
   "outputs": [
    {
     "data": {
      "text/plain": [
       "Fully Paid     78.717946\n",
       "Charged Off    21.282054\n",
       "Name: Loan Status, dtype: float64"
      ]
     },
     "execution_count": 43,
     "metadata": {},
     "output_type": "execute_result"
    }
   ],
   "source": [
    "df1['Loan Status'].value_counts(normalize=True)*100"
   ]
  },
  {
   "cell_type": "code",
   "execution_count": 44,
   "metadata": {},
   "outputs": [],
   "source": [
    "#Checking Skewness "
   ]
  },
  {
   "cell_type": "code",
   "execution_count": 45,
   "metadata": {},
   "outputs": [
    {
     "data": {
      "text/plain": [
       "Current Loan Amount            2.051210\n",
       "Credit Score                  -1.337833\n",
       "Annual Income                 47.026121\n",
       "Monthly Debt                   2.334635\n",
       "Years of Credit History        1.069628\n",
       "Number of Open Accounts        1.194882\n",
       "Number of Credit Problems      4.935781\n",
       "Current Credit Balance        15.494395\n",
       "Maximum Open Credit          165.781068\n",
       "Bankruptcies                   3.531020\n",
       "Tax Liens                     15.758849\n",
       "dtype: float64"
      ]
     },
     "execution_count": 45,
     "metadata": {},
     "output_type": "execute_result"
    }
   ],
   "source": [
    "df1.skew()"
   ]
  },
  {
   "cell_type": "markdown",
   "metadata": {},
   "source": [
    "##### We can see the Dataset is moderately imabalanced towards Fully Paid and Hence Sampling techniques to reduce Imabalance would be used "
   ]
  },
  {
   "cell_type": "markdown",
   "metadata": {},
   "source": [
    "### EDA"
   ]
  },
  {
   "cell_type": "code",
   "execution_count": 46,
   "metadata": {},
   "outputs": [],
   "source": [
    "df1_cat=df1.select_dtypes('object')\n",
    "df1_num=df1.select_dtypes(np.number)"
   ]
  },
  {
   "cell_type": "code",
   "execution_count": 47,
   "metadata": {},
   "outputs": [
    {
     "data": {
      "text/html": [
       "<div>\n",
       "<style scoped>\n",
       "    .dataframe tbody tr th:only-of-type {\n",
       "        vertical-align: middle;\n",
       "    }\n",
       "\n",
       "    .dataframe tbody tr th {\n",
       "        vertical-align: top;\n",
       "    }\n",
       "\n",
       "    .dataframe thead th {\n",
       "        text-align: right;\n",
       "    }\n",
       "</style>\n",
       "<table border=\"1\" class=\"dataframe\">\n",
       "  <thead>\n",
       "    <tr style=\"text-align: right;\">\n",
       "      <th></th>\n",
       "      <th>Loan Status</th>\n",
       "      <th>Term</th>\n",
       "      <th>Years in current job</th>\n",
       "      <th>Home Ownership</th>\n",
       "      <th>Purpose</th>\n",
       "    </tr>\n",
       "  </thead>\n",
       "  <tbody>\n",
       "    <tr>\n",
       "      <th>0</th>\n",
       "      <td>Fully Paid</td>\n",
       "      <td>Short Term</td>\n",
       "      <td>Mid_Level</td>\n",
       "      <td>Home Mortgage</td>\n",
       "      <td>Home Improvements</td>\n",
       "    </tr>\n",
       "    <tr>\n",
       "      <th>2</th>\n",
       "      <td>Fully Paid</td>\n",
       "      <td>Short Term</td>\n",
       "      <td>Mid_Level</td>\n",
       "      <td>Own Home</td>\n",
       "      <td>Debt Consolidation</td>\n",
       "    </tr>\n",
       "    <tr>\n",
       "      <th>3</th>\n",
       "      <td>Fully Paid</td>\n",
       "      <td>Long Term</td>\n",
       "      <td>Entry_Level</td>\n",
       "      <td>Own Home</td>\n",
       "      <td>Debt Consolidation</td>\n",
       "    </tr>\n",
       "    <tr>\n",
       "      <th>5</th>\n",
       "      <td>Charged Off</td>\n",
       "      <td>Short Term</td>\n",
       "      <td>Senior_Level</td>\n",
       "      <td>Home Mortgage</td>\n",
       "      <td>Debt Consolidation</td>\n",
       "    </tr>\n",
       "    <tr>\n",
       "      <th>6</th>\n",
       "      <td>Fully Paid</td>\n",
       "      <td>Short Term</td>\n",
       "      <td>Entry_Level</td>\n",
       "      <td>Home Mortgage</td>\n",
       "      <td>Debt Consolidation</td>\n",
       "    </tr>\n",
       "    <tr>\n",
       "      <th>...</th>\n",
       "      <td>...</td>\n",
       "      <td>...</td>\n",
       "      <td>...</td>\n",
       "      <td>...</td>\n",
       "      <td>...</td>\n",
       "    </tr>\n",
       "    <tr>\n",
       "      <th>99995</th>\n",
       "      <td>Fully Paid</td>\n",
       "      <td>Short Term</td>\n",
       "      <td>Mid_Level</td>\n",
       "      <td>Own Home</td>\n",
       "      <td>other</td>\n",
       "    </tr>\n",
       "    <tr>\n",
       "      <th>99996</th>\n",
       "      <td>Fully Paid</td>\n",
       "      <td>Short Term</td>\n",
       "      <td>Entry_Level</td>\n",
       "      <td>Rent</td>\n",
       "      <td>Debt Consolidation</td>\n",
       "    </tr>\n",
       "    <tr>\n",
       "      <th>99997</th>\n",
       "      <td>Fully Paid</td>\n",
       "      <td>Short Term</td>\n",
       "      <td>Mid_Level</td>\n",
       "      <td>Rent</td>\n",
       "      <td>Debt Consolidation</td>\n",
       "    </tr>\n",
       "    <tr>\n",
       "      <th>99998</th>\n",
       "      <td>Fully Paid</td>\n",
       "      <td>Short Term</td>\n",
       "      <td>Mid_Level</td>\n",
       "      <td>Rent</td>\n",
       "      <td>Debt Consolidation</td>\n",
       "    </tr>\n",
       "    <tr>\n",
       "      <th>99999</th>\n",
       "      <td>Fully Paid</td>\n",
       "      <td>Short Term</td>\n",
       "      <td>Senior_Level</td>\n",
       "      <td>Own Home</td>\n",
       "      <td>Debt Consolidation</td>\n",
       "    </tr>\n",
       "  </tbody>\n",
       "</table>\n",
       "<p>80683 rows × 5 columns</p>\n",
       "</div>"
      ],
      "text/plain": [
       "       Loan Status        Term Years in current job Home Ownership  \\\n",
       "0       Fully Paid  Short Term            Mid_Level  Home Mortgage   \n",
       "2       Fully Paid  Short Term            Mid_Level       Own Home   \n",
       "3       Fully Paid   Long Term          Entry_Level       Own Home   \n",
       "5      Charged Off  Short Term         Senior_Level  Home Mortgage   \n",
       "6       Fully Paid  Short Term          Entry_Level  Home Mortgage   \n",
       "...            ...         ...                  ...            ...   \n",
       "99995   Fully Paid  Short Term            Mid_Level       Own Home   \n",
       "99996   Fully Paid  Short Term          Entry_Level           Rent   \n",
       "99997   Fully Paid  Short Term            Mid_Level           Rent   \n",
       "99998   Fully Paid  Short Term            Mid_Level           Rent   \n",
       "99999   Fully Paid  Short Term         Senior_Level       Own Home   \n",
       "\n",
       "                  Purpose  \n",
       "0       Home Improvements  \n",
       "2      Debt Consolidation  \n",
       "3      Debt Consolidation  \n",
       "5      Debt Consolidation  \n",
       "6      Debt Consolidation  \n",
       "...                   ...  \n",
       "99995               other  \n",
       "99996  Debt Consolidation  \n",
       "99997  Debt Consolidation  \n",
       "99998  Debt Consolidation  \n",
       "99999  Debt Consolidation  \n",
       "\n",
       "[80683 rows x 5 columns]"
      ]
     },
     "execution_count": 47,
     "metadata": {},
     "output_type": "execute_result"
    }
   ],
   "source": [
    "df1_cat"
   ]
  },
  {
   "cell_type": "markdown",
   "metadata": {},
   "source": [
    "#### Data Insight Analysis :Checking loan_status and Terms for the Loan"
   ]
  },
  {
   "cell_type": "code",
   "execution_count": 48,
   "metadata": {},
   "outputs": [
    {
     "data": {
      "image/png": "[encoded data removed]",
      "text/plain": [
       "<Figure size 720x360 with 1 Axes>"
      ]
     },
     "metadata": {
      "needs_background": "light"
     },
     "output_type": "display_data"
    }
   ],
   "source": [
    "plt.figure(figsize=(10,5))\n",
    "sns.countplot(x='Term',hue='Loan Status',data=df1_cat,palette='rainbow')\n",
    "plt.grid()\n",
    "plt.show()\n"
   ]
  },
  {
   "cell_type": "markdown",
   "metadata": {},
   "source": [
    "#### We can clearly see that the data is imbalanced upon the target class (Loan_status) for both Short and Long Term Loan applications . This will be treated in further analysis"
   ]
  },
  {
   "cell_type": "markdown",
   "metadata": {},
   "source": [
    "### Insight Analysis : Understanding the Loan term and Years of Experience of the Applicants"
   ]
  },
  {
   "cell_type": "code",
   "execution_count": 49,
   "metadata": {},
   "outputs": [
    {
     "data": {
      "image/png": "[encoded data removed]",
      "text/plain": [
       "<Figure size 720x360 with 1 Axes>"
      ]
     },
     "metadata": {
      "needs_background": "light"
     },
     "output_type": "display_data"
    }
   ],
   "source": [
    "plt.figure(figsize=(10,5))\n",
    "sns.countplot(x='Years in current job',hue='Term',data=df1_cat,palette='viridis')\n",
    "plt.grid()\n",
    "plt.show()\n"
   ]
  },
  {
   "cell_type": "markdown",
   "metadata": {},
   "source": [
    "#### We can infer that almost all classes had equally Applied for both Short and Long term Loans . Short_Term Loan having the maximum applicants "
   ]
  },
  {
   "cell_type": "markdown",
   "metadata": {},
   "source": [
    "### Insight Analysis : Checking the Ownership and Years of Experience of the Applicant"
   ]
  },
  {
   "cell_type": "code",
   "execution_count": 50,
   "metadata": {},
   "outputs": [
    {
     "data": {
      "image/png": "[encoded data removed]",
      "text/plain": [
       "<Figure size 720x360 with 1 Axes>"
      ]
     },
     "metadata": {
      "needs_background": "light"
     },
     "output_type": "display_data"
    }
   ],
   "source": [
    "plt.figure(figsize=(10,5))\n",
    "sns.countplot(x='Years in current job',hue='Home Ownership',data=df1_cat,palette='YlGnBu')\n",
    "plt.grid()\n",
    "plt.show()\n"
   ]
  },
  {
   "cell_type": "markdown",
   "metadata": {},
   "source": [
    "#### We can infer that Senior_level Employees had the highest Home Mortgage and HaveMortgage being the lowest Ownership . "
   ]
  },
  {
   "cell_type": "markdown",
   "metadata": {},
   "source": [
    "### Business Problem: Understanding the Purpose of the loan and the term "
   ]
  },
  {
   "cell_type": "code",
   "execution_count": 51,
   "metadata": {},
   "outputs": [
    {
     "data": {
      "image/png": "[encoded data removed]",
      "text/plain": [
       "<Figure size 1800x360 with 1 Axes>"
      ]
     },
     "metadata": {
      "needs_background": "light"
     },
     "output_type": "display_data"
    }
   ],
   "source": [
    "plt.figure(figsize=(25,5))\n",
    "sns.countplot(x='Purpose',hue='Term',data=df1_cat,palette='plasma')\n",
    "plt.xticks(rotation=60)\n",
    "plt.grid()\n",
    "plt.show()"
   ]
  },
  {
   "cell_type": "markdown",
   "metadata": {},
   "source": [
    "#### We can infer that Loan were applied to clear off old Debts for both Short and Long Term types"
   ]
  },
  {
   "cell_type": "markdown",
   "metadata": {},
   "source": [
    "### EDA Numerical Features "
   ]
  },
  {
   "cell_type": "code",
   "execution_count": 52,
   "metadata": {},
   "outputs": [
    {
     "data": {
      "text/html": [
       "<div>\n",
       "<style scoped>\n",
       "    .dataframe tbody tr th:only-of-type {\n",
       "        vertical-align: middle;\n",
       "    }\n",
       "\n",
       "    .dataframe tbody tr th {\n",
       "        vertical-align: top;\n",
       "    }\n",
       "\n",
       "    .dataframe thead th {\n",
       "        text-align: right;\n",
       "    }\n",
       "</style>\n",
       "<table border=\"1\" class=\"dataframe\">\n",
       "  <thead>\n",
       "    <tr style=\"text-align: right;\">\n",
       "      <th></th>\n",
       "      <th>Current Loan Amount</th>\n",
       "      <th>Credit Score</th>\n",
       "      <th>Annual Income</th>\n",
       "      <th>Monthly Debt</th>\n",
       "      <th>Years of Credit History</th>\n",
       "      <th>Number of Open Accounts</th>\n",
       "      <th>Number of Credit Problems</th>\n",
       "      <th>Current Credit Balance</th>\n",
       "      <th>Maximum Open Credit</th>\n",
       "      <th>Bankruptcies</th>\n",
       "      <th>Tax Liens</th>\n",
       "    </tr>\n",
       "  </thead>\n",
       "  <tbody>\n",
       "    <tr>\n",
       "      <th>0</th>\n",
       "      <td>445412.0</td>\n",
       "      <td>709.0</td>\n",
       "      <td>1167493.0</td>\n",
       "      <td>5214.74</td>\n",
       "      <td>17.2</td>\n",
       "      <td>6.0</td>\n",
       "      <td>1.0</td>\n",
       "      <td>228190.0</td>\n",
       "      <td>416746.0</td>\n",
       "      <td>1.0</td>\n",
       "      <td>0.0</td>\n",
       "    </tr>\n",
       "    <tr>\n",
       "      <th>2</th>\n",
       "      <td>99999999.0</td>\n",
       "      <td>741.0</td>\n",
       "      <td>2231892.0</td>\n",
       "      <td>29200.53</td>\n",
       "      <td>14.9</td>\n",
       "      <td>18.0</td>\n",
       "      <td>1.0</td>\n",
       "      <td>297996.0</td>\n",
       "      <td>750090.0</td>\n",
       "      <td>0.0</td>\n",
       "      <td>0.0</td>\n",
       "    </tr>\n",
       "    <tr>\n",
       "      <th>3</th>\n",
       "      <td>347666.0</td>\n",
       "      <td>721.0</td>\n",
       "      <td>806949.0</td>\n",
       "      <td>8741.90</td>\n",
       "      <td>12.0</td>\n",
       "      <td>9.0</td>\n",
       "      <td>0.0</td>\n",
       "      <td>256329.0</td>\n",
       "      <td>386958.0</td>\n",
       "      <td>0.0</td>\n",
       "      <td>0.0</td>\n",
       "    </tr>\n",
       "    <tr>\n",
       "      <th>5</th>\n",
       "      <td>206602.0</td>\n",
       "      <td>729.0</td>\n",
       "      <td>896857.0</td>\n",
       "      <td>16367.74</td>\n",
       "      <td>17.3</td>\n",
       "      <td>6.0</td>\n",
       "      <td>0.0</td>\n",
       "      <td>215308.0</td>\n",
       "      <td>272448.0</td>\n",
       "      <td>0.0</td>\n",
       "      <td>0.0</td>\n",
       "    </tr>\n",
       "    <tr>\n",
       "      <th>6</th>\n",
       "      <td>217646.0</td>\n",
       "      <td>730.0</td>\n",
       "      <td>1184194.0</td>\n",
       "      <td>10855.08</td>\n",
       "      <td>19.6</td>\n",
       "      <td>13.0</td>\n",
       "      <td>1.0</td>\n",
       "      <td>122170.0</td>\n",
       "      <td>272052.0</td>\n",
       "      <td>1.0</td>\n",
       "      <td>0.0</td>\n",
       "    </tr>\n",
       "  </tbody>\n",
       "</table>\n",
       "</div>"
      ],
      "text/plain": [
       "   Current Loan Amount  Credit Score  Annual Income  Monthly Debt  \\\n",
       "0             445412.0         709.0      1167493.0       5214.74   \n",
       "2           99999999.0         741.0      2231892.0      29200.53   \n",
       "3             347666.0         721.0       806949.0       8741.90   \n",
       "5             206602.0         729.0       896857.0      16367.74   \n",
       "6             217646.0         730.0      1184194.0      10855.08   \n",
       "\n",
       "   Years of Credit History  Number of Open Accounts  \\\n",
       "0                     17.2                      6.0   \n",
       "2                     14.9                     18.0   \n",
       "3                     12.0                      9.0   \n",
       "5                     17.3                      6.0   \n",
       "6                     19.6                     13.0   \n",
       "\n",
       "   Number of Credit Problems  Current Credit Balance  Maximum Open Credit  \\\n",
       "0                        1.0                228190.0             416746.0   \n",
       "2                        1.0                297996.0             750090.0   \n",
       "3                        0.0                256329.0             386958.0   \n",
       "5                        0.0                215308.0             272448.0   \n",
       "6                        1.0                122170.0             272052.0   \n",
       "\n",
       "   Bankruptcies  Tax Liens  \n",
       "0           1.0        0.0  \n",
       "2           0.0        0.0  \n",
       "3           0.0        0.0  \n",
       "5           0.0        0.0  \n",
       "6           1.0        0.0  "
      ]
     },
     "execution_count": 52,
     "metadata": {},
     "output_type": "execute_result"
    }
   ],
   "source": [
    "df1_num.head()"
   ]
  },
  {
   "cell_type": "markdown",
   "metadata": {},
   "source": [
    "### Insight Analysis : Number of  Credit Score and Annual Income of Applicants"
   ]
  },
  {
   "cell_type": "code",
   "execution_count": 53,
   "metadata": {},
   "outputs": [
    {
     "data": {
      "image/png": "[encoded data removed]",
      "text/plain": [
       "<Figure size 720x360 with 1 Axes>"
      ]
     },
     "metadata": {
      "needs_background": "light"
     },
     "output_type": "display_data"
    }
   ],
   "source": [
    "plt.figure(figsize=(10,5))\n",
    "sns.lineplot(x='Credit Score',y='Annual Income',data=df1_num,markers='o',palette='twilight_shifted')\n",
    "plt.xlabel('Credit Score')\n",
    "plt.ylabel('Annual Income in Lakhs')\n",
    "plt.grid()\n",
    "plt.show()"
   ]
  },
  {
   "cell_type": "markdown",
   "metadata": {},
   "source": [
    "##### We can infer that Applicants with high Annual had moderately Low Credit Score"
   ]
  },
  {
   "cell_type": "markdown",
   "metadata": {},
   "source": [
    "### Insight Analysis : Checking the Loan amount applied for and their respective Annual Income "
   ]
  },
  {
   "cell_type": "code",
   "execution_count": 54,
   "metadata": {},
   "outputs": [
    {
     "data": {
      "text/plain": [
       "<seaborn.axisgrid.PairGrid at 0x23d0554beb0>"
      ]
     },
     "execution_count": 54,
     "metadata": {},
     "output_type": "execute_result"
    },
    {
     "data": {
      "image/png": "[encoded data removed]",
      "text/plain": [
       "<Figure size 360x360 with 6 Axes>"
      ]
     },
     "metadata": {
      "needs_background": "light"
     },
     "output_type": "display_data"
    }
   ],
   "source": [
    "input=df1_num[['Current Loan Amount','Annual Income']]\n",
    "input=input[input['Current Loan Amount'] !=99999999.0]\n",
    "sns.pairplot(input)"
   ]
  },
  {
   "cell_type": "markdown",
   "metadata": {},
   "source": [
    "### Insight Analysis : Checking the Monthly Income vs Monthly Debt "
   ]
  },
  {
   "cell_type": "code",
   "execution_count": 55,
   "metadata": {},
   "outputs": [],
   "source": [
    "df1_num['Monthly_Income']=(df1_num['Annual Income']/12)"
   ]
  },
  {
   "cell_type": "code",
   "execution_count": 56,
   "metadata": {},
   "outputs": [
    {
     "data": {
      "image/png": "[encoded data removed]",
      "text/plain": [
       "<Figure size 1080x360 with 1 Axes>"
      ]
     },
     "metadata": {
      "needs_background": "light"
     },
     "output_type": "display_data"
    }
   ],
   "source": [
    "plt.figure(figsize=(15,5))\n",
    "sns.kdeplot(df1_num['Monthly_Income'],clip=(0,500000),shade=True)\n",
    "sns.kdeplot(df1_num['Monthly Debt'],clip=(0,80000),shade=True)\n",
    "\n",
    "\n",
    "plt.show()"
   ]
  },
  {
   "cell_type": "markdown",
   "metadata": {},
   "source": [
    "##### We can infer that Monthly_Debt and Monthly_Income have different densities .Montly_Income having a higher Mean than the Monthly_Debt"
   ]
  },
  {
   "cell_type": "markdown",
   "metadata": {},
   "source": [
    "### Insight Analysis : Checking the Credit Problem and Monthly Debt with Loan Status of applicants"
   ]
  },
  {
   "cell_type": "code",
   "execution_count": 57,
   "metadata": {},
   "outputs": [
    {
     "data": {
      "image/png": "[encoded data removed]",
      "text/plain": [
       "<Figure size 720x360 with 1 Axes>"
      ]
     },
     "metadata": {
      "needs_background": "light"
     },
     "output_type": "display_data"
    }
   ],
   "source": [
    "plt.figure(figsize=(10,5))\n",
    "sns.lineplot(x='Number of Credit Problems',y='Monthly Debt',data=df1,hue='Loan Status')\n",
    "plt.xlabel('Number of Credit Problems')\n",
    "plt.ylabel('Monthly Debt')\n",
    "plt.grid()\n",
    "plt.show()"
   ]
  },
  {
   "cell_type": "markdown",
   "metadata": {},
   "source": [
    "##### We can Fully_Paid and Charged_off vary highly with Credit Problems and Monhtly Debt"
   ]
  },
  {
   "cell_type": "markdown",
   "metadata": {},
   "source": [
    "### Insight Analysis: Number of Credit Problems vs Bankruptcy "
   ]
  },
  {
   "cell_type": "code",
   "execution_count": 58,
   "metadata": {},
   "outputs": [
    {
     "data": {
      "image/png": "[encoded data removed]",
      "text/plain": [
       "<Figure size 1080x360 with 1 Axes>"
      ]
     },
     "metadata": {
      "needs_background": "light"
     },
     "output_type": "display_data"
    }
   ],
   "source": [
    "plt.figure(figsize=(15,5))\n",
    "sns.kdeplot(df1_num['Number of Credit Problems'],clip=(-1,5),shade=True,color='green')\n",
    "sns.kdeplot(df1_num['Bankruptcies'],clip=(-1,5),shade=True,color='Red')\n",
    "\n",
    "plt.show()"
   ]
  },
  {
   "cell_type": "code",
   "execution_count": 59,
   "metadata": {},
   "outputs": [],
   "source": [
    "#Insight Analysis :Checking For Outliers"
   ]
  },
  {
   "cell_type": "code",
   "execution_count": 60,
   "metadata": {},
   "outputs": [
    {
     "data": {
      "image/png": "[encoded data removed]",
      "text/plain": [
       "<Figure size 720x2520 with 12 Axes>"
      ]
     },
     "metadata": {
      "needs_background": "light"
     },
     "output_type": "display_data"
    }
   ],
   "source": [
    "plt.figure(figsize=(10,35))\n",
    "for i,col in enumerate(df1_num,1):\n",
    "    plt.subplot(15,1,i)\n",
    "    sns.boxplot(df1_num[col])\n",
    "    plt.ylabel(col)\n",
    "plt.show()"
   ]
  },
  {
   "cell_type": "markdown",
   "metadata": {},
   "source": [
    "##### We can infer that BankRuptcies were declared highly with High Number of Credit Problems History"
   ]
  },
  {
   "cell_type": "code",
   "execution_count": null,
   "metadata": {},
   "outputs": [],
   "source": [
    "### Insight Analysis : Checking the distribution of features "
   ]
  },
  {
   "cell_type": "code",
   "execution_count": 175,
   "metadata": {},
   "outputs": [
    {
     "data": {
      "image/png": "[encoded data removed]",
      "text/plain": [
       "<Figure size 720x4320 with 12 Axes>"
      ]
     },
     "metadata": {
      "needs_background": "light"
     },
     "output_type": "display_data"
    }
   ],
   "source": [
    "plt.figure(figsize=(10,60))\n",
    "for i,col in enumerate(df1_num,1):\n",
    "    plt.subplot(15,1,i)\n",
    "    sns.distplot(df1_num[col])\n",
    "    plt.ylabel(col)\n",
    "plt.show()"
   ]
  },
  {
   "cell_type": "markdown",
   "metadata": {},
   "source": [
    "### Multi-Variate Analysis "
   ]
  },
  {
   "cell_type": "code",
   "execution_count": 61,
   "metadata": {},
   "outputs": [
    {
     "data": {
      "text/html": [
       "<div>\n",
       "<style scoped>\n",
       "    .dataframe tbody tr th:only-of-type {\n",
       "        vertical-align: middle;\n",
       "    }\n",
       "\n",
       "    .dataframe tbody tr th {\n",
       "        vertical-align: top;\n",
       "    }\n",
       "\n",
       "    .dataframe thead th {\n",
       "        text-align: right;\n",
       "    }\n",
       "</style>\n",
       "<table border=\"1\" class=\"dataframe\">\n",
       "  <thead>\n",
       "    <tr style=\"text-align: right;\">\n",
       "      <th></th>\n",
       "      <th>Loan Status</th>\n",
       "      <th>Current Loan Amount</th>\n",
       "      <th>Term</th>\n",
       "      <th>Credit Score</th>\n",
       "      <th>Annual Income</th>\n",
       "      <th>Years in current job</th>\n",
       "      <th>Home Ownership</th>\n",
       "      <th>Purpose</th>\n",
       "      <th>Monthly Debt</th>\n",
       "      <th>Years of Credit History</th>\n",
       "      <th>Number of Open Accounts</th>\n",
       "      <th>Number of Credit Problems</th>\n",
       "      <th>Current Credit Balance</th>\n",
       "      <th>Maximum Open Credit</th>\n",
       "      <th>Bankruptcies</th>\n",
       "      <th>Tax Liens</th>\n",
       "    </tr>\n",
       "  </thead>\n",
       "  <tbody>\n",
       "    <tr>\n",
       "      <th>0</th>\n",
       "      <td>Fully Paid</td>\n",
       "      <td>445412.0</td>\n",
       "      <td>Short Term</td>\n",
       "      <td>709.0</td>\n",
       "      <td>1167493.0</td>\n",
       "      <td>Mid_Level</td>\n",
       "      <td>Home Mortgage</td>\n",
       "      <td>Home Improvements</td>\n",
       "      <td>5214.74</td>\n",
       "      <td>17.2</td>\n",
       "      <td>6.0</td>\n",
       "      <td>1.0</td>\n",
       "      <td>228190.0</td>\n",
       "      <td>416746.0</td>\n",
       "      <td>1.0</td>\n",
       "      <td>0.0</td>\n",
       "    </tr>\n",
       "    <tr>\n",
       "      <th>2</th>\n",
       "      <td>Fully Paid</td>\n",
       "      <td>99999999.0</td>\n",
       "      <td>Short Term</td>\n",
       "      <td>741.0</td>\n",
       "      <td>2231892.0</td>\n",
       "      <td>Mid_Level</td>\n",
       "      <td>Own Home</td>\n",
       "      <td>Debt Consolidation</td>\n",
       "      <td>29200.53</td>\n",
       "      <td>14.9</td>\n",
       "      <td>18.0</td>\n",
       "      <td>1.0</td>\n",
       "      <td>297996.0</td>\n",
       "      <td>750090.0</td>\n",
       "      <td>0.0</td>\n",
       "      <td>0.0</td>\n",
       "    </tr>\n",
       "    <tr>\n",
       "      <th>3</th>\n",
       "      <td>Fully Paid</td>\n",
       "      <td>347666.0</td>\n",
       "      <td>Long Term</td>\n",
       "      <td>721.0</td>\n",
       "      <td>806949.0</td>\n",
       "      <td>Entry_Level</td>\n",
       "      <td>Own Home</td>\n",
       "      <td>Debt Consolidation</td>\n",
       "      <td>8741.90</td>\n",
       "      <td>12.0</td>\n",
       "      <td>9.0</td>\n",
       "      <td>0.0</td>\n",
       "      <td>256329.0</td>\n",
       "      <td>386958.0</td>\n",
       "      <td>0.0</td>\n",
       "      <td>0.0</td>\n",
       "    </tr>\n",
       "    <tr>\n",
       "      <th>5</th>\n",
       "      <td>Charged Off</td>\n",
       "      <td>206602.0</td>\n",
       "      <td>Short Term</td>\n",
       "      <td>729.0</td>\n",
       "      <td>896857.0</td>\n",
       "      <td>Senior_Level</td>\n",
       "      <td>Home Mortgage</td>\n",
       "      <td>Debt Consolidation</td>\n",
       "      <td>16367.74</td>\n",
       "      <td>17.3</td>\n",
       "      <td>6.0</td>\n",
       "      <td>0.0</td>\n",
       "      <td>215308.0</td>\n",
       "      <td>272448.0</td>\n",
       "      <td>0.0</td>\n",
       "      <td>0.0</td>\n",
       "    </tr>\n",
       "    <tr>\n",
       "      <th>6</th>\n",
       "      <td>Fully Paid</td>\n",
       "      <td>217646.0</td>\n",
       "      <td>Short Term</td>\n",
       "      <td>730.0</td>\n",
       "      <td>1184194.0</td>\n",
       "      <td>Entry_Level</td>\n",
       "      <td>Home Mortgage</td>\n",
       "      <td>Debt Consolidation</td>\n",
       "      <td>10855.08</td>\n",
       "      <td>19.6</td>\n",
       "      <td>13.0</td>\n",
       "      <td>1.0</td>\n",
       "      <td>122170.0</td>\n",
       "      <td>272052.0</td>\n",
       "      <td>1.0</td>\n",
       "      <td>0.0</td>\n",
       "    </tr>\n",
       "  </tbody>\n",
       "</table>\n",
       "</div>"
      ],
      "text/plain": [
       "   Loan Status  Current Loan Amount        Term  Credit Score  Annual Income  \\\n",
       "0   Fully Paid             445412.0  Short Term         709.0      1167493.0   \n",
       "2   Fully Paid           99999999.0  Short Term         741.0      2231892.0   \n",
       "3   Fully Paid             347666.0   Long Term         721.0       806949.0   \n",
       "5  Charged Off             206602.0  Short Term         729.0       896857.0   \n",
       "6   Fully Paid             217646.0  Short Term         730.0      1184194.0   \n",
       "\n",
       "  Years in current job Home Ownership             Purpose  Monthly Debt  \\\n",
       "0            Mid_Level  Home Mortgage   Home Improvements       5214.74   \n",
       "2            Mid_Level       Own Home  Debt Consolidation      29200.53   \n",
       "3          Entry_Level       Own Home  Debt Consolidation       8741.90   \n",
       "5         Senior_Level  Home Mortgage  Debt Consolidation      16367.74   \n",
       "6          Entry_Level  Home Mortgage  Debt Consolidation      10855.08   \n",
       "\n",
       "   Years of Credit History  Number of Open Accounts  \\\n",
       "0                     17.2                      6.0   \n",
       "2                     14.9                     18.0   \n",
       "3                     12.0                      9.0   \n",
       "5                     17.3                      6.0   \n",
       "6                     19.6                     13.0   \n",
       "\n",
       "   Number of Credit Problems  Current Credit Balance  Maximum Open Credit  \\\n",
       "0                        1.0                228190.0             416746.0   \n",
       "2                        1.0                297996.0             750090.0   \n",
       "3                        0.0                256329.0             386958.0   \n",
       "5                        0.0                215308.0             272448.0   \n",
       "6                        1.0                122170.0             272052.0   \n",
       "\n",
       "   Bankruptcies  Tax Liens  \n",
       "0           1.0        0.0  \n",
       "2           0.0        0.0  \n",
       "3           0.0        0.0  \n",
       "5           0.0        0.0  \n",
       "6           1.0        0.0  "
      ]
     },
     "execution_count": 61,
     "metadata": {},
     "output_type": "execute_result"
    }
   ],
   "source": [
    "df1.head()"
   ]
  },
  {
   "cell_type": "code",
   "execution_count": 62,
   "metadata": {},
   "outputs": [],
   "source": [
    "#### Insight Analysis-Checking the Correlation among features"
   ]
  },
  {
   "cell_type": "code",
   "execution_count": 63,
   "metadata": {},
   "outputs": [
    {
     "data": {
      "text/plain": [
       "<AxesSubplot:>"
      ]
     },
     "execution_count": 63,
     "metadata": {},
     "output_type": "execute_result"
    },
    {
     "data": {
      "image/png": "[encoded data removed]",
      "text/plain": [
       "<Figure size 1080x576 with 2 Axes>"
      ]
     },
     "metadata": {
      "needs_background": "light"
     },
     "output_type": "display_data"
    }
   ],
   "source": [
    "plt.figure(figsize=(15,8))\n",
    "\n",
    "sns.heatmap(df1.corr(),annot=True)"
   ]
  },
  {
   "cell_type": "code",
   "execution_count": null,
   "metadata": {},
   "outputs": [],
   "source": []
  },
  {
   "cell_type": "markdown",
   "metadata": {},
   "source": [
    "#### Encoding Categorical Features"
   ]
  },
  {
   "cell_type": "code",
   "execution_count": 64,
   "metadata": {},
   "outputs": [],
   "source": [
    "#Categorical Encoding \n",
    "\n",
    "# Selecting the categorical columns\n",
    "cat = df1[['Term', 'Years in current job', 'Home Ownership', 'Purpose']]\n",
    "\n",
    "# One hot encode\n",
    "cat = pd.get_dummies(cat,drop_first=True)\n",
    "\n",
    "#Dropping the original Columns \n",
    "\n",
    "df1.drop(['Term', 'Years in current job', 'Home Ownership', 'Purpose'], axis=1, inplace=True)\n",
    "\n",
    "#Concating the Dataframe with the new One-Hot Encoded columns \n",
    "\n",
    "df1 = pd.concat([df1,cat], axis = 1)"
   ]
  },
  {
   "cell_type": "code",
   "execution_count": 65,
   "metadata": {},
   "outputs": [],
   "source": [
    "df1['Loan Status']=df1['Loan Status'].replace({'Fully Paid':1,'Charged Off':0})"
   ]
  },
  {
   "cell_type": "markdown",
   "metadata": {},
   "source": [
    "### Applying SMOTE to treat the imbalance we faced during EDA"
   ]
  },
  {
   "cell_type": "code",
   "execution_count": 66,
   "metadata": {},
   "outputs": [],
   "source": [
    "X=df1.drop('Loan Status',axis=1)\n",
    "y=df1['Loan Status']"
   ]
  },
  {
   "cell_type": "code",
   "execution_count": 67,
   "metadata": {},
   "outputs": [
    {
     "name": "stdout",
     "output_type": "stream",
     "text": [
      "Before Counter({1: 63512, 0: 17171})\n",
      "After Counter({1: 63512, 0: 63512})\n"
     ]
    }
   ],
   "source": [
    "# import library\n",
    "from imblearn.over_sampling import SMOTE\n",
    "counter=Counter(y)\n",
    "print('Before',counter)\n",
    "smote = SMOTE()\n",
    "\n",
    "# fit predictor and target variable\n",
    "x_smote, y_smote = smote.fit_resample(X, y)\n",
    "\n",
    "counter=Counter(y_smote)\n",
    "print('After',counter)\n"
   ]
  },
  {
   "cell_type": "code",
   "execution_count": 68,
   "metadata": {},
   "outputs": [
    {
     "data": {
      "text/plain": [
       "1    63512\n",
       "0    63512\n",
       "Name: Loan Status, dtype: int64"
      ]
     },
     "execution_count": 68,
     "metadata": {},
     "output_type": "execute_result"
    }
   ],
   "source": [
    "y_smote.value_counts()"
   ]
  },
  {
   "cell_type": "code",
   "execution_count": 69,
   "metadata": {},
   "outputs": [
    {
     "name": "stdout",
     "output_type": "stream",
     "text": [
      "<class 'pandas.core.frame.DataFrame'>\n",
      "RangeIndex: 127024 entries, 0 to 127023\n",
      "Data columns (total 32 columns):\n",
      " #   Column                             Non-Null Count   Dtype  \n",
      "---  ------                             --------------   -----  \n",
      " 0   Current Loan Amount                127024 non-null  float64\n",
      " 1   Credit Score                       127024 non-null  float64\n",
      " 2   Annual Income                      127024 non-null  float64\n",
      " 3   Monthly Debt                       127024 non-null  float64\n",
      " 4   Years of Credit History            127024 non-null  float64\n",
      " 5   Number of Open Accounts            127024 non-null  float64\n",
      " 6   Number of Credit Problems          127024 non-null  float64\n",
      " 7   Current Credit Balance             127024 non-null  float64\n",
      " 8   Maximum Open Credit                127024 non-null  float64\n",
      " 9   Bankruptcies                       127024 non-null  float64\n",
      " 10  Tax Liens                          127024 non-null  float64\n",
      " 11  Term_Short Term                    127024 non-null  uint8  \n",
      " 12  Years in current job_Mid_Level     127024 non-null  uint8  \n",
      " 13  Years in current job_Senior_Level  127024 non-null  uint8  \n",
      " 14  Home Ownership_Home Mortgage       127024 non-null  uint8  \n",
      " 15  Home Ownership_Own Home            127024 non-null  uint8  \n",
      " 16  Home Ownership_Rent                127024 non-null  uint8  \n",
      " 17  Purpose_Buy House                  127024 non-null  uint8  \n",
      " 18  Purpose_Buy a Car                  127024 non-null  uint8  \n",
      " 19  Purpose_Debt Consolidation         127024 non-null  uint8  \n",
      " 20  Purpose_Educational Expenses       127024 non-null  uint8  \n",
      " 21  Purpose_Home Improvements          127024 non-null  uint8  \n",
      " 22  Purpose_Medical Bills              127024 non-null  uint8  \n",
      " 23  Purpose_Other                      127024 non-null  uint8  \n",
      " 24  Purpose_Take a Trip                127024 non-null  uint8  \n",
      " 25  Purpose_major_purchase             127024 non-null  uint8  \n",
      " 26  Purpose_moving                     127024 non-null  uint8  \n",
      " 27  Purpose_other                      127024 non-null  uint8  \n",
      " 28  Purpose_renewable_energy           127024 non-null  uint8  \n",
      " 29  Purpose_small_business             127024 non-null  uint8  \n",
      " 30  Purpose_vacation                   127024 non-null  uint8  \n",
      " 31  Purpose_wedding                    127024 non-null  uint8  \n",
      "dtypes: float64(11), uint8(21)\n",
      "memory usage: 13.2 MB\n"
     ]
    }
   ],
   "source": [
    "x_smote.info()"
   ]
  },
  {
   "cell_type": "markdown",
   "metadata": {},
   "source": [
    "#### Scaling Features "
   ]
  },
  {
   "cell_type": "code",
   "execution_count": 70,
   "metadata": {},
   "outputs": [],
   "source": [
    "x_smote['Annual Income']=x_smote['Annual Income'].astype('int32')"
   ]
  },
  {
   "cell_type": "code",
   "execution_count": 71,
   "metadata": {},
   "outputs": [],
   "source": [
    "x_smote['Credit Score']=x_smote['Credit Score'].astype('int32')"
   ]
  },
  {
   "cell_type": "code",
   "execution_count": 72,
   "metadata": {},
   "outputs": [],
   "source": [
    "x_smote['Number of Open Accounts']=x_smote['Number of Open Accounts'].astype('int32')"
   ]
  },
  {
   "cell_type": "code",
   "execution_count": 73,
   "metadata": {},
   "outputs": [],
   "source": [
    "x_smote['Number of Credit Problems']=x_smote['Number of Credit Problems'].astype('int32')"
   ]
  },
  {
   "cell_type": "code",
   "execution_count": 74,
   "metadata": {},
   "outputs": [],
   "source": [
    "x_smote['Current Credit Balance']=x_smote['Current Credit Balance'].astype('int32')"
   ]
  },
  {
   "cell_type": "code",
   "execution_count": 75,
   "metadata": {},
   "outputs": [],
   "source": [
    "x_smote['Maximum Open Credit']=x_smote['Maximum Open Credit'].astype('int32')"
   ]
  },
  {
   "cell_type": "code",
   "execution_count": 76,
   "metadata": {},
   "outputs": [],
   "source": [
    "x_smote['Bankruptcies']=x_smote['Bankruptcies'].astype('int32')"
   ]
  },
  {
   "cell_type": "code",
   "execution_count": 77,
   "metadata": {},
   "outputs": [],
   "source": [
    "x_smote['Tax Liens']=x_smote['Tax Liens'].astype('int32')"
   ]
  },
  {
   "cell_type": "code",
   "execution_count": 78,
   "metadata": {},
   "outputs": [],
   "source": [
    "x_smote['Current Loan Amount']=x_smote['Current Loan Amount'].astype('int32')"
   ]
  },
  {
   "cell_type": "code",
   "execution_count": 143,
   "metadata": {},
   "outputs": [
    {
     "data": {
      "text/html": [
       "<div>\n",
       "<style scoped>\n",
       "    .dataframe tbody tr th:only-of-type {\n",
       "        vertical-align: middle;\n",
       "    }\n",
       "\n",
       "    .dataframe tbody tr th {\n",
       "        vertical-align: top;\n",
       "    }\n",
       "\n",
       "    .dataframe thead th {\n",
       "        text-align: right;\n",
       "    }\n",
       "</style>\n",
       "<table border=\"1\" class=\"dataframe\">\n",
       "  <thead>\n",
       "    <tr style=\"text-align: right;\">\n",
       "      <th></th>\n",
       "      <th>Number of Credit Problems</th>\n",
       "      <th>Bankruptcies</th>\n",
       "      <th>Tax Liens</th>\n",
       "      <th>Term_Short Term</th>\n",
       "      <th>Years in current job_Mid_Level</th>\n",
       "      <th>Years in current job_Senior_Level</th>\n",
       "      <th>Home Ownership_Home Mortgage</th>\n",
       "      <th>Home Ownership_Own Home</th>\n",
       "      <th>Home Ownership_Rent</th>\n",
       "      <th>Purpose_Buy House</th>\n",
       "      <th>...</th>\n",
       "      <th>Purpose_vacation</th>\n",
       "      <th>Purpose_wedding</th>\n",
       "      <th>Current Loan Amount</th>\n",
       "      <th>Credit Score</th>\n",
       "      <th>Annual Income</th>\n",
       "      <th>Monthly Debt</th>\n",
       "      <th>Years of Credit History</th>\n",
       "      <th>Number of Open Accounts</th>\n",
       "      <th>Current Credit Balance</th>\n",
       "      <th>Maximum Open Credit</th>\n",
       "    </tr>\n",
       "  </thead>\n",
       "  <tbody>\n",
       "    <tr>\n",
       "      <th>0</th>\n",
       "      <td>2.908219</td>\n",
       "      <td>3.431690</td>\n",
       "      <td>-0.126061</td>\n",
       "      <td>0.787386</td>\n",
       "      <td>1.748755</td>\n",
       "      <td>-0.616215</td>\n",
       "      <td>1.260785</td>\n",
       "      <td>-0.257921</td>\n",
       "      <td>-0.740982</td>\n",
       "      <td>-0.067138</td>\n",
       "      <td>...</td>\n",
       "      <td>-0.02398</td>\n",
       "      <td>-0.026029</td>\n",
       "      <td>-0.242630</td>\n",
       "      <td>-0.420929</td>\n",
       "      <td>0.002436</td>\n",
       "      <td>-1.507968</td>\n",
       "      <td>0.024437</td>\n",
       "      <td>-1.198936</td>\n",
       "      <td>0.012240</td>\n",
       "      <td>-0.256281</td>\n",
       "    </tr>\n",
       "    <tr>\n",
       "      <th>1</th>\n",
       "      <td>2.908219</td>\n",
       "      <td>-0.291402</td>\n",
       "      <td>-0.126061</td>\n",
       "      <td>0.787386</td>\n",
       "      <td>1.748755</td>\n",
       "      <td>-0.616215</td>\n",
       "      <td>-0.793157</td>\n",
       "      <td>3.877152</td>\n",
       "      <td>-0.740982</td>\n",
       "      <td>-0.067138</td>\n",
       "      <td>...</td>\n",
       "      <td>-0.02398</td>\n",
       "      <td>-0.026029</td>\n",
       "      <td>3.161166</td>\n",
       "      <td>1.169949</td>\n",
       "      <td>1.384103</td>\n",
       "      <td>1.082931</td>\n",
       "      <td>-0.389182</td>\n",
       "      <td>1.410847</td>\n",
       "      <td>0.399760</td>\n",
       "      <td>0.638385</td>\n",
       "    </tr>\n",
       "    <tr>\n",
       "      <th>2</th>\n",
       "      <td>-0.343843</td>\n",
       "      <td>-0.291402</td>\n",
       "      <td>-0.126061</td>\n",
       "      <td>-1.270025</td>\n",
       "      <td>-0.571835</td>\n",
       "      <td>-0.616215</td>\n",
       "      <td>-0.793157</td>\n",
       "      <td>3.877152</td>\n",
       "      <td>-0.740982</td>\n",
       "      <td>-0.067138</td>\n",
       "      <td>...</td>\n",
       "      <td>-0.02398</td>\n",
       "      <td>-0.026029</td>\n",
       "      <td>-0.295750</td>\n",
       "      <td>0.087964</td>\n",
       "      <td>-0.766365</td>\n",
       "      <td>-0.965922</td>\n",
       "      <td>-0.988710</td>\n",
       "      <td>-0.327404</td>\n",
       "      <td>0.176889</td>\n",
       "      <td>-0.352808</td>\n",
       "    </tr>\n",
       "    <tr>\n",
       "      <th>3</th>\n",
       "      <td>-0.343843</td>\n",
       "      <td>-0.291402</td>\n",
       "      <td>-0.126061</td>\n",
       "      <td>0.787386</td>\n",
       "      <td>-0.571835</td>\n",
       "      <td>1.622810</td>\n",
       "      <td>1.260785</td>\n",
       "      <td>-0.257921</td>\n",
       "      <td>-0.740982</td>\n",
       "      <td>-0.067138</td>\n",
       "      <td>...</td>\n",
       "      <td>-0.02398</td>\n",
       "      <td>-0.026029</td>\n",
       "      <td>-0.373970</td>\n",
       "      <td>0.482898</td>\n",
       "      <td>-0.555336</td>\n",
       "      <td>-0.015298</td>\n",
       "      <td>0.041317</td>\n",
       "      <td>-1.198936</td>\n",
       "      <td>-0.067221</td>\n",
       "      <td>-0.753793</td>\n",
       "    </tr>\n",
       "    <tr>\n",
       "      <th>4</th>\n",
       "      <td>2.908219</td>\n",
       "      <td>3.431690</td>\n",
       "      <td>-0.126061</td>\n",
       "      <td>0.787386</td>\n",
       "      <td>-0.571835</td>\n",
       "      <td>-0.616215</td>\n",
       "      <td>1.260785</td>\n",
       "      <td>-0.257921</td>\n",
       "      <td>-0.740982</td>\n",
       "      <td>-0.067138</td>\n",
       "      <td>...</td>\n",
       "      <td>-0.02398</td>\n",
       "      <td>-0.026029</td>\n",
       "      <td>-0.367779</td>\n",
       "      <td>0.535665</td>\n",
       "      <td>0.033385</td>\n",
       "      <td>-0.674459</td>\n",
       "      <td>0.406611</td>\n",
       "      <td>0.577931</td>\n",
       "      <td>-0.727673</td>\n",
       "      <td>-0.755266</td>\n",
       "    </tr>\n",
       "  </tbody>\n",
       "</table>\n",
       "<p>5 rows × 32 columns</p>\n",
       "</div>"
      ],
      "text/plain": [
       "   Number of Credit Problems  Bankruptcies  Tax Liens  Term_Short Term  \\\n",
       "0                   2.908219      3.431690  -0.126061         0.787386   \n",
       "1                   2.908219     -0.291402  -0.126061         0.787386   \n",
       "2                  -0.343843     -0.291402  -0.126061        -1.270025   \n",
       "3                  -0.343843     -0.291402  -0.126061         0.787386   \n",
       "4                   2.908219      3.431690  -0.126061         0.787386   \n",
       "\n",
       "   Years in current job_Mid_Level  Years in current job_Senior_Level  \\\n",
       "0                        1.748755                          -0.616215   \n",
       "1                        1.748755                          -0.616215   \n",
       "2                       -0.571835                          -0.616215   \n",
       "3                       -0.571835                           1.622810   \n",
       "4                       -0.571835                          -0.616215   \n",
       "\n",
       "   Home Ownership_Home Mortgage  Home Ownership_Own Home  Home Ownership_Rent  \\\n",
       "0                      1.260785                -0.257921            -0.740982   \n",
       "1                     -0.793157                 3.877152            -0.740982   \n",
       "2                     -0.793157                 3.877152            -0.740982   \n",
       "3                      1.260785                -0.257921            -0.740982   \n",
       "4                      1.260785                -0.257921            -0.740982   \n",
       "\n",
       "   Purpose_Buy House  ...  Purpose_vacation  Purpose_wedding  \\\n",
       "0          -0.067138  ...          -0.02398        -0.026029   \n",
       "1          -0.067138  ...          -0.02398        -0.026029   \n",
       "2          -0.067138  ...          -0.02398        -0.026029   \n",
       "3          -0.067138  ...          -0.02398        -0.026029   \n",
       "4          -0.067138  ...          -0.02398        -0.026029   \n",
       "\n",
       "   Current Loan Amount  Credit Score  Annual Income  Monthly Debt  \\\n",
       "0            -0.242630     -0.420929       0.002436     -1.507968   \n",
       "1             3.161166      1.169949       1.384103      1.082931   \n",
       "2            -0.295750      0.087964      -0.766365     -0.965922   \n",
       "3            -0.373970      0.482898      -0.555336     -0.015298   \n",
       "4            -0.367779      0.535665       0.033385     -0.674459   \n",
       "\n",
       "   Years of Credit History  Number of Open Accounts  Current Credit Balance  \\\n",
       "0                 0.024437                -1.198936                0.012240   \n",
       "1                -0.389182                 1.410847                0.399760   \n",
       "2                -0.988710                -0.327404                0.176889   \n",
       "3                 0.041317                -1.198936               -0.067221   \n",
       "4                 0.406611                 0.577931               -0.727673   \n",
       "\n",
       "   Maximum Open Credit  \n",
       "0            -0.256281  \n",
       "1             0.638385  \n",
       "2            -0.352808  \n",
       "3            -0.753793  \n",
       "4            -0.755266  \n",
       "\n",
       "[5 rows x 32 columns]"
      ]
     },
     "execution_count": 143,
     "metadata": {},
     "output_type": "execute_result"
    }
   ],
   "source": [
    "x_smote.head()"
   ]
  },
  {
   "cell_type": "code",
   "execution_count": 80,
   "metadata": {},
   "outputs": [],
   "source": [
    "from sklearn.preprocessing import MinMaxScaler"
   ]
  },
  {
   "cell_type": "code",
   "execution_count": 81,
   "metadata": {},
   "outputs": [],
   "source": [
    "minmax=MinMaxScaler()"
   ]
  },
  {
   "cell_type": "code",
   "execution_count": 82,
   "metadata": {},
   "outputs": [],
   "source": [
    "scaled_features = minmax.fit_transform(x_smote[['Current Loan Amount','Credit Score','Annual Income','Monthly Debt','Years of Credit History','Number of Open Accounts','Current Credit Balance','Maximum Open Credit']])\n",
    "scaled_features_df = pd.DataFrame(scaled_features, index=x_smote.index, columns=['Current Loan Amount','Credit Score','Annual Income','Monthly Debt','Years of Credit History','Number of Open Accounts','Current Credit Balance','Maximum Open Credit'])"
   ]
  },
  {
   "cell_type": "code",
   "execution_count": 83,
   "metadata": {},
   "outputs": [],
   "source": [
    "x_smote.drop(['Current Loan Amount','Credit Score','Annual Income','Monthly Debt','Years of Credit History','Number of Open Accounts','Current Credit Balance','Maximum Open Credit'],axis=1,inplace=True)"
   ]
  },
  {
   "cell_type": "code",
   "execution_count": 84,
   "metadata": {},
   "outputs": [],
   "source": [
    "x_smote=pd.concat([x_smote,scaled_features_df],axis=1)"
   ]
  },
  {
   "cell_type": "code",
   "execution_count": 142,
   "metadata": {
    "scrolled": true
   },
   "outputs": [
    {
     "data": {
      "text/html": [
       "<div>\n",
       "<style scoped>\n",
       "    .dataframe tbody tr th:only-of-type {\n",
       "        vertical-align: middle;\n",
       "    }\n",
       "\n",
       "    .dataframe tbody tr th {\n",
       "        vertical-align: top;\n",
       "    }\n",
       "\n",
       "    .dataframe thead th {\n",
       "        text-align: right;\n",
       "    }\n",
       "</style>\n",
       "<table border=\"1\" class=\"dataframe\">\n",
       "  <thead>\n",
       "    <tr style=\"text-align: right;\">\n",
       "      <th></th>\n",
       "      <th>Number of Credit Problems</th>\n",
       "      <th>Bankruptcies</th>\n",
       "      <th>Tax Liens</th>\n",
       "      <th>Term_Short Term</th>\n",
       "      <th>Years in current job_Mid_Level</th>\n",
       "      <th>Years in current job_Senior_Level</th>\n",
       "      <th>Home Ownership_Home Mortgage</th>\n",
       "      <th>Home Ownership_Own Home</th>\n",
       "      <th>Home Ownership_Rent</th>\n",
       "      <th>Purpose_Buy House</th>\n",
       "      <th>...</th>\n",
       "      <th>Purpose_vacation</th>\n",
       "      <th>Purpose_wedding</th>\n",
       "      <th>Current Loan Amount</th>\n",
       "      <th>Credit Score</th>\n",
       "      <th>Annual Income</th>\n",
       "      <th>Monthly Debt</th>\n",
       "      <th>Years of Credit History</th>\n",
       "      <th>Number of Open Accounts</th>\n",
       "      <th>Current Credit Balance</th>\n",
       "      <th>Maximum Open Credit</th>\n",
       "    </tr>\n",
       "  </thead>\n",
       "  <tbody>\n",
       "    <tr>\n",
       "      <th>0</th>\n",
       "      <td>2.908219</td>\n",
       "      <td>3.431690</td>\n",
       "      <td>-0.126061</td>\n",
       "      <td>0.787386</td>\n",
       "      <td>1.748755</td>\n",
       "      <td>-0.616215</td>\n",
       "      <td>1.260785</td>\n",
       "      <td>-0.257921</td>\n",
       "      <td>-0.740982</td>\n",
       "      <td>-0.067138</td>\n",
       "      <td>...</td>\n",
       "      <td>-0.02398</td>\n",
       "      <td>-0.026029</td>\n",
       "      <td>-0.242630</td>\n",
       "      <td>-0.420929</td>\n",
       "      <td>0.002436</td>\n",
       "      <td>-1.507968</td>\n",
       "      <td>0.024437</td>\n",
       "      <td>-1.198936</td>\n",
       "      <td>0.012240</td>\n",
       "      <td>-0.256281</td>\n",
       "    </tr>\n",
       "    <tr>\n",
       "      <th>1</th>\n",
       "      <td>2.908219</td>\n",
       "      <td>-0.291402</td>\n",
       "      <td>-0.126061</td>\n",
       "      <td>0.787386</td>\n",
       "      <td>1.748755</td>\n",
       "      <td>-0.616215</td>\n",
       "      <td>-0.793157</td>\n",
       "      <td>3.877152</td>\n",
       "      <td>-0.740982</td>\n",
       "      <td>-0.067138</td>\n",
       "      <td>...</td>\n",
       "      <td>-0.02398</td>\n",
       "      <td>-0.026029</td>\n",
       "      <td>3.161166</td>\n",
       "      <td>1.169949</td>\n",
       "      <td>1.384103</td>\n",
       "      <td>1.082931</td>\n",
       "      <td>-0.389182</td>\n",
       "      <td>1.410847</td>\n",
       "      <td>0.399760</td>\n",
       "      <td>0.638385</td>\n",
       "    </tr>\n",
       "    <tr>\n",
       "      <th>2</th>\n",
       "      <td>-0.343843</td>\n",
       "      <td>-0.291402</td>\n",
       "      <td>-0.126061</td>\n",
       "      <td>-1.270025</td>\n",
       "      <td>-0.571835</td>\n",
       "      <td>-0.616215</td>\n",
       "      <td>-0.793157</td>\n",
       "      <td>3.877152</td>\n",
       "      <td>-0.740982</td>\n",
       "      <td>-0.067138</td>\n",
       "      <td>...</td>\n",
       "      <td>-0.02398</td>\n",
       "      <td>-0.026029</td>\n",
       "      <td>-0.295750</td>\n",
       "      <td>0.087964</td>\n",
       "      <td>-0.766365</td>\n",
       "      <td>-0.965922</td>\n",
       "      <td>-0.988710</td>\n",
       "      <td>-0.327404</td>\n",
       "      <td>0.176889</td>\n",
       "      <td>-0.352808</td>\n",
       "    </tr>\n",
       "    <tr>\n",
       "      <th>3</th>\n",
       "      <td>-0.343843</td>\n",
       "      <td>-0.291402</td>\n",
       "      <td>-0.126061</td>\n",
       "      <td>0.787386</td>\n",
       "      <td>-0.571835</td>\n",
       "      <td>1.622810</td>\n",
       "      <td>1.260785</td>\n",
       "      <td>-0.257921</td>\n",
       "      <td>-0.740982</td>\n",
       "      <td>-0.067138</td>\n",
       "      <td>...</td>\n",
       "      <td>-0.02398</td>\n",
       "      <td>-0.026029</td>\n",
       "      <td>-0.373970</td>\n",
       "      <td>0.482898</td>\n",
       "      <td>-0.555336</td>\n",
       "      <td>-0.015298</td>\n",
       "      <td>0.041317</td>\n",
       "      <td>-1.198936</td>\n",
       "      <td>-0.067221</td>\n",
       "      <td>-0.753793</td>\n",
       "    </tr>\n",
       "    <tr>\n",
       "      <th>4</th>\n",
       "      <td>2.908219</td>\n",
       "      <td>3.431690</td>\n",
       "      <td>-0.126061</td>\n",
       "      <td>0.787386</td>\n",
       "      <td>-0.571835</td>\n",
       "      <td>-0.616215</td>\n",
       "      <td>1.260785</td>\n",
       "      <td>-0.257921</td>\n",
       "      <td>-0.740982</td>\n",
       "      <td>-0.067138</td>\n",
       "      <td>...</td>\n",
       "      <td>-0.02398</td>\n",
       "      <td>-0.026029</td>\n",
       "      <td>-0.367779</td>\n",
       "      <td>0.535665</td>\n",
       "      <td>0.033385</td>\n",
       "      <td>-0.674459</td>\n",
       "      <td>0.406611</td>\n",
       "      <td>0.577931</td>\n",
       "      <td>-0.727673</td>\n",
       "      <td>-0.755266</td>\n",
       "    </tr>\n",
       "  </tbody>\n",
       "</table>\n",
       "<p>5 rows × 32 columns</p>\n",
       "</div>"
      ],
      "text/plain": [
       "   Number of Credit Problems  Bankruptcies  Tax Liens  Term_Short Term  \\\n",
       "0                   2.908219      3.431690  -0.126061         0.787386   \n",
       "1                   2.908219     -0.291402  -0.126061         0.787386   \n",
       "2                  -0.343843     -0.291402  -0.126061        -1.270025   \n",
       "3                  -0.343843     -0.291402  -0.126061         0.787386   \n",
       "4                   2.908219      3.431690  -0.126061         0.787386   \n",
       "\n",
       "   Years in current job_Mid_Level  Years in current job_Senior_Level  \\\n",
       "0                        1.748755                          -0.616215   \n",
       "1                        1.748755                          -0.616215   \n",
       "2                       -0.571835                          -0.616215   \n",
       "3                       -0.571835                           1.622810   \n",
       "4                       -0.571835                          -0.616215   \n",
       "\n",
       "   Home Ownership_Home Mortgage  Home Ownership_Own Home  Home Ownership_Rent  \\\n",
       "0                      1.260785                -0.257921            -0.740982   \n",
       "1                     -0.793157                 3.877152            -0.740982   \n",
       "2                     -0.793157                 3.877152            -0.740982   \n",
       "3                      1.260785                -0.257921            -0.740982   \n",
       "4                      1.260785                -0.257921            -0.740982   \n",
       "\n",
       "   Purpose_Buy House  ...  Purpose_vacation  Purpose_wedding  \\\n",
       "0          -0.067138  ...          -0.02398        -0.026029   \n",
       "1          -0.067138  ...          -0.02398        -0.026029   \n",
       "2          -0.067138  ...          -0.02398        -0.026029   \n",
       "3          -0.067138  ...          -0.02398        -0.026029   \n",
       "4          -0.067138  ...          -0.02398        -0.026029   \n",
       "\n",
       "   Current Loan Amount  Credit Score  Annual Income  Monthly Debt  \\\n",
       "0            -0.242630     -0.420929       0.002436     -1.507968   \n",
       "1             3.161166      1.169949       1.384103      1.082931   \n",
       "2            -0.295750      0.087964      -0.766365     -0.965922   \n",
       "3            -0.373970      0.482898      -0.555336     -0.015298   \n",
       "4            -0.367779      0.535665       0.033385     -0.674459   \n",
       "\n",
       "   Years of Credit History  Number of Open Accounts  Current Credit Balance  \\\n",
       "0                 0.024437                -1.198936                0.012240   \n",
       "1                -0.389182                 1.410847                0.399760   \n",
       "2                -0.988710                -0.327404                0.176889   \n",
       "3                 0.041317                -1.198936               -0.067221   \n",
       "4                 0.406611                 0.577931               -0.727673   \n",
       "\n",
       "   Maximum Open Credit  \n",
       "0            -0.256281  \n",
       "1             0.638385  \n",
       "2            -0.352808  \n",
       "3            -0.753793  \n",
       "4            -0.755266  \n",
       "\n",
       "[5 rows x 32 columns]"
      ]
     },
     "execution_count": 142,
     "metadata": {},
     "output_type": "execute_result"
    }
   ],
   "source": [
    "x_smote.head()"
   ]
  },
  {
   "cell_type": "code",
   "execution_count": 86,
   "metadata": {},
   "outputs": [
    {
     "data": {
      "text/plain": [
       "Number of Credit Problems            0\n",
       "Bankruptcies                         0\n",
       "Tax Liens                            0\n",
       "Term_Short Term                      0\n",
       "Years in current job_Mid_Level       0\n",
       "Years in current job_Senior_Level    0\n",
       "Home Ownership_Home Mortgage         0\n",
       "Home Ownership_Own Home              0\n",
       "Home Ownership_Rent                  0\n",
       "Purpose_Buy House                    0\n",
       "Purpose_Buy a Car                    0\n",
       "Purpose_Debt Consolidation           0\n",
       "Purpose_Educational Expenses         0\n",
       "Purpose_Home Improvements            0\n",
       "Purpose_Medical Bills                0\n",
       "Purpose_Other                        0\n",
       "Purpose_Take a Trip                  0\n",
       "Purpose_major_purchase               0\n",
       "Purpose_moving                       0\n",
       "Purpose_other                        0\n",
       "Purpose_renewable_energy             0\n",
       "Purpose_small_business               0\n",
       "Purpose_vacation                     0\n",
       "Purpose_wedding                      0\n",
       "Current Loan Amount                  0\n",
       "Credit Score                         0\n",
       "Annual Income                        0\n",
       "Monthly Debt                         0\n",
       "Years of Credit History              0\n",
       "Number of Open Accounts              0\n",
       "Current Credit Balance               0\n",
       "Maximum Open Credit                  0\n",
       "dtype: int64"
      ]
     },
     "execution_count": 86,
     "metadata": {},
     "output_type": "execute_result"
    }
   ],
   "source": [
    "x_smote.isnull().sum()"
   ]
  },
  {
   "cell_type": "code",
   "execution_count": 87,
   "metadata": {},
   "outputs": [
    {
     "data": {
      "text/plain": [
       "Number of Credit Problems              5.687044\n",
       "Bankruptcies                           4.306288\n",
       "Tax Liens                             17.012514\n",
       "Term_Short Term                       -0.482645\n",
       "Years in current job_Mid_Level         1.176934\n",
       "Years in current job_Senior_Level      1.006607\n",
       "Home Ownership_Home Mortgage           0.467634\n",
       "Home Ownership_Own Home                3.619274\n",
       "Home Ownership_Rent                    0.608586\n",
       "Purpose_Buy House                     14.827637\n",
       "Purpose_Buy a Car                     10.980674\n",
       "Purpose_Debt Consolidation            -1.055806\n",
       "Purpose_Educational Expenses          40.846156\n",
       "Purpose_Home Improvements              4.807565\n",
       "Purpose_Medical Bills                 11.476611\n",
       "Purpose_Other                          6.641050\n",
       "Purpose_Take a Trip                   16.192461\n",
       "Purpose_major_purchase                21.153073\n",
       "Purpose_moving                        31.831068\n",
       "Purpose_other                          4.597595\n",
       "Purpose_renewable_energy             125.997520\n",
       "Purpose_small_business                23.540129\n",
       "Purpose_vacation                      41.678488\n",
       "Purpose_wedding                       38.393473\n",
       "Current Loan Amount                    2.860978\n",
       "Credit Score                          -1.219100\n",
       "Annual Income                         39.954697\n",
       "Monthly Debt                           2.381079\n",
       "Years of Credit History                1.069394\n",
       "Number of Open Accounts                1.207149\n",
       "Current Credit Balance                16.451397\n",
       "Maximum Open Credit                  201.094809\n",
       "dtype: float64"
      ]
     },
     "execution_count": 87,
     "metadata": {},
     "output_type": "execute_result"
    }
   ],
   "source": [
    "x_smote.skew()"
   ]
  },
  {
   "cell_type": "code",
   "execution_count": 88,
   "metadata": {},
   "outputs": [],
   "source": [
    "from sklearn.preprocessing import PowerTransformer"
   ]
  },
  {
   "cell_type": "code",
   "execution_count": 89,
   "metadata": {},
   "outputs": [],
   "source": [
    "x_smote_columns=x_smote.columns"
   ]
  },
  {
   "cell_type": "code",
   "execution_count": 90,
   "metadata": {},
   "outputs": [],
   "source": [
    "power=PowerTransformer()"
   ]
  },
  {
   "cell_type": "code",
   "execution_count": 91,
   "metadata": {},
   "outputs": [],
   "source": [
    "x_smote = power.fit_transform(x_smote)"
   ]
  },
  {
   "cell_type": "code",
   "execution_count": 92,
   "metadata": {},
   "outputs": [],
   "source": [
    "x_smote= pd.DataFrame(x_smote,columns=x_smote_columns)"
   ]
  },
  {
   "cell_type": "code",
   "execution_count": 94,
   "metadata": {},
   "outputs": [
    {
     "data": {
      "text/html": [
       "<div>\n",
       "<style scoped>\n",
       "    .dataframe tbody tr th:only-of-type {\n",
       "        vertical-align: middle;\n",
       "    }\n",
       "\n",
       "    .dataframe tbody tr th {\n",
       "        vertical-align: top;\n",
       "    }\n",
       "\n",
       "    .dataframe thead th {\n",
       "        text-align: right;\n",
       "    }\n",
       "</style>\n",
       "<table border=\"1\" class=\"dataframe\">\n",
       "  <thead>\n",
       "    <tr style=\"text-align: right;\">\n",
       "      <th></th>\n",
       "      <th>Number of Credit Problems</th>\n",
       "      <th>Bankruptcies</th>\n",
       "      <th>Tax Liens</th>\n",
       "      <th>Term_Short Term</th>\n",
       "      <th>Years in current job_Mid_Level</th>\n",
       "      <th>Years in current job_Senior_Level</th>\n",
       "      <th>Home Ownership_Home Mortgage</th>\n",
       "      <th>Home Ownership_Own Home</th>\n",
       "      <th>Home Ownership_Rent</th>\n",
       "      <th>Purpose_Buy House</th>\n",
       "      <th>...</th>\n",
       "      <th>Purpose_vacation</th>\n",
       "      <th>Purpose_wedding</th>\n",
       "      <th>Current Loan Amount</th>\n",
       "      <th>Credit Score</th>\n",
       "      <th>Annual Income</th>\n",
       "      <th>Monthly Debt</th>\n",
       "      <th>Years of Credit History</th>\n",
       "      <th>Number of Open Accounts</th>\n",
       "      <th>Current Credit Balance</th>\n",
       "      <th>Maximum Open Credit</th>\n",
       "    </tr>\n",
       "  </thead>\n",
       "  <tbody>\n",
       "    <tr>\n",
       "      <th>0</th>\n",
       "      <td>2.908219</td>\n",
       "      <td>3.431690</td>\n",
       "      <td>-0.126061</td>\n",
       "      <td>0.787386</td>\n",
       "      <td>1.748755</td>\n",
       "      <td>-0.616215</td>\n",
       "      <td>1.260785</td>\n",
       "      <td>-0.257921</td>\n",
       "      <td>-0.740982</td>\n",
       "      <td>-0.067138</td>\n",
       "      <td>...</td>\n",
       "      <td>-0.02398</td>\n",
       "      <td>-0.026029</td>\n",
       "      <td>-0.242630</td>\n",
       "      <td>-0.420929</td>\n",
       "      <td>0.002436</td>\n",
       "      <td>-1.507968</td>\n",
       "      <td>0.024437</td>\n",
       "      <td>-1.198936</td>\n",
       "      <td>0.012240</td>\n",
       "      <td>-0.256281</td>\n",
       "    </tr>\n",
       "    <tr>\n",
       "      <th>1</th>\n",
       "      <td>2.908219</td>\n",
       "      <td>-0.291402</td>\n",
       "      <td>-0.126061</td>\n",
       "      <td>0.787386</td>\n",
       "      <td>1.748755</td>\n",
       "      <td>-0.616215</td>\n",
       "      <td>-0.793157</td>\n",
       "      <td>3.877152</td>\n",
       "      <td>-0.740982</td>\n",
       "      <td>-0.067138</td>\n",
       "      <td>...</td>\n",
       "      <td>-0.02398</td>\n",
       "      <td>-0.026029</td>\n",
       "      <td>3.161166</td>\n",
       "      <td>1.169949</td>\n",
       "      <td>1.384103</td>\n",
       "      <td>1.082931</td>\n",
       "      <td>-0.389182</td>\n",
       "      <td>1.410847</td>\n",
       "      <td>0.399760</td>\n",
       "      <td>0.638385</td>\n",
       "    </tr>\n",
       "    <tr>\n",
       "      <th>2</th>\n",
       "      <td>-0.343843</td>\n",
       "      <td>-0.291402</td>\n",
       "      <td>-0.126061</td>\n",
       "      <td>-1.270025</td>\n",
       "      <td>-0.571835</td>\n",
       "      <td>-0.616215</td>\n",
       "      <td>-0.793157</td>\n",
       "      <td>3.877152</td>\n",
       "      <td>-0.740982</td>\n",
       "      <td>-0.067138</td>\n",
       "      <td>...</td>\n",
       "      <td>-0.02398</td>\n",
       "      <td>-0.026029</td>\n",
       "      <td>-0.295750</td>\n",
       "      <td>0.087964</td>\n",
       "      <td>-0.766365</td>\n",
       "      <td>-0.965922</td>\n",
       "      <td>-0.988710</td>\n",
       "      <td>-0.327404</td>\n",
       "      <td>0.176889</td>\n",
       "      <td>-0.352808</td>\n",
       "    </tr>\n",
       "    <tr>\n",
       "      <th>3</th>\n",
       "      <td>-0.343843</td>\n",
       "      <td>-0.291402</td>\n",
       "      <td>-0.126061</td>\n",
       "      <td>0.787386</td>\n",
       "      <td>-0.571835</td>\n",
       "      <td>1.622810</td>\n",
       "      <td>1.260785</td>\n",
       "      <td>-0.257921</td>\n",
       "      <td>-0.740982</td>\n",
       "      <td>-0.067138</td>\n",
       "      <td>...</td>\n",
       "      <td>-0.02398</td>\n",
       "      <td>-0.026029</td>\n",
       "      <td>-0.373970</td>\n",
       "      <td>0.482898</td>\n",
       "      <td>-0.555336</td>\n",
       "      <td>-0.015298</td>\n",
       "      <td>0.041317</td>\n",
       "      <td>-1.198936</td>\n",
       "      <td>-0.067221</td>\n",
       "      <td>-0.753793</td>\n",
       "    </tr>\n",
       "    <tr>\n",
       "      <th>4</th>\n",
       "      <td>2.908219</td>\n",
       "      <td>3.431690</td>\n",
       "      <td>-0.126061</td>\n",
       "      <td>0.787386</td>\n",
       "      <td>-0.571835</td>\n",
       "      <td>-0.616215</td>\n",
       "      <td>1.260785</td>\n",
       "      <td>-0.257921</td>\n",
       "      <td>-0.740982</td>\n",
       "      <td>-0.067138</td>\n",
       "      <td>...</td>\n",
       "      <td>-0.02398</td>\n",
       "      <td>-0.026029</td>\n",
       "      <td>-0.367779</td>\n",
       "      <td>0.535665</td>\n",
       "      <td>0.033385</td>\n",
       "      <td>-0.674459</td>\n",
       "      <td>0.406611</td>\n",
       "      <td>0.577931</td>\n",
       "      <td>-0.727673</td>\n",
       "      <td>-0.755266</td>\n",
       "    </tr>\n",
       "    <tr>\n",
       "      <th>...</th>\n",
       "      <td>...</td>\n",
       "      <td>...</td>\n",
       "      <td>...</td>\n",
       "      <td>...</td>\n",
       "      <td>...</td>\n",
       "      <td>...</td>\n",
       "      <td>...</td>\n",
       "      <td>...</td>\n",
       "      <td>...</td>\n",
       "      <td>...</td>\n",
       "      <td>...</td>\n",
       "      <td>...</td>\n",
       "      <td>...</td>\n",
       "      <td>...</td>\n",
       "      <td>...</td>\n",
       "      <td>...</td>\n",
       "      <td>...</td>\n",
       "      <td>...</td>\n",
       "      <td>...</td>\n",
       "      <td>...</td>\n",
       "      <td>...</td>\n",
       "    </tr>\n",
       "    <tr>\n",
       "      <th>127019</th>\n",
       "      <td>-0.343843</td>\n",
       "      <td>-0.291402</td>\n",
       "      <td>-0.126061</td>\n",
       "      <td>0.787386</td>\n",
       "      <td>-0.571835</td>\n",
       "      <td>-0.616215</td>\n",
       "      <td>-0.793157</td>\n",
       "      <td>-0.257921</td>\n",
       "      <td>-0.740982</td>\n",
       "      <td>-0.067138</td>\n",
       "      <td>...</td>\n",
       "      <td>-0.02398</td>\n",
       "      <td>-0.026029</td>\n",
       "      <td>-0.414308</td>\n",
       "      <td>0.379685</td>\n",
       "      <td>-0.418323</td>\n",
       "      <td>-1.420983</td>\n",
       "      <td>-0.849463</td>\n",
       "      <td>-1.897910</td>\n",
       "      <td>-1.802793</td>\n",
       "      <td>-1.768399</td>\n",
       "    </tr>\n",
       "    <tr>\n",
       "      <th>127020</th>\n",
       "      <td>-0.343843</td>\n",
       "      <td>-0.291402</td>\n",
       "      <td>-0.126061</td>\n",
       "      <td>-1.270025</td>\n",
       "      <td>-0.571835</td>\n",
       "      <td>-0.616215</td>\n",
       "      <td>1.260785</td>\n",
       "      <td>-0.257921</td>\n",
       "      <td>-0.740982</td>\n",
       "      <td>-0.067138</td>\n",
       "      <td>...</td>\n",
       "      <td>-0.02398</td>\n",
       "      <td>-0.026029</td>\n",
       "      <td>-0.193254</td>\n",
       "      <td>0.134768</td>\n",
       "      <td>0.312521</td>\n",
       "      <td>1.005230</td>\n",
       "      <td>1.314323</td>\n",
       "      <td>0.157028</td>\n",
       "      <td>1.234485</td>\n",
       "      <td>0.924077</td>\n",
       "    </tr>\n",
       "    <tr>\n",
       "      <th>127021</th>\n",
       "      <td>-0.343843</td>\n",
       "      <td>-0.291402</td>\n",
       "      <td>-0.126061</td>\n",
       "      <td>-1.270025</td>\n",
       "      <td>-0.571835</td>\n",
       "      <td>-0.616215</td>\n",
       "      <td>-0.793157</td>\n",
       "      <td>-0.257921</td>\n",
       "      <td>-0.740982</td>\n",
       "      <td>-0.067138</td>\n",
       "      <td>...</td>\n",
       "      <td>-0.02398</td>\n",
       "      <td>-0.026029</td>\n",
       "      <td>-0.307303</td>\n",
       "      <td>-0.570353</td>\n",
       "      <td>-0.238142</td>\n",
       "      <td>-0.226997</td>\n",
       "      <td>-0.243893</td>\n",
       "      <td>-0.596943</td>\n",
       "      <td>-1.497069</td>\n",
       "      <td>-1.572872</td>\n",
       "    </tr>\n",
       "    <tr>\n",
       "      <th>127022</th>\n",
       "      <td>-0.343843</td>\n",
       "      <td>-0.291402</td>\n",
       "      <td>-0.126061</td>\n",
       "      <td>-1.270025</td>\n",
       "      <td>-0.571835</td>\n",
       "      <td>-0.616215</td>\n",
       "      <td>-0.793157</td>\n",
       "      <td>-0.257921</td>\n",
       "      <td>1.349561</td>\n",
       "      <td>-0.067138</td>\n",
       "      <td>...</td>\n",
       "      <td>-0.02398</td>\n",
       "      <td>-0.026029</td>\n",
       "      <td>-0.417445</td>\n",
       "      <td>-0.092273</td>\n",
       "      <td>-2.357364</td>\n",
       "      <td>-1.903353</td>\n",
       "      <td>-0.426787</td>\n",
       "      <td>-0.327404</td>\n",
       "      <td>-1.335602</td>\n",
       "      <td>-1.270987</td>\n",
       "    </tr>\n",
       "    <tr>\n",
       "      <th>127023</th>\n",
       "      <td>-0.343843</td>\n",
       "      <td>-0.291402</td>\n",
       "      <td>-0.126061</td>\n",
       "      <td>0.787386</td>\n",
       "      <td>-0.571835</td>\n",
       "      <td>-0.616215</td>\n",
       "      <td>-0.793157</td>\n",
       "      <td>-0.257921</td>\n",
       "      <td>-0.740982</td>\n",
       "      <td>-0.067138</td>\n",
       "      <td>...</td>\n",
       "      <td>-0.02398</td>\n",
       "      <td>-0.026029</td>\n",
       "      <td>-0.358807</td>\n",
       "      <td>0.927525</td>\n",
       "      <td>-1.173891</td>\n",
       "      <td>-1.877991</td>\n",
       "      <td>-0.375985</td>\n",
       "      <td>-1.535218</td>\n",
       "      <td>-1.174974</td>\n",
       "      <td>-0.938432</td>\n",
       "    </tr>\n",
       "  </tbody>\n",
       "</table>\n",
       "<p>127024 rows × 32 columns</p>\n",
       "</div>"
      ],
      "text/plain": [
       "        Number of Credit Problems  Bankruptcies  Tax Liens  Term_Short Term  \\\n",
       "0                        2.908219      3.431690  -0.126061         0.787386   \n",
       "1                        2.908219     -0.291402  -0.126061         0.787386   \n",
       "2                       -0.343843     -0.291402  -0.126061        -1.270025   \n",
       "3                       -0.343843     -0.291402  -0.126061         0.787386   \n",
       "4                        2.908219      3.431690  -0.126061         0.787386   \n",
       "...                           ...           ...        ...              ...   \n",
       "127019                  -0.343843     -0.291402  -0.126061         0.787386   \n",
       "127020                  -0.343843     -0.291402  -0.126061        -1.270025   \n",
       "127021                  -0.343843     -0.291402  -0.126061        -1.270025   \n",
       "127022                  -0.343843     -0.291402  -0.126061        -1.270025   \n",
       "127023                  -0.343843     -0.291402  -0.126061         0.787386   \n",
       "\n",
       "        Years in current job_Mid_Level  Years in current job_Senior_Level  \\\n",
       "0                             1.748755                          -0.616215   \n",
       "1                             1.748755                          -0.616215   \n",
       "2                            -0.571835                          -0.616215   \n",
       "3                            -0.571835                           1.622810   \n",
       "4                            -0.571835                          -0.616215   \n",
       "...                                ...                                ...   \n",
       "127019                       -0.571835                          -0.616215   \n",
       "127020                       -0.571835                          -0.616215   \n",
       "127021                       -0.571835                          -0.616215   \n",
       "127022                       -0.571835                          -0.616215   \n",
       "127023                       -0.571835                          -0.616215   \n",
       "\n",
       "        Home Ownership_Home Mortgage  Home Ownership_Own Home  \\\n",
       "0                           1.260785                -0.257921   \n",
       "1                          -0.793157                 3.877152   \n",
       "2                          -0.793157                 3.877152   \n",
       "3                           1.260785                -0.257921   \n",
       "4                           1.260785                -0.257921   \n",
       "...                              ...                      ...   \n",
       "127019                     -0.793157                -0.257921   \n",
       "127020                      1.260785                -0.257921   \n",
       "127021                     -0.793157                -0.257921   \n",
       "127022                     -0.793157                -0.257921   \n",
       "127023                     -0.793157                -0.257921   \n",
       "\n",
       "        Home Ownership_Rent  Purpose_Buy House  ...  Purpose_vacation  \\\n",
       "0                 -0.740982          -0.067138  ...          -0.02398   \n",
       "1                 -0.740982          -0.067138  ...          -0.02398   \n",
       "2                 -0.740982          -0.067138  ...          -0.02398   \n",
       "3                 -0.740982          -0.067138  ...          -0.02398   \n",
       "4                 -0.740982          -0.067138  ...          -0.02398   \n",
       "...                     ...                ...  ...               ...   \n",
       "127019            -0.740982          -0.067138  ...          -0.02398   \n",
       "127020            -0.740982          -0.067138  ...          -0.02398   \n",
       "127021            -0.740982          -0.067138  ...          -0.02398   \n",
       "127022             1.349561          -0.067138  ...          -0.02398   \n",
       "127023            -0.740982          -0.067138  ...          -0.02398   \n",
       "\n",
       "        Purpose_wedding  Current Loan Amount  Credit Score  Annual Income  \\\n",
       "0             -0.026029            -0.242630     -0.420929       0.002436   \n",
       "1             -0.026029             3.161166      1.169949       1.384103   \n",
       "2             -0.026029            -0.295750      0.087964      -0.766365   \n",
       "3             -0.026029            -0.373970      0.482898      -0.555336   \n",
       "4             -0.026029            -0.367779      0.535665       0.033385   \n",
       "...                 ...                  ...           ...            ...   \n",
       "127019        -0.026029            -0.414308      0.379685      -0.418323   \n",
       "127020        -0.026029            -0.193254      0.134768       0.312521   \n",
       "127021        -0.026029            -0.307303     -0.570353      -0.238142   \n",
       "127022        -0.026029            -0.417445     -0.092273      -2.357364   \n",
       "127023        -0.026029            -0.358807      0.927525      -1.173891   \n",
       "\n",
       "        Monthly Debt  Years of Credit History  Number of Open Accounts  \\\n",
       "0          -1.507968                 0.024437                -1.198936   \n",
       "1           1.082931                -0.389182                 1.410847   \n",
       "2          -0.965922                -0.988710                -0.327404   \n",
       "3          -0.015298                 0.041317                -1.198936   \n",
       "4          -0.674459                 0.406611                 0.577931   \n",
       "...              ...                      ...                      ...   \n",
       "127019     -1.420983                -0.849463                -1.897910   \n",
       "127020      1.005230                 1.314323                 0.157028   \n",
       "127021     -0.226997                -0.243893                -0.596943   \n",
       "127022     -1.903353                -0.426787                -0.327404   \n",
       "127023     -1.877991                -0.375985                -1.535218   \n",
       "\n",
       "        Current Credit Balance  Maximum Open Credit  \n",
       "0                     0.012240            -0.256281  \n",
       "1                     0.399760             0.638385  \n",
       "2                     0.176889            -0.352808  \n",
       "3                    -0.067221            -0.753793  \n",
       "4                    -0.727673            -0.755266  \n",
       "...                        ...                  ...  \n",
       "127019               -1.802793            -1.768399  \n",
       "127020                1.234485             0.924077  \n",
       "127021               -1.497069            -1.572872  \n",
       "127022               -1.335602            -1.270987  \n",
       "127023               -1.174974            -0.938432  \n",
       "\n",
       "[127024 rows x 32 columns]"
      ]
     },
     "execution_count": 94,
     "metadata": {},
     "output_type": "execute_result"
    }
   ],
   "source": [
    "x_smote"
   ]
  },
  {
   "cell_type": "markdown",
   "metadata": {},
   "source": [
    "# Logistic-Regression Base-Model"
   ]
  },
  {
   "cell_type": "code",
   "execution_count": 95,
   "metadata": {},
   "outputs": [],
   "source": [
    "from sklearn.model_selection import train_test_split"
   ]
  },
  {
   "cell_type": "code",
   "execution_count": 96,
   "metadata": {},
   "outputs": [],
   "source": [
    "X=x_smote\n",
    "y=y_smote"
   ]
  },
  {
   "cell_type": "code",
   "execution_count": 97,
   "metadata": {},
   "outputs": [],
   "source": [
    "X_train, X_test, y_train, y_test = train_test_split(X, y, test_size=0.3, random_state=42)"
   ]
  },
  {
   "cell_type": "code",
   "execution_count": 98,
   "metadata": {},
   "outputs": [],
   "source": [
    "from sklearn.linear_model import LogisticRegression"
   ]
  },
  {
   "cell_type": "code",
   "execution_count": 99,
   "metadata": {},
   "outputs": [],
   "source": [
    "lr=LogisticRegression()"
   ]
  },
  {
   "cell_type": "code",
   "execution_count": 100,
   "metadata": {},
   "outputs": [
    {
     "data": {
      "text/plain": [
       "LogisticRegression()"
      ]
     },
     "execution_count": 100,
     "metadata": {},
     "output_type": "execute_result"
    }
   ],
   "source": [
    "lr.fit(X_train,y_train)"
   ]
  },
  {
   "cell_type": "code",
   "execution_count": 101,
   "metadata": {},
   "outputs": [],
   "source": [
    "y_pred=lr.predict(X_test)"
   ]
  },
  {
   "cell_type": "code",
   "execution_count": 102,
   "metadata": {},
   "outputs": [],
   "source": [
    "from sklearn.metrics import classification_report,confusion_matrix, roc_curve,roc_auc_score"
   ]
  },
  {
   "cell_type": "code",
   "execution_count": 103,
   "metadata": {},
   "outputs": [
    {
     "name": "stdout",
     "output_type": "stream",
     "text": [
      "              precision    recall  f1-score   support\n",
      "\n",
      "           0       0.83      0.71      0.76     18988\n",
      "           1       0.75      0.85      0.80     19120\n",
      "\n",
      "    accuracy                           0.78     38108\n",
      "   macro avg       0.79      0.78      0.78     38108\n",
      "weighted avg       0.79      0.78      0.78     38108\n",
      "\n",
      "[[13484  5504]\n",
      " [ 2813 16307]]\n"
     ]
    }
   ],
   "source": [
    "print(classification_report(y_test,y_pred))\n",
    "print(confusion_matrix(y_test,y_pred))"
   ]
  },
  {
   "cell_type": "code",
   "execution_count": 104,
   "metadata": {},
   "outputs": [
    {
     "data": {
      "text/plain": [
       "Index(['Number of Credit Problems', 'Bankruptcies', 'Tax Liens',\n",
       "       'Term_Short Term', 'Years in current job_Mid_Level',\n",
       "       'Years in current job_Senior_Level', 'Home Ownership_Home Mortgage',\n",
       "       'Home Ownership_Own Home', 'Home Ownership_Rent', 'Purpose_Buy House',\n",
       "       'Purpose_Buy a Car', 'Purpose_Debt Consolidation',\n",
       "       'Purpose_Educational Expenses', 'Purpose_Home Improvements',\n",
       "       'Purpose_Medical Bills', 'Purpose_Other', 'Purpose_Take a Trip',\n",
       "       'Purpose_major_purchase', 'Purpose_moving', 'Purpose_other',\n",
       "       'Purpose_renewable_energy', 'Purpose_small_business',\n",
       "       'Purpose_vacation', 'Purpose_wedding', 'Current Loan Amount',\n",
       "       'Credit Score', 'Annual Income', 'Monthly Debt',\n",
       "       'Years of Credit History', 'Number of Open Accounts',\n",
       "       'Current Credit Balance', 'Maximum Open Credit'],\n",
       "      dtype='object')"
      ]
     },
     "execution_count": 104,
     "metadata": {},
     "output_type": "execute_result"
    }
   ],
   "source": [
    "X_train.columns"
   ]
  },
  {
   "cell_type": "code",
   "execution_count": 105,
   "metadata": {},
   "outputs": [],
   "source": [
    "import statsmodels.api as sm\n",
    "Xc=sm.add_constant(X_train)"
   ]
  },
  {
   "cell_type": "code",
   "execution_count": 106,
   "metadata": {},
   "outputs": [
    {
     "name": "stdout",
     "output_type": "stream",
     "text": [
      "Optimization terminated successfully.\n",
      "         Current function value: 0.410135\n",
      "         Iterations 10\n"
     ]
    },
    {
     "data": {
      "text/html": [
       "<table class=\"simpletable\">\n",
       "<caption>Logit Regression Results</caption>\n",
       "<tr>\n",
       "  <th>Dep. Variable:</th>      <td>Loan Status</td>   <th>  No. Observations:  </th>  <td> 88916</td> \n",
       "</tr>\n",
       "<tr>\n",
       "  <th>Model:</th>                 <td>Logit</td>      <th>  Df Residuals:      </th>  <td> 88883</td> \n",
       "</tr>\n",
       "<tr>\n",
       "  <th>Method:</th>                 <td>MLE</td>       <th>  Df Model:          </th>  <td>    32</td> \n",
       "</tr>\n",
       "<tr>\n",
       "  <th>Date:</th>            <td>Sun, 28 Mar 2021</td> <th>  Pseudo R-squ.:     </th>  <td>0.4083</td> \n",
       "</tr>\n",
       "<tr>\n",
       "  <th>Time:</th>                <td>15:33:50</td>     <th>  Log-Likelihood:    </th> <td> -36468.</td>\n",
       "</tr>\n",
       "<tr>\n",
       "  <th>converged:</th>             <td>True</td>       <th>  LL-Null:           </th> <td> -61632.</td>\n",
       "</tr>\n",
       "<tr>\n",
       "  <th>Covariance Type:</th>     <td>nonrobust</td>    <th>  LLR p-value:       </th>  <td> 0.000</td> \n",
       "</tr>\n",
       "</table>\n",
       "<table class=\"simpletable\">\n",
       "<tr>\n",
       "                  <td></td>                     <th>coef</th>     <th>std err</th>      <th>z</th>      <th>P>|z|</th>  <th>[0.025</th>    <th>0.975]</th>  \n",
       "</tr>\n",
       "<tr>\n",
       "  <th>const</th>                             <td>   -0.5831</td> <td>    0.033</td> <td>  -17.883</td> <td> 0.000</td> <td>   -0.647</td> <td>   -0.519</td>\n",
       "</tr>\n",
       "<tr>\n",
       "  <th>Number of Credit Problems</th>         <td>   -0.0084</td> <td>    0.022</td> <td>   -0.388</td> <td> 0.698</td> <td>   -0.051</td> <td>    0.034</td>\n",
       "</tr>\n",
       "<tr>\n",
       "  <th>Bankruptcies</th>                      <td>    0.1499</td> <td>    0.020</td> <td>    7.485</td> <td> 0.000</td> <td>    0.111</td> <td>    0.189</td>\n",
       "</tr>\n",
       "<tr>\n",
       "  <th>Tax Liens</th>                         <td>    0.0057</td> <td>    0.011</td> <td>    0.501</td> <td> 0.616</td> <td>   -0.017</td> <td>    0.028</td>\n",
       "</tr>\n",
       "<tr>\n",
       "  <th>Term_Short Term</th>                   <td>    0.4881</td> <td>    0.011</td> <td>   44.456</td> <td> 0.000</td> <td>    0.467</td> <td>    0.510</td>\n",
       "</tr>\n",
       "<tr>\n",
       "  <th>Years in current job_Mid_Level</th>    <td>    0.3464</td> <td>    0.010</td> <td>   36.098</td> <td> 0.000</td> <td>    0.328</td> <td>    0.365</td>\n",
       "</tr>\n",
       "<tr>\n",
       "  <th>Years in current job_Senior_Level</th> <td>    0.3447</td> <td>    0.010</td> <td>   34.410</td> <td> 0.000</td> <td>    0.325</td> <td>    0.364</td>\n",
       "</tr>\n",
       "<tr>\n",
       "  <th>Home Ownership_Home Mortgage</th>      <td>    2.7690</td> <td>    0.072</td> <td>   38.222</td> <td> 0.000</td> <td>    2.627</td> <td>    2.911</td>\n",
       "</tr>\n",
       "<tr>\n",
       "  <th>Home Ownership_Own Home</th>           <td>    1.4576</td> <td>    0.037</td> <td>   39.616</td> <td> 0.000</td> <td>    1.385</td> <td>    1.530</td>\n",
       "</tr>\n",
       "<tr>\n",
       "  <th>Home Ownership_Rent</th>               <td>    2.6417</td> <td>    0.071</td> <td>   37.125</td> <td> 0.000</td> <td>    2.502</td> <td>    2.781</td>\n",
       "</tr>\n",
       "<tr>\n",
       "  <th>Purpose_Buy House</th>                 <td>    0.2170</td> <td>    0.010</td> <td>   22.802</td> <td> 0.000</td> <td>    0.198</td> <td>    0.236</td>\n",
       "</tr>\n",
       "<tr>\n",
       "  <th>Purpose_Buy a Car</th>                 <td>    0.3283</td> <td>    0.011</td> <td>   29.861</td> <td> 0.000</td> <td>    0.307</td> <td>    0.350</td>\n",
       "</tr>\n",
       "<tr>\n",
       "  <th>Purpose_Debt Consolidation</th>        <td>    1.1400</td> <td>    0.022</td> <td>   52.924</td> <td> 0.000</td> <td>    1.098</td> <td>    1.182</td>\n",
       "</tr>\n",
       "<tr>\n",
       "  <th>Purpose_Educational Expenses</th>      <td>    0.0848</td> <td>    0.010</td> <td>    8.744</td> <td> 0.000</td> <td>    0.066</td> <td>    0.104</td>\n",
       "</tr>\n",
       "<tr>\n",
       "  <th>Purpose_Home Improvements</th>         <td>    0.5604</td> <td>    0.013</td> <td>   44.265</td> <td> 0.000</td> <td>    0.536</td> <td>    0.585</td>\n",
       "</tr>\n",
       "<tr>\n",
       "  <th>Purpose_Medical Bills</th>             <td>    0.2629</td> <td>    0.010</td> <td>   27.578</td> <td> 0.000</td> <td>    0.244</td> <td>    0.282</td>\n",
       "</tr>\n",
       "<tr>\n",
       "  <th>Purpose_Other</th>                     <td>    0.4893</td> <td>    0.011</td> <td>   42.800</td> <td> 0.000</td> <td>    0.467</td> <td>    0.512</td>\n",
       "</tr>\n",
       "<tr>\n",
       "  <th>Purpose_Take a Trip</th>               <td>    0.4190</td> <td>    0.015</td> <td>   27.857</td> <td> 0.000</td> <td>    0.389</td> <td>    0.448</td>\n",
       "</tr>\n",
       "<tr>\n",
       "  <th>Purpose_major_purchase</th>            <td>    0.1394</td> <td>    0.009</td> <td>   15.199</td> <td> 0.000</td> <td>    0.121</td> <td>    0.157</td>\n",
       "</tr>\n",
       "<tr>\n",
       "  <th>Purpose_moving</th>                    <td>    0.0881</td> <td>    0.008</td> <td>   10.644</td> <td> 0.000</td> <td>    0.072</td> <td>    0.104</td>\n",
       "</tr>\n",
       "<tr>\n",
       "  <th>Purpose_other</th>                     <td>    0.6141</td> <td>    0.013</td> <td>   48.626</td> <td> 0.000</td> <td>    0.589</td> <td>    0.639</td>\n",
       "</tr>\n",
       "<tr>\n",
       "  <th>Purpose_renewable_energy</th>          <td>    0.0233</td> <td>    0.007</td> <td>    3.346</td> <td> 0.001</td> <td>    0.010</td> <td>    0.037</td>\n",
       "</tr>\n",
       "<tr>\n",
       "  <th>Purpose_small_business</th>            <td>    0.0885</td> <td>    0.008</td> <td>   11.206</td> <td> 0.000</td> <td>    0.073</td> <td>    0.104</td>\n",
       "</tr>\n",
       "<tr>\n",
       "  <th>Purpose_vacation</th>                  <td>    0.0743</td> <td>    0.008</td> <td>    9.535</td> <td> 0.000</td> <td>    0.059</td> <td>    0.090</td>\n",
       "</tr>\n",
       "<tr>\n",
       "  <th>Purpose_wedding</th>                   <td>    0.0845</td> <td>    0.009</td> <td>    9.400</td> <td> 0.000</td> <td>    0.067</td> <td>    0.102</td>\n",
       "</tr>\n",
       "<tr>\n",
       "  <th>Current Loan Amount</th>               <td>    1.3721</td> <td>    0.043</td> <td>   32.201</td> <td> 0.000</td> <td>    1.289</td> <td>    1.456</td>\n",
       "</tr>\n",
       "<tr>\n",
       "  <th>Credit Score</th>                      <td>   -0.0045</td> <td>    0.011</td> <td>   -0.410</td> <td> 0.682</td> <td>   -0.026</td> <td>    0.017</td>\n",
       "</tr>\n",
       "<tr>\n",
       "  <th>Annual Income</th>                     <td>    0.4270</td> <td>    0.013</td> <td>   32.730</td> <td> 0.000</td> <td>    0.401</td> <td>    0.453</td>\n",
       "</tr>\n",
       "<tr>\n",
       "  <th>Monthly Debt</th>                      <td>   -0.2928</td> <td>    0.014</td> <td>  -20.620</td> <td> 0.000</td> <td>   -0.321</td> <td>   -0.265</td>\n",
       "</tr>\n",
       "<tr>\n",
       "  <th>Years of Credit History</th>           <td>   -0.0923</td> <td>    0.010</td> <td>   -9.358</td> <td> 0.000</td> <td>   -0.112</td> <td>   -0.073</td>\n",
       "</tr>\n",
       "<tr>\n",
       "  <th>Number of Open Accounts</th>           <td>   -0.0216</td> <td>    0.011</td> <td>   -1.921</td> <td> 0.055</td> <td>   -0.044</td> <td>    0.000</td>\n",
       "</tr>\n",
       "<tr>\n",
       "  <th>Current Credit Balance</th>            <td>   -0.2122</td> <td>    0.018</td> <td>  -11.915</td> <td> 0.000</td> <td>   -0.247</td> <td>   -0.177</td>\n",
       "</tr>\n",
       "<tr>\n",
       "  <th>Maximum Open Credit</th>               <td>    0.2452</td> <td>    0.018</td> <td>   13.384</td> <td> 0.000</td> <td>    0.209</td> <td>    0.281</td>\n",
       "</tr>\n",
       "</table>"
      ],
      "text/plain": [
       "<class 'statsmodels.iolib.summary.Summary'>\n",
       "\"\"\"\n",
       "                           Logit Regression Results                           \n",
       "==============================================================================\n",
       "Dep. Variable:            Loan Status   No. Observations:                88916\n",
       "Model:                          Logit   Df Residuals:                    88883\n",
       "Method:                           MLE   Df Model:                           32\n",
       "Date:                Sun, 28 Mar 2021   Pseudo R-squ.:                  0.4083\n",
       "Time:                        15:33:50   Log-Likelihood:                -36468.\n",
       "converged:                       True   LL-Null:                       -61632.\n",
       "Covariance Type:            nonrobust   LLR p-value:                     0.000\n",
       "=====================================================================================================\n",
       "                                        coef    std err          z      P>|z|      [0.025      0.975]\n",
       "-----------------------------------------------------------------------------------------------------\n",
       "const                                -0.5831      0.033    -17.883      0.000      -0.647      -0.519\n",
       "Number of Credit Problems            -0.0084      0.022     -0.388      0.698      -0.051       0.034\n",
       "Bankruptcies                          0.1499      0.020      7.485      0.000       0.111       0.189\n",
       "Tax Liens                             0.0057      0.011      0.501      0.616      -0.017       0.028\n",
       "Term_Short Term                       0.4881      0.011     44.456      0.000       0.467       0.510\n",
       "Years in current job_Mid_Level        0.3464      0.010     36.098      0.000       0.328       0.365\n",
       "Years in current job_Senior_Level     0.3447      0.010     34.410      0.000       0.325       0.364\n",
       "Home Ownership_Home Mortgage          2.7690      0.072     38.222      0.000       2.627       2.911\n",
       "Home Ownership_Own Home               1.4576      0.037     39.616      0.000       1.385       1.530\n",
       "Home Ownership_Rent                   2.6417      0.071     37.125      0.000       2.502       2.781\n",
       "Purpose_Buy House                     0.2170      0.010     22.802      0.000       0.198       0.236\n",
       "Purpose_Buy a Car                     0.3283      0.011     29.861      0.000       0.307       0.350\n",
       "Purpose_Debt Consolidation            1.1400      0.022     52.924      0.000       1.098       1.182\n",
       "Purpose_Educational Expenses          0.0848      0.010      8.744      0.000       0.066       0.104\n",
       "Purpose_Home Improvements             0.5604      0.013     44.265      0.000       0.536       0.585\n",
       "Purpose_Medical Bills                 0.2629      0.010     27.578      0.000       0.244       0.282\n",
       "Purpose_Other                         0.4893      0.011     42.800      0.000       0.467       0.512\n",
       "Purpose_Take a Trip                   0.4190      0.015     27.857      0.000       0.389       0.448\n",
       "Purpose_major_purchase                0.1394      0.009     15.199      0.000       0.121       0.157\n",
       "Purpose_moving                        0.0881      0.008     10.644      0.000       0.072       0.104\n",
       "Purpose_other                         0.6141      0.013     48.626      0.000       0.589       0.639\n",
       "Purpose_renewable_energy              0.0233      0.007      3.346      0.001       0.010       0.037\n",
       "Purpose_small_business                0.0885      0.008     11.206      0.000       0.073       0.104\n",
       "Purpose_vacation                      0.0743      0.008      9.535      0.000       0.059       0.090\n",
       "Purpose_wedding                       0.0845      0.009      9.400      0.000       0.067       0.102\n",
       "Current Loan Amount                   1.3721      0.043     32.201      0.000       1.289       1.456\n",
       "Credit Score                         -0.0045      0.011     -0.410      0.682      -0.026       0.017\n",
       "Annual Income                         0.4270      0.013     32.730      0.000       0.401       0.453\n",
       "Monthly Debt                         -0.2928      0.014    -20.620      0.000      -0.321      -0.265\n",
       "Years of Credit History              -0.0923      0.010     -9.358      0.000      -0.112      -0.073\n",
       "Number of Open Accounts              -0.0216      0.011     -1.921      0.055      -0.044       0.000\n",
       "Current Credit Balance               -0.2122      0.018    -11.915      0.000      -0.247      -0.177\n",
       "Maximum Open Credit                   0.2452      0.018     13.384      0.000       0.209       0.281\n",
       "=====================================================================================================\n",
       "\"\"\""
      ]
     },
     "execution_count": 106,
     "metadata": {},
     "output_type": "execute_result"
    }
   ],
   "source": [
    "model=sm.Logit(y_train,Xc).fit()\n",
    "model.summary()\n"
   ]
  },
  {
   "cell_type": "markdown",
   "metadata": {},
   "source": [
    "# Variance Inflation Factors "
   ]
  },
  {
   "cell_type": "code",
   "execution_count": 107,
   "metadata": {},
   "outputs": [
    {
     "data": {
      "text/html": [
       "<div>\n",
       "<style scoped>\n",
       "    .dataframe tbody tr th:only-of-type {\n",
       "        vertical-align: middle;\n",
       "    }\n",
       "\n",
       "    .dataframe tbody tr th {\n",
       "        vertical-align: top;\n",
       "    }\n",
       "\n",
       "    .dataframe thead th {\n",
       "        text-align: right;\n",
       "    }\n",
       "</style>\n",
       "<table border=\"1\" class=\"dataframe\">\n",
       "  <thead>\n",
       "    <tr style=\"text-align: right;\">\n",
       "      <th></th>\n",
       "      <th>vif</th>\n",
       "    </tr>\n",
       "  </thead>\n",
       "  <tbody>\n",
       "    <tr>\n",
       "      <th>Number of Credit Problems</th>\n",
       "      <td>5.696072</td>\n",
       "    </tr>\n",
       "    <tr>\n",
       "      <th>Bankruptcies</th>\n",
       "      <td>4.899847</td>\n",
       "    </tr>\n",
       "    <tr>\n",
       "      <th>Maximum Open Credit</th>\n",
       "      <td>3.826337</td>\n",
       "    </tr>\n",
       "    <tr>\n",
       "      <th>Current Credit Balance</th>\n",
       "      <td>3.668704</td>\n",
       "    </tr>\n",
       "    <tr>\n",
       "      <th>Monthly Debt</th>\n",
       "      <td>2.443453</td>\n",
       "    </tr>\n",
       "    <tr>\n",
       "      <th>Home Ownership_Home Mortgage</th>\n",
       "      <td>2.266158</td>\n",
       "    </tr>\n",
       "    <tr>\n",
       "      <th>Home Ownership_Rent</th>\n",
       "      <td>2.130310</td>\n",
       "    </tr>\n",
       "    <tr>\n",
       "      <th>Purpose_Debt Consolidation</th>\n",
       "      <td>1.991823</td>\n",
       "    </tr>\n",
       "    <tr>\n",
       "      <th>Annual Income</th>\n",
       "      <td>1.921722</td>\n",
       "    </tr>\n",
       "    <tr>\n",
       "      <th>Number of Open Accounts</th>\n",
       "      <td>1.615889</td>\n",
       "    </tr>\n",
       "    <tr>\n",
       "      <th>Tax Liens</th>\n",
       "      <td>1.611917</td>\n",
       "    </tr>\n",
       "    <tr>\n",
       "      <th>Credit Score</th>\n",
       "      <td>1.504002</td>\n",
       "    </tr>\n",
       "    <tr>\n",
       "      <th>Term_Short Term</th>\n",
       "      <td>1.451042</td>\n",
       "    </tr>\n",
       "    <tr>\n",
       "      <th>Home Ownership_Own Home</th>\n",
       "      <td>1.367086</td>\n",
       "    </tr>\n",
       "    <tr>\n",
       "      <th>Purpose_Home Improvements</th>\n",
       "      <td>1.359015</td>\n",
       "    </tr>\n",
       "    <tr>\n",
       "      <th>Purpose_other</th>\n",
       "      <td>1.346860</td>\n",
       "    </tr>\n",
       "    <tr>\n",
       "      <th>Years in current job_Senior_Level</th>\n",
       "      <td>1.333226</td>\n",
       "    </tr>\n",
       "    <tr>\n",
       "      <th>Years in current job_Mid_Level</th>\n",
       "      <td>1.239956</td>\n",
       "    </tr>\n",
       "    <tr>\n",
       "      <th>Years of Credit History</th>\n",
       "      <td>1.235081</td>\n",
       "    </tr>\n",
       "    <tr>\n",
       "      <th>Purpose_Other</th>\n",
       "      <td>1.185751</td>\n",
       "    </tr>\n",
       "    <tr>\n",
       "      <th>Purpose_Buy a Car</th>\n",
       "      <td>1.075934</td>\n",
       "    </tr>\n",
       "    <tr>\n",
       "      <th>Purpose_Medical Bills</th>\n",
       "      <td>1.065253</td>\n",
       "    </tr>\n",
       "    <tr>\n",
       "      <th>Current Loan Amount</th>\n",
       "      <td>1.055851</td>\n",
       "    </tr>\n",
       "    <tr>\n",
       "      <th>Purpose_Buy House</th>\n",
       "      <td>1.043882</td>\n",
       "    </tr>\n",
       "    <tr>\n",
       "      <th>Purpose_Take a Trip</th>\n",
       "      <td>1.032222</td>\n",
       "    </tr>\n",
       "    <tr>\n",
       "      <th>Purpose_major_purchase</th>\n",
       "      <td>1.018944</td>\n",
       "    </tr>\n",
       "    <tr>\n",
       "      <th>Purpose_small_business</th>\n",
       "      <td>1.016937</td>\n",
       "    </tr>\n",
       "    <tr>\n",
       "      <th>Purpose_moving</th>\n",
       "      <td>1.009627</td>\n",
       "    </tr>\n",
       "    <tr>\n",
       "      <th>Purpose_vacation</th>\n",
       "      <td>1.006898</td>\n",
       "    </tr>\n",
       "    <tr>\n",
       "      <th>Purpose_wedding</th>\n",
       "      <td>1.006684</td>\n",
       "    </tr>\n",
       "    <tr>\n",
       "      <th>Purpose_Educational Expenses</th>\n",
       "      <td>1.005571</td>\n",
       "    </tr>\n",
       "    <tr>\n",
       "      <th>Purpose_renewable_energy</th>\n",
       "      <td>1.000825</td>\n",
       "    </tr>\n",
       "    <tr>\n",
       "      <th>const</th>\n",
       "      <td>1.000107</td>\n",
       "    </tr>\n",
       "  </tbody>\n",
       "</table>\n",
       "</div>"
      ],
      "text/plain": [
       "                                        vif\n",
       "Number of Credit Problems          5.696072\n",
       "Bankruptcies                       4.899847\n",
       "Maximum Open Credit                3.826337\n",
       "Current Credit Balance             3.668704\n",
       "Monthly Debt                       2.443453\n",
       "Home Ownership_Home Mortgage       2.266158\n",
       "Home Ownership_Rent                2.130310\n",
       "Purpose_Debt Consolidation         1.991823\n",
       "Annual Income                      1.921722\n",
       "Number of Open Accounts            1.615889\n",
       "Tax Liens                          1.611917\n",
       "Credit Score                       1.504002\n",
       "Term_Short Term                    1.451042\n",
       "Home Ownership_Own Home            1.367086\n",
       "Purpose_Home Improvements          1.359015\n",
       "Purpose_other                      1.346860\n",
       "Years in current job_Senior_Level  1.333226\n",
       "Years in current job_Mid_Level     1.239956\n",
       "Years of Credit History            1.235081\n",
       "Purpose_Other                      1.185751\n",
       "Purpose_Buy a Car                  1.075934\n",
       "Purpose_Medical Bills              1.065253\n",
       "Current Loan Amount                1.055851\n",
       "Purpose_Buy House                  1.043882\n",
       "Purpose_Take a Trip                1.032222\n",
       "Purpose_major_purchase             1.018944\n",
       "Purpose_small_business             1.016937\n",
       "Purpose_moving                     1.009627\n",
       "Purpose_vacation                   1.006898\n",
       "Purpose_wedding                    1.006684\n",
       "Purpose_Educational Expenses       1.005571\n",
       "Purpose_renewable_energy           1.000825\n",
       "const                              1.000107"
      ]
     },
     "execution_count": 107,
     "metadata": {},
     "output_type": "execute_result"
    }
   ],
   "source": [
    "from statsmodels.stats.outliers_influence import variance_inflation_factor as vif\n",
    "pd.DataFrame([vif(Xc.values,i) for i in range(Xc.shape[1])],index=Xc.columns,columns=['vif']).sort_values(by='vif',ascending=False)"
   ]
  },
  {
   "cell_type": "markdown",
   "metadata": {},
   "source": [
    "# Backward Elimination "
   ]
  },
  {
   "cell_type": "code",
   "execution_count": 108,
   "metadata": {},
   "outputs": [
    {
     "name": "stdout",
     "output_type": "stream",
     "text": [
      "Credit Score 0.5618781441076417\n",
      "Number of Credit Problems 0.3336534558561449\n",
      "Tax Liens 0.30638947605602324\n",
      "Number of Open Accounts 0.11461199031084487\n",
      "['const', 'Bankruptcies', 'Term_Short Term', 'Years in current job_Mid_Level', 'Years in current job_Senior_Level', 'Home Ownership_Home Mortgage', 'Home Ownership_Own Home', 'Home Ownership_Rent', 'Purpose_Buy House', 'Purpose_Buy a Car', 'Purpose_Debt Consolidation', 'Purpose_Educational Expenses', 'Purpose_Home Improvements', 'Purpose_Medical Bills', 'Purpose_Other', 'Purpose_Take a Trip', 'Purpose_major_purchase', 'Purpose_moving', 'Purpose_other', 'Purpose_renewable_energy', 'Purpose_small_business', 'Purpose_vacation', 'Purpose_wedding', 'Current Loan Amount', 'Annual Income', 'Monthly Debt', 'Years of Credit History', 'Current Credit Balance', 'Maximum Open Credit']\n"
     ]
    }
   ],
   "source": [
    "cols=list(Xc.columns)\n",
    "while len(cols)>1:\n",
    "    X1=Xc[cols]\n",
    "    model=sm.OLS(y_train,X1).fit()\n",
    "    pvalues=model.pvalues\n",
    "    pvalues=pvalues.drop(\"const\")\n",
    "    max_p=max(pvalues)\n",
    "    feature_maxp=pvalues.idxmax()\n",
    "    if max_p>0.05:\n",
    "        cols.remove(feature_maxp)\n",
    "        print(feature_maxp,max_p)\n",
    "    else:\n",
    "        break\n",
    "        \n",
    "selected_features=cols\n",
    "print(cols)"
   ]
  },
  {
   "cell_type": "code",
   "execution_count": 109,
   "metadata": {},
   "outputs": [
    {
     "data": {
      "text/html": [
       "<table class=\"simpletable\">\n",
       "<caption>Generalized Linear Model Regression Results</caption>\n",
       "<tr>\n",
       "  <th>Dep. Variable:</th>      <td>Loan Status</td>   <th>  No. Observations:  </th>  <td> 88916</td> \n",
       "</tr>\n",
       "<tr>\n",
       "  <th>Model:</th>                  <td>GLM</td>       <th>  Df Residuals:      </th>  <td> 88887</td> \n",
       "</tr>\n",
       "<tr>\n",
       "  <th>Model Family:</th>        <td>Gaussian</td>     <th>  Df Model:          </th>  <td>    28</td> \n",
       "</tr>\n",
       "<tr>\n",
       "  <th>Link Function:</th>       <td>identity</td>     <th>  Scale:             </th> <td> 0.14817</td>\n",
       "</tr>\n",
       "<tr>\n",
       "  <th>Method:</th>                <td>IRLS</td>       <th>  Log-Likelihood:    </th> <td> -41265.</td>\n",
       "</tr>\n",
       "<tr>\n",
       "  <th>Date:</th>            <td>Sun, 28 Mar 2021</td> <th>  Deviance:          </th> <td>  13171.</td>\n",
       "</tr>\n",
       "<tr>\n",
       "  <th>Time:</th>                <td>15:34:18</td>     <th>  Pearson chi2:      </th> <td>1.32e+04</td>\n",
       "</tr>\n",
       "<tr>\n",
       "  <th>No. Iterations:</th>          <td>3</td>        <th>                     </th>     <td> </td>   \n",
       "</tr>\n",
       "<tr>\n",
       "  <th>Covariance Type:</th>     <td>nonrobust</td>    <th>                     </th>     <td> </td>   \n",
       "</tr>\n",
       "</table>\n",
       "<table class=\"simpletable\">\n",
       "<tr>\n",
       "                  <td></td>                     <th>coef</th>     <th>std err</th>      <th>z</th>      <th>P>|z|</th>  <th>[0.025</th>    <th>0.975]</th>  \n",
       "</tr>\n",
       "<tr>\n",
       "  <th>const</th>                             <td>    0.4994</td> <td>    0.001</td> <td>  386.850</td> <td> 0.000</td> <td>    0.497</td> <td>    0.502</td>\n",
       "</tr>\n",
       "<tr>\n",
       "  <th>Bankruptcies</th>                      <td>    0.0259</td> <td>    0.001</td> <td>   19.318</td> <td> 0.000</td> <td>    0.023</td> <td>    0.029</td>\n",
       "</tr>\n",
       "<tr>\n",
       "  <th>Term_Short Term</th>                   <td>    0.0749</td> <td>    0.001</td> <td>   54.921</td> <td> 0.000</td> <td>    0.072</td> <td>    0.078</td>\n",
       "</tr>\n",
       "<tr>\n",
       "  <th>Years in current job_Mid_Level</th>    <td>    0.0620</td> <td>    0.001</td> <td>   43.160</td> <td> 0.000</td> <td>    0.059</td> <td>    0.065</td>\n",
       "</tr>\n",
       "<tr>\n",
       "  <th>Years in current job_Senior_Level</th> <td>    0.0626</td> <td>    0.001</td> <td>   41.980</td> <td> 0.000</td> <td>    0.060</td> <td>    0.065</td>\n",
       "</tr>\n",
       "<tr>\n",
       "  <th>Home Ownership_Home Mortgage</th>      <td>    0.1965</td> <td>    0.002</td> <td>  101.180</td> <td> 0.000</td> <td>    0.193</td> <td>    0.200</td>\n",
       "</tr>\n",
       "<tr>\n",
       "  <th>Home Ownership_Own Home</th>           <td>    0.1139</td> <td>    0.002</td> <td>   75.268</td> <td> 0.000</td> <td>    0.111</td> <td>    0.117</td>\n",
       "</tr>\n",
       "<tr>\n",
       "  <th>Home Ownership_Rent</th>               <td>    0.1776</td> <td>    0.002</td> <td>   94.243</td> <td> 0.000</td> <td>    0.174</td> <td>    0.181</td>\n",
       "</tr>\n",
       "<tr>\n",
       "  <th>Purpose_Buy House</th>                 <td>    0.0263</td> <td>    0.001</td> <td>   20.313</td> <td> 0.000</td> <td>    0.024</td> <td>    0.029</td>\n",
       "</tr>\n",
       "<tr>\n",
       "  <th>Purpose_Buy a Car</th>                 <td>    0.0381</td> <td>    0.001</td> <td>   28.657</td> <td> 0.000</td> <td>    0.036</td> <td>    0.041</td>\n",
       "</tr>\n",
       "<tr>\n",
       "  <th>Purpose_Debt Consolidation</th>        <td>    0.1143</td> <td>    0.002</td> <td>   63.174</td> <td> 0.000</td> <td>    0.111</td> <td>    0.118</td>\n",
       "</tr>\n",
       "<tr>\n",
       "  <th>Purpose_Educational Expenses</th>      <td>    0.0103</td> <td>    0.001</td> <td>    7.721</td> <td> 0.000</td> <td>    0.008</td> <td>    0.013</td>\n",
       "</tr>\n",
       "<tr>\n",
       "  <th>Purpose_Home Improvements</th>         <td>    0.0637</td> <td>    0.002</td> <td>   42.319</td> <td> 0.000</td> <td>    0.061</td> <td>    0.067</td>\n",
       "</tr>\n",
       "<tr>\n",
       "  <th>Purpose_Medical Bills</th>             <td>    0.0305</td> <td>    0.001</td> <td>   22.747</td> <td> 0.000</td> <td>    0.028</td> <td>    0.033</td>\n",
       "</tr>\n",
       "<tr>\n",
       "  <th>Purpose_Other</th>                     <td>    0.0586</td> <td>    0.001</td> <td>   41.982</td> <td> 0.000</td> <td>    0.056</td> <td>    0.061</td>\n",
       "</tr>\n",
       "<tr>\n",
       "  <th>Purpose_Take a Trip</th>               <td>    0.0324</td> <td>    0.001</td> <td>   24.505</td> <td> 0.000</td> <td>    0.030</td> <td>    0.035</td>\n",
       "</tr>\n",
       "<tr>\n",
       "  <th>Purpose_major_purchase</th>            <td>    0.0165</td> <td>    0.001</td> <td>   12.213</td> <td> 0.000</td> <td>    0.014</td> <td>    0.019</td>\n",
       "</tr>\n",
       "<tr>\n",
       "  <th>Purpose_moving</th>                    <td>    0.0102</td> <td>    0.001</td> <td>    7.830</td> <td> 0.000</td> <td>    0.008</td> <td>    0.013</td>\n",
       "</tr>\n",
       "<tr>\n",
       "  <th>Purpose_other</th>                     <td>    0.0718</td> <td>    0.001</td> <td>   48.170</td> <td> 0.000</td> <td>    0.069</td> <td>    0.075</td>\n",
       "</tr>\n",
       "<tr>\n",
       "  <th>Purpose_renewable_energy</th>          <td>    0.0028</td> <td>    0.001</td> <td>    2.264</td> <td> 0.024</td> <td>    0.000</td> <td>    0.005</td>\n",
       "</tr>\n",
       "<tr>\n",
       "  <th>Purpose_small_business</th>            <td>    0.0083</td> <td>    0.001</td> <td>    6.463</td> <td> 0.000</td> <td>    0.006</td> <td>    0.011</td>\n",
       "</tr>\n",
       "<tr>\n",
       "  <th>Purpose_vacation</th>                  <td>    0.0089</td> <td>    0.001</td> <td>    7.487</td> <td> 0.000</td> <td>    0.007</td> <td>    0.011</td>\n",
       "</tr>\n",
       "<tr>\n",
       "  <th>Purpose_wedding</th>                   <td>    0.0100</td> <td>    0.001</td> <td>    7.926</td> <td> 0.000</td> <td>    0.007</td> <td>    0.012</td>\n",
       "</tr>\n",
       "<tr>\n",
       "  <th>Current Loan Amount</th>               <td>    0.0988</td> <td>    0.001</td> <td>   75.023</td> <td> 0.000</td> <td>    0.096</td> <td>    0.101</td>\n",
       "</tr>\n",
       "<tr>\n",
       "  <th>Annual Income</th>                     <td>    0.0676</td> <td>    0.002</td> <td>   38.210</td> <td> 0.000</td> <td>    0.064</td> <td>    0.071</td>\n",
       "</tr>\n",
       "<tr>\n",
       "  <th>Monthly Debt</th>                      <td>   -0.0437</td> <td>    0.002</td> <td>  -23.327</td> <td> 0.000</td> <td>   -0.047</td> <td>   -0.040</td>\n",
       "</tr>\n",
       "<tr>\n",
       "  <th>Years of Credit History</th>           <td>   -0.0152</td> <td>    0.001</td> <td>  -10.636</td> <td> 0.000</td> <td>   -0.018</td> <td>   -0.012</td>\n",
       "</tr>\n",
       "<tr>\n",
       "  <th>Current Credit Balance</th>            <td>   -0.0266</td> <td>    0.002</td> <td>  -11.212</td> <td> 0.000</td> <td>   -0.031</td> <td>   -0.022</td>\n",
       "</tr>\n",
       "<tr>\n",
       "  <th>Maximum Open Credit</th>               <td>    0.0330</td> <td>    0.002</td> <td>   14.858</td> <td> 0.000</td> <td>    0.029</td> <td>    0.037</td>\n",
       "</tr>\n",
       "</table>"
      ],
      "text/plain": [
       "<class 'statsmodels.iolib.summary.Summary'>\n",
       "\"\"\"\n",
       "                 Generalized Linear Model Regression Results                  \n",
       "==============================================================================\n",
       "Dep. Variable:            Loan Status   No. Observations:                88916\n",
       "Model:                            GLM   Df Residuals:                    88887\n",
       "Model Family:                Gaussian   Df Model:                           28\n",
       "Link Function:               identity   Scale:                         0.14817\n",
       "Method:                          IRLS   Log-Likelihood:                -41265.\n",
       "Date:                Sun, 28 Mar 2021   Deviance:                       13171.\n",
       "Time:                        15:34:18   Pearson chi2:                 1.32e+04\n",
       "No. Iterations:                     3                                         \n",
       "Covariance Type:            nonrobust                                         \n",
       "=====================================================================================================\n",
       "                                        coef    std err          z      P>|z|      [0.025      0.975]\n",
       "-----------------------------------------------------------------------------------------------------\n",
       "const                                 0.4994      0.001    386.850      0.000       0.497       0.502\n",
       "Bankruptcies                          0.0259      0.001     19.318      0.000       0.023       0.029\n",
       "Term_Short Term                       0.0749      0.001     54.921      0.000       0.072       0.078\n",
       "Years in current job_Mid_Level        0.0620      0.001     43.160      0.000       0.059       0.065\n",
       "Years in current job_Senior_Level     0.0626      0.001     41.980      0.000       0.060       0.065\n",
       "Home Ownership_Home Mortgage          0.1965      0.002    101.180      0.000       0.193       0.200\n",
       "Home Ownership_Own Home               0.1139      0.002     75.268      0.000       0.111       0.117\n",
       "Home Ownership_Rent                   0.1776      0.002     94.243      0.000       0.174       0.181\n",
       "Purpose_Buy House                     0.0263      0.001     20.313      0.000       0.024       0.029\n",
       "Purpose_Buy a Car                     0.0381      0.001     28.657      0.000       0.036       0.041\n",
       "Purpose_Debt Consolidation            0.1143      0.002     63.174      0.000       0.111       0.118\n",
       "Purpose_Educational Expenses          0.0103      0.001      7.721      0.000       0.008       0.013\n",
       "Purpose_Home Improvements             0.0637      0.002     42.319      0.000       0.061       0.067\n",
       "Purpose_Medical Bills                 0.0305      0.001     22.747      0.000       0.028       0.033\n",
       "Purpose_Other                         0.0586      0.001     41.982      0.000       0.056       0.061\n",
       "Purpose_Take a Trip                   0.0324      0.001     24.505      0.000       0.030       0.035\n",
       "Purpose_major_purchase                0.0165      0.001     12.213      0.000       0.014       0.019\n",
       "Purpose_moving                        0.0102      0.001      7.830      0.000       0.008       0.013\n",
       "Purpose_other                         0.0718      0.001     48.170      0.000       0.069       0.075\n",
       "Purpose_renewable_energy              0.0028      0.001      2.264      0.024       0.000       0.005\n",
       "Purpose_small_business                0.0083      0.001      6.463      0.000       0.006       0.011\n",
       "Purpose_vacation                      0.0089      0.001      7.487      0.000       0.007       0.011\n",
       "Purpose_wedding                       0.0100      0.001      7.926      0.000       0.007       0.012\n",
       "Current Loan Amount                   0.0988      0.001     75.023      0.000       0.096       0.101\n",
       "Annual Income                         0.0676      0.002     38.210      0.000       0.064       0.071\n",
       "Monthly Debt                         -0.0437      0.002    -23.327      0.000      -0.047      -0.040\n",
       "Years of Credit History              -0.0152      0.001    -10.636      0.000      -0.018      -0.012\n",
       "Current Credit Balance               -0.0266      0.002    -11.212      0.000      -0.031      -0.022\n",
       "Maximum Open Credit                   0.0330      0.002     14.858      0.000       0.029       0.037\n",
       "=====================================================================================================\n",
       "\"\"\""
      ]
     },
     "execution_count": 109,
     "metadata": {},
     "output_type": "execute_result"
    }
   ],
   "source": [
    "Xc=sm.add_constant(X_train)\n",
    "model=sm.GLM(y_train,Xc[selected_features]).fit()\n",
    "model.summary()"
   ]
  },
  {
   "cell_type": "code",
   "execution_count": 110,
   "metadata": {},
   "outputs": [
    {
     "data": {
      "text/html": [
       "<div>\n",
       "<style scoped>\n",
       "    .dataframe tbody tr th:only-of-type {\n",
       "        vertical-align: middle;\n",
       "    }\n",
       "\n",
       "    .dataframe tbody tr th {\n",
       "        vertical-align: top;\n",
       "    }\n",
       "\n",
       "    .dataframe thead th {\n",
       "        text-align: right;\n",
       "    }\n",
       "</style>\n",
       "<table border=\"1\" class=\"dataframe\">\n",
       "  <thead>\n",
       "    <tr style=\"text-align: right;\">\n",
       "      <th></th>\n",
       "      <th>prob</th>\n",
       "      <th>loan_status</th>\n",
       "      <th>y_est</th>\n",
       "    </tr>\n",
       "  </thead>\n",
       "  <tbody>\n",
       "    <tr>\n",
       "      <th>63234</th>\n",
       "      <td>0.593425</td>\n",
       "      <td>1</td>\n",
       "      <td>1</td>\n",
       "    </tr>\n",
       "    <tr>\n",
       "      <th>81586</th>\n",
       "      <td>0.034118</td>\n",
       "      <td>0</td>\n",
       "      <td>0</td>\n",
       "    </tr>\n",
       "    <tr>\n",
       "      <th>18258</th>\n",
       "      <td>0.887232</td>\n",
       "      <td>1</td>\n",
       "      <td>1</td>\n",
       "    </tr>\n",
       "    <tr>\n",
       "      <th>52002</th>\n",
       "      <td>0.842704</td>\n",
       "      <td>1</td>\n",
       "      <td>1</td>\n",
       "    </tr>\n",
       "    <tr>\n",
       "      <th>110890</th>\n",
       "      <td>0.485081</td>\n",
       "      <td>0</td>\n",
       "      <td>0</td>\n",
       "    </tr>\n",
       "  </tbody>\n",
       "</table>\n",
       "</div>"
      ],
      "text/plain": [
       "            prob  loan_status  y_est\n",
       "63234   0.593425            1      1\n",
       "81586   0.034118            0      0\n",
       "18258   0.887232            1      1\n",
       "52002   0.842704            1      1\n",
       "110890  0.485081            0      0"
      ]
     },
     "execution_count": 110,
     "metadata": {},
     "output_type": "execute_result"
    }
   ],
   "source": [
    "prob=model.predict(Xc[selected_features])\n",
    "prob=pd.DataFrame(prob,columns=[\"prob\"])\n",
    "prob['loan_status']=y_train\n",
    "prob['y_est']=prob['prob'].apply(lambda x: 0 if x<0.5 else 1)\n",
    "prob.head()"
   ]
  },
  {
   "cell_type": "code",
   "execution_count": 111,
   "metadata": {},
   "outputs": [
    {
     "name": "stdout",
     "output_type": "stream",
     "text": [
      "              precision    recall  f1-score   support\n",
      "\n",
      "           0       0.85      0.70      0.77     44524\n",
      "           1       0.75      0.88      0.81     44392\n",
      "\n",
      "    accuracy                           0.79     88916\n",
      "   macro avg       0.80      0.79      0.79     88916\n",
      "weighted avg       0.80      0.79      0.79     88916\n",
      "\n"
     ]
    }
   ],
   "source": [
    "from sklearn.metrics import confusion_matrix,accuracy_score\n",
    "confusion_matrix(prob['loan_status'],prob['y_est'])\n",
    "print(classification_report(prob['loan_status'],prob['y_est']))"
   ]
  },
  {
   "cell_type": "markdown",
   "metadata": {},
   "source": [
    "# Decsion Tree Base-Model"
   ]
  },
  {
   "cell_type": "code",
   "execution_count": 112,
   "metadata": {},
   "outputs": [],
   "source": [
    "from sklearn.tree import DecisionTreeClassifier"
   ]
  },
  {
   "cell_type": "code",
   "execution_count": 113,
   "metadata": {},
   "outputs": [
    {
     "name": "stdout",
     "output_type": "stream",
     "text": [
      "Train -Confusion Matrix :\n",
      " [[44524     0]\n",
      " [    0 44392]]\n",
      "\n",
      " Train -Accuracy Score : 1.0\n",
      "\n",
      " Train -AUC :  1.0\n",
      "Test -Confusion Matrix :\n",
      " [[14963  4025]\n",
      " [ 3845 15275]]\n",
      "\n",
      " Test -Accuracy Score : 0.7934816836359819\n",
      "\n",
      " Test -AUC :  0.7934628444038209\n"
     ]
    }
   ],
   "source": [
    "from sklearn.metrics import accuracy_score, confusion_matrix, roc_auc_score, roc_curve\n",
    "\n",
    "from sklearn.tree import DecisionTreeClassifier\n",
    "dtc = DecisionTreeClassifier()\n",
    "\n",
    "dtc.fit(X_train, y_train)\n",
    "\n",
    "y_train_pred = dtc.predict(X_train)\n",
    "y_train_prob = dtc.predict_proba(X_train)[:,1]\n",
    "\n",
    "print(\"Train -Confusion Matrix :\\n\",confusion_matrix(y_train,y_train_pred))\n",
    "print(\"\\n Train -Accuracy Score :\",accuracy_score(y_train,y_train_pred))\n",
    "print(\"\\n Train -AUC : \",roc_auc_score(y_train,y_train_prob))\n",
    "y_test_pred = dtc.predict(X_test)\n",
    "y_test_prob = dtc.predict_proba(X_test)[:,1]\n",
    "\n",
    "print(\"Test -Confusion Matrix :\\n\",confusion_matrix(y_test,y_test_pred))\n",
    "print(\"\\n Test -Accuracy Score :\",accuracy_score(y_test,y_test_pred))\n",
    "print(\"\\n Test -AUC : \",roc_auc_score(y_test,y_test_prob))"
   ]
  },
  {
   "cell_type": "markdown",
   "metadata": {},
   "source": [
    "### Random-Forest Base Model"
   ]
  },
  {
   "cell_type": "code",
   "execution_count": 114,
   "metadata": {},
   "outputs": [],
   "source": [
    "from sklearn.model_selection import train_test_split\n",
    "X_train, X_test, y_train, y_test = train_test_split( X, y, test_size=0.3, random_state=42)"
   ]
  },
  {
   "cell_type": "code",
   "execution_count": 115,
   "metadata": {},
   "outputs": [
    {
     "name": "stdout",
     "output_type": "stream",
     "text": [
      "Train -Confusion Matrix :\n",
      " [[44524     0]\n",
      " [    0 44392]]\n",
      "\n",
      " Train -Accuracy Score : 1.0\n",
      "\n",
      " Train -AUC :  1.0\n",
      "Test -Confusion Matrix :\n",
      " [[14943  4045]\n",
      " [ 1868 17252]]\n",
      "\n",
      " Test -Accuracy Score : 0.8448357300304398\n",
      "\n",
      " Test -AUC :  0.9303181848831191\n"
     ]
    }
   ],
   "source": [
    "from sklearn.metrics import accuracy_score, confusion_matrix, roc_auc_score, roc_curve\n",
    "\n",
    "from sklearn.ensemble import RandomForestClassifier\n",
    "rfc = RandomForestClassifier()\n",
    "\n",
    "rfc.fit(X_train, y_train)\n",
    "\n",
    "y_train_pred = rfc.predict(X_train)\n",
    "y_train_prob = rfc.predict_proba(X_train)[:,1]\n",
    "\n",
    "print(\"Train -Confusion Matrix :\\n\",confusion_matrix(y_train,y_train_pred))\n",
    "print(\"\\n Train -Accuracy Score :\",accuracy_score(y_train,y_train_pred))\n",
    "print(\"\\n Train -AUC : \",roc_auc_score(y_train,y_train_prob))\n",
    "y_test_pred = rfc.predict(X_test)\n",
    "y_test_prob = rfc.predict_proba(X_test)[:,1]\n",
    "\n",
    "print(\"Test -Confusion Matrix :\\n\",confusion_matrix(y_test,y_test_pred))\n",
    "print(\"\\n Test -Accuracy Score :\",accuracy_score(y_test,y_test_pred))\n",
    "print(\"\\n Test -AUC : \",roc_auc_score(y_test,y_test_prob))"
   ]
  },
  {
   "cell_type": "markdown",
   "metadata": {},
   "source": [
    "# HyperParameter Tunning "
   ]
  },
  {
   "cell_type": "code",
   "execution_count": 116,
   "metadata": {},
   "outputs": [],
   "source": [
    "rfc = RandomForestClassifier()\n",
    "from sklearn.model_selection import RandomizedSearchCV\n",
    "from scipy.stats import randint as sp_randint"
   ]
  },
  {
   "cell_type": "code",
   "execution_count": 117,
   "metadata": {},
   "outputs": [
    {
     "data": {
      "text/plain": [
       "{'criterion': 'gini',\n",
       " 'max_depth': 14,\n",
       " 'max_features': 4,\n",
       " 'min_samples_leaf': 19,\n",
       " 'min_samples_split': 17,\n",
       " 'n_estimators': 123}"
      ]
     },
     "execution_count": 117,
     "metadata": {},
     "output_type": "execute_result"
    }
   ],
   "source": [
    "param_dist={'n_estimators':sp_randint(25,250),\n",
    "            'max_features':sp_randint(1,7),\n",
    "           'max_depth':sp_randint(2,15),\n",
    "           'min_samples_leaf':sp_randint(1,20),\n",
    "           'min_samples_split':sp_randint(2,50),\n",
    "           'criterion':['gini','entropy']}\n",
    "\n",
    "rsearch=RandomizedSearchCV(rfc,param_distributions=param_dist,\n",
    "                           scoring='roc_auc',\n",
    "                              n_iter=10,cv=3,n_jobs=-1,random_state=4)\n",
    "rsearch.fit(X,y)\n",
    "rsearch.best_params_"
   ]
  },
  {
   "cell_type": "code",
   "execution_count": 119,
   "metadata": {},
   "outputs": [
    {
     "name": "stdout",
     "output_type": "stream",
     "text": [
      "Accuracy Train: 0.8071550677043502\n",
      "Confusion Matrix Train:\n",
      " [[33265 11259]\n",
      " [ 5888 38504]]\n",
      "Train-AUC 0.8968647211215298\n",
      "\n",
      "\n",
      "Accuracy Test: 0.792169623176236\n",
      "Confusion Matrix Test:\n",
      " [[13830  5158]\n",
      " [ 2762 16358]]\n",
      "Test-AUC 0.8778165057781484\n"
     ]
    }
   ],
   "source": [
    "rfc = RandomForestClassifier(**rsearch.best_params_,random_state=4)# **Keyword argument\n",
    "\n",
    "rfc.fit(X_train,y_train)\n",
    "y_train_pred = rfc.predict(X_train)\n",
    "y_train_prob = rfc.predict_proba(X_train)[:,1]\n",
    "print(\"Accuracy Train:\",accuracy_score(y_train,y_train_pred))\n",
    "print(\"Confusion Matrix Train:\\n\",confusion_matrix(y_train,y_train_pred))\n",
    "print('Train-AUC',roc_auc_score(y_train,y_train_prob))\n",
    "print('\\n')\n",
    "y_test_pred = rfc.predict(X_test)\n",
    "y_test_prob = rfc.predict_proba(X_test)[:,1]\n",
    "print(\"Accuracy Test:\",accuracy_score(y_test,y_test_pred))\n",
    "print(\"Confusion Matrix Test:\\n\",confusion_matrix(y_test,y_test_pred))\n",
    "print('Test-AUC',roc_auc_score(y_test,y_test_prob))"
   ]
  },
  {
   "cell_type": "code",
   "execution_count": 120,
   "metadata": {},
   "outputs": [
    {
     "name": "stdout",
     "output_type": "stream",
     "text": [
      "Test -classification_report :\n",
      "               precision    recall  f1-score   support\n",
      "\n",
      "           0       0.83      0.73      0.78     18988\n",
      "           1       0.76      0.86      0.81     19120\n",
      "\n",
      "    accuracy                           0.79     38108\n",
      "   macro avg       0.80      0.79      0.79     38108\n",
      "weighted avg       0.80      0.79      0.79     38108\n",
      "\n"
     ]
    }
   ],
   "source": [
    "print(\"Test -classification_report :\\n\",classification_report(y_test,y_test_pred))"
   ]
  },
  {
   "cell_type": "markdown",
   "metadata": {},
   "source": [
    "### AdaBoost-Classifier"
   ]
  },
  {
   "cell_type": "code",
   "execution_count": 121,
   "metadata": {},
   "outputs": [],
   "source": [
    "from sklearn.model_selection import train_test_split\n",
    "X_train, X_test, y_train, y_test = train_test_split( X, y, test_size=0.3, random_state=42)\n"
   ]
  },
  {
   "cell_type": "code",
   "execution_count": 122,
   "metadata": {},
   "outputs": [
    {
     "data": {
      "text/plain": [
       "AdaBoostClassifier()"
      ]
     },
     "execution_count": 122,
     "metadata": {},
     "output_type": "execute_result"
    }
   ],
   "source": [
    "from sklearn.ensemble import AdaBoostClassifier\n",
    "\n",
    "adac=AdaBoostClassifier()\n",
    "\n",
    "adac.fit(X_train,y_train)\n"
   ]
  },
  {
   "cell_type": "code",
   "execution_count": 123,
   "metadata": {
    "scrolled": true
   },
   "outputs": [
    {
     "name": "stdout",
     "output_type": "stream",
     "text": [
      "Accuracy Train: 0.7832786000269918\n",
      "Confusion Matrix Train:\n",
      " [[33765 10759]\n",
      " [ 8511 35881]]\n",
      "Train-AUC 0.8764662523174794\n",
      "\n",
      "\n",
      "Accuracy Test: 0.7795738427626745\n",
      "Confusion Matrix Test:\n",
      " [[14334  4654]\n",
      " [ 3746 15374]]\n",
      "Test-AUC 0.8719848510907131\n"
     ]
    }
   ],
   "source": [
    "y_train_pred = adac.predict(X_train)\n",
    "y_train_prob = adac.predict_proba(X_train)[:,1]\n",
    "print(\"Accuracy Train:\",accuracy_score(y_train,y_train_pred))\n",
    "print(\"Confusion Matrix Train:\\n\",confusion_matrix(y_train,y_train_pred))\n",
    "print('Train-AUC',roc_auc_score(y_train,y_train_prob))\n",
    "print('\\n')\n",
    "y_test_pred = adac.predict(X_test)\n",
    "y_test_prob = adac.predict_proba(X_test)[:,1]\n",
    "print(\"Accuracy Test:\",accuracy_score(y_test,y_test_pred))\n",
    "print(\"Confusion Matrix Test:\\n\",confusion_matrix(y_test,y_test_pred))\n",
    "print('Test-AUC',roc_auc_score(y_test,y_test_prob))\n"
   ]
  },
  {
   "cell_type": "markdown",
   "metadata": {},
   "source": [
    "# Lightgbm"
   ]
  },
  {
   "cell_type": "code",
   "execution_count": 124,
   "metadata": {},
   "outputs": [
    {
     "name": "stdout",
     "output_type": "stream",
     "text": [
      "Requirement already satisfied: lightgbm in c:\\users\\suman\\anaconda3\\lib\\site-packages (3.1.1)\n",
      "Requirement already satisfied: wheel in c:\\users\\suman\\anaconda3\\lib\\site-packages (from lightgbm) (0.35.1)\n",
      "Requirement already satisfied: numpy in c:\\users\\suman\\anaconda3\\lib\\site-packages (from lightgbm) (1.19.2)\n",
      "Requirement already satisfied: scipy in c:\\users\\suman\\anaconda3\\lib\\site-packages (from lightgbm) (1.5.2)\n",
      "Requirement already satisfied: scikit-learn!=0.22.0 in c:\\users\\suman\\anaconda3\\lib\\site-packages (from lightgbm) (0.24.1)\n",
      "Requirement already satisfied: threadpoolctl>=2.0.0 in c:\\users\\suman\\anaconda3\\lib\\site-packages (from scikit-learn!=0.22.0->lightgbm) (2.1.0)\n",
      "Requirement already satisfied: joblib>=0.11 in c:\\users\\suman\\anaconda3\\lib\\site-packages (from scikit-learn!=0.22.0->lightgbm) (0.17.0)\n",
      "Note: you may need to restart the kernel to use updated packages.\n"
     ]
    }
   ],
   "source": [
    "pip install lightgbm"
   ]
  },
  {
   "cell_type": "code",
   "execution_count": 125,
   "metadata": {},
   "outputs": [],
   "source": [
    "import lightgbm as lgb"
   ]
  },
  {
   "cell_type": "code",
   "execution_count": 126,
   "metadata": {},
   "outputs": [
    {
     "data": {
      "text/plain": [
       "LGBMClassifier(random_state=4)"
      ]
     },
     "execution_count": 126,
     "metadata": {},
     "output_type": "execute_result"
    }
   ],
   "source": [
    "lgbmc=lgb.LGBMClassifier(random_state=4)\n",
    "lgbmc.fit(X_train,y_train)"
   ]
  },
  {
   "cell_type": "code",
   "execution_count": 127,
   "metadata": {},
   "outputs": [
    {
     "name": "stdout",
     "output_type": "stream",
     "text": [
      "Accuracy Train: 0.8135543659183949\n",
      "Confusion Matrix Train:\n",
      " [[32876 11648]\n",
      " [ 4930 39462]]\n",
      "Train-AUC 0.9045590454887429\n",
      "\n",
      "\n",
      "Accuracy Test: 0.7984150309646268\n",
      "Confusion Matrix Test:\n",
      " [[13706  5282]\n",
      " [ 2400 16720]]\n",
      "Test-AUC 0.8876679766035893\n"
     ]
    }
   ],
   "source": [
    "y_train_pred = lgbmc.predict(X_train)\n",
    "y_train_prob = lgbmc.predict_proba(X_train)[:,1]\n",
    "print(\"Accuracy Train:\",accuracy_score(y_train,y_train_pred))\n",
    "print(\"Confusion Matrix Train:\\n\",confusion_matrix(y_train,y_train_pred))\n",
    "print('Train-AUC',roc_auc_score(y_train,y_train_prob))\n",
    "print('\\n')\n",
    "y_test_pred = lgbmc.predict(X_test)\n",
    "y_test_prob = lgbmc.predict_proba(X_test)[:,1]\n",
    "print(\"Accuracy Test:\",accuracy_score(y_test,y_test_pred))\n",
    "print(\"Confusion Matrix Test:\\n\",confusion_matrix(y_test,y_test_pred))\n",
    "print('Test-AUC',roc_auc_score(y_test,y_test_prob))"
   ]
  },
  {
   "cell_type": "markdown",
   "metadata": {},
   "source": [
    "# Hyper Parameter Tunning"
   ]
  },
  {
   "cell_type": "code",
   "execution_count": 128,
   "metadata": {},
   "outputs": [
    {
     "name": "stdout",
     "output_type": "stream",
     "text": [
      "[LightGBM] [Warning] Accuracy may be bad since you didn't explicitly set num_leaves OR 2^max_depth > num_leaves. (num_leaves=31).\n"
     ]
    },
    {
     "data": {
      "text/plain": [
       "{'learning_rate': 0.34411063660206304,\n",
       " 'max_depth': 13,\n",
       " 'min_child_samples': 11,\n",
       " 'n_estimators': 227}"
      ]
     },
     "execution_count": 128,
     "metadata": {},
     "output_type": "execute_result"
    }
   ],
   "source": [
    "from sklearn.model_selection import RandomizedSearchCV\n",
    "from scipy.stats import randint as sp_randint\n",
    "from scipy.stats import uniform as sp_uniform\n",
    "lgbmc=lgb.LGBMClassifier(random_state=4)\n",
    "params={'n_estimators': sp_randint(50,250),\"max_depth\":sp_randint(1,15),\n",
    "       'min_child_samples':sp_randint(2,25),\n",
    "       'learning_rate': sp_uniform(0,0.5)}\n",
    "rsearch=RandomizedSearchCV(lgbmc,param_distributions=params,cv=3,\n",
    "                  n_iter=100,scoring='roc_auc',random_state=4,\n",
    "                  n_jobs=-1)\n",
    "rsearch.fit(X,y)\n",
    "rsearch.best_params_"
   ]
  },
  {
   "cell_type": "code",
   "execution_count": 137,
   "metadata": {},
   "outputs": [
    {
     "name": "stdout",
     "output_type": "stream",
     "text": [
      "[LightGBM] [Warning] Unknown parameter: gamma\n",
      "[LightGBM] [Warning] Accuracy may be bad since you didn't explicitly set num_leaves OR 2^max_depth > num_leaves. (num_leaves=31).\n",
      "Accuracy Train: 0.854694318232939\n",
      "Confusion Matrix Train:\n",
      " [[35751  8773]\n",
      " [ 4147 40245]]\n",
      "Train-AUC 0.9392805510997093\n",
      "\n",
      "\n",
      "Accuracy Test: 0.8115356355620867\n",
      "Confusion Matrix Test:\n",
      " [[14269  4719]\n",
      " [ 2463 16657]]\n",
      "Test-AUC 0.895442108669382\n"
     ]
    }
   ],
   "source": [
    "lgbmc=lgb.LGBMClassifier(**rsearch.best_params_,importance_type='gain',random_state=4)\n",
    "lgbmc.fit(X_train,y_train)\n",
    "y_train_pred = lgbmc.predict(X_train)\n",
    "y_train_prob = lgbmc.predict_proba(X_train)[:,1]\n",
    "print(\"Accuracy Train:\",accuracy_score(y_train,y_train_pred))\n",
    "print(\"Confusion Matrix Train:\\n\",confusion_matrix(y_train,y_train_pred))\n",
    "print('Train-AUC',roc_auc_score(y_train,y_train_prob))\n",
    "print('\\n')\n",
    "y_test_pred = lgbmc.predict(X_test)\n",
    "y_test_prob = lgbmc.predict_proba(X_test)[:,1]\n",
    "print(\"Accuracy Test:\",accuracy_score(y_test,y_test_pred))\n",
    "print(\"Confusion Matrix Test:\\n\",confusion_matrix(y_test,y_test_pred))\n",
    "print('Test-AUC',roc_auc_score(y_test,y_test_prob))"
   ]
  },
  {
   "cell_type": "code",
   "execution_count": 138,
   "metadata": {},
   "outputs": [
    {
     "data": {
      "text/html": [
       "<div>\n",
       "<style scoped>\n",
       "    .dataframe tbody tr th:only-of-type {\n",
       "        vertical-align: middle;\n",
       "    }\n",
       "\n",
       "    .dataframe tbody tr th {\n",
       "        vertical-align: top;\n",
       "    }\n",
       "\n",
       "    .dataframe thead th {\n",
       "        text-align: right;\n",
       "    }\n",
       "</style>\n",
       "<table border=\"1\" class=\"dataframe\">\n",
       "  <thead>\n",
       "    <tr style=\"text-align: right;\">\n",
       "      <th></th>\n",
       "      <th>imp</th>\n",
       "    </tr>\n",
       "  </thead>\n",
       "  <tbody>\n",
       "    <tr>\n",
       "      <th>Current Loan Amount</th>\n",
       "      <td>29082.097591</td>\n",
       "    </tr>\n",
       "    <tr>\n",
       "      <th>Home Ownership_Own Home</th>\n",
       "      <td>19365.835601</td>\n",
       "    </tr>\n",
       "    <tr>\n",
       "      <th>Home Ownership_Rent</th>\n",
       "      <td>16625.721866</td>\n",
       "    </tr>\n",
       "    <tr>\n",
       "      <th>Home Ownership_Home Mortgage</th>\n",
       "      <td>10829.501545</td>\n",
       "    </tr>\n",
       "    <tr>\n",
       "      <th>Term_Short Term</th>\n",
       "      <td>9358.267832</td>\n",
       "    </tr>\n",
       "    <tr>\n",
       "      <th>Years of Credit History</th>\n",
       "      <td>6741.404396</td>\n",
       "    </tr>\n",
       "    <tr>\n",
       "      <th>Annual Income</th>\n",
       "      <td>6689.806013</td>\n",
       "    </tr>\n",
       "    <tr>\n",
       "      <th>Credit Score</th>\n",
       "      <td>6437.573266</td>\n",
       "    </tr>\n",
       "    <tr>\n",
       "      <th>Years in current job_Senior_Level</th>\n",
       "      <td>4382.163914</td>\n",
       "    </tr>\n",
       "    <tr>\n",
       "      <th>Monthly Debt</th>\n",
       "      <td>3714.057872</td>\n",
       "    </tr>\n",
       "    <tr>\n",
       "      <th>Maximum Open Credit</th>\n",
       "      <td>3601.847312</td>\n",
       "    </tr>\n",
       "    <tr>\n",
       "      <th>Years in current job_Mid_Level</th>\n",
       "      <td>3352.335051</td>\n",
       "    </tr>\n",
       "    <tr>\n",
       "      <th>Current Credit Balance</th>\n",
       "      <td>3156.328733</td>\n",
       "    </tr>\n",
       "    <tr>\n",
       "      <th>Purpose_other</th>\n",
       "      <td>3102.429720</td>\n",
       "    </tr>\n",
       "    <tr>\n",
       "      <th>Purpose_Debt Consolidation</th>\n",
       "      <td>2855.824667</td>\n",
       "    </tr>\n",
       "    <tr>\n",
       "      <th>Purpose_Home Improvements</th>\n",
       "      <td>2301.651282</td>\n",
       "    </tr>\n",
       "    <tr>\n",
       "      <th>Purpose_Other</th>\n",
       "      <td>1988.723399</td>\n",
       "    </tr>\n",
       "    <tr>\n",
       "      <th>Number of Open Accounts</th>\n",
       "      <td>1714.658250</td>\n",
       "    </tr>\n",
       "    <tr>\n",
       "      <th>Bankruptcies</th>\n",
       "      <td>1138.840973</td>\n",
       "    </tr>\n",
       "    <tr>\n",
       "      <th>Purpose_Take a Trip</th>\n",
       "      <td>1086.301406</td>\n",
       "    </tr>\n",
       "    <tr>\n",
       "      <th>Purpose_Buy a Car</th>\n",
       "      <td>764.801952</td>\n",
       "    </tr>\n",
       "    <tr>\n",
       "      <th>Purpose_Medical Bills</th>\n",
       "      <td>742.201634</td>\n",
       "    </tr>\n",
       "    <tr>\n",
       "      <th>Purpose_Buy House</th>\n",
       "      <td>590.420748</td>\n",
       "    </tr>\n",
       "    <tr>\n",
       "      <th>Number of Credit Problems</th>\n",
       "      <td>383.365766</td>\n",
       "    </tr>\n",
       "    <tr>\n",
       "      <th>Purpose_major_purchase</th>\n",
       "      <td>257.029291</td>\n",
       "    </tr>\n",
       "    <tr>\n",
       "      <th>Purpose_moving</th>\n",
       "      <td>133.632398</td>\n",
       "    </tr>\n",
       "    <tr>\n",
       "      <th>Purpose_wedding</th>\n",
       "      <td>131.903346</td>\n",
       "    </tr>\n",
       "    <tr>\n",
       "      <th>Purpose_vacation</th>\n",
       "      <td>120.210710</td>\n",
       "    </tr>\n",
       "    <tr>\n",
       "      <th>Purpose_Educational Expenses</th>\n",
       "      <td>117.303178</td>\n",
       "    </tr>\n",
       "    <tr>\n",
       "      <th>Purpose_small_business</th>\n",
       "      <td>112.705615</td>\n",
       "    </tr>\n",
       "    <tr>\n",
       "      <th>Tax Liens</th>\n",
       "      <td>31.927531</td>\n",
       "    </tr>\n",
       "    <tr>\n",
       "      <th>Purpose_renewable_energy</th>\n",
       "      <td>0.000000</td>\n",
       "    </tr>\n",
       "  </tbody>\n",
       "</table>\n",
       "</div>"
      ],
      "text/plain": [
       "                                            imp\n",
       "Current Loan Amount                29082.097591\n",
       "Home Ownership_Own Home            19365.835601\n",
       "Home Ownership_Rent                16625.721866\n",
       "Home Ownership_Home Mortgage       10829.501545\n",
       "Term_Short Term                     9358.267832\n",
       "Years of Credit History             6741.404396\n",
       "Annual Income                       6689.806013\n",
       "Credit Score                        6437.573266\n",
       "Years in current job_Senior_Level   4382.163914\n",
       "Monthly Debt                        3714.057872\n",
       "Maximum Open Credit                 3601.847312\n",
       "Years in current job_Mid_Level      3352.335051\n",
       "Current Credit Balance              3156.328733\n",
       "Purpose_other                       3102.429720\n",
       "Purpose_Debt Consolidation          2855.824667\n",
       "Purpose_Home Improvements           2301.651282\n",
       "Purpose_Other                       1988.723399\n",
       "Number of Open Accounts             1714.658250\n",
       "Bankruptcies                        1138.840973\n",
       "Purpose_Take a Trip                 1086.301406\n",
       "Purpose_Buy a Car                    764.801952\n",
       "Purpose_Medical Bills                742.201634\n",
       "Purpose_Buy House                    590.420748\n",
       "Number of Credit Problems            383.365766\n",
       "Purpose_major_purchase               257.029291\n",
       "Purpose_moving                       133.632398\n",
       "Purpose_wedding                      131.903346\n",
       "Purpose_vacation                     120.210710\n",
       "Purpose_Educational Expenses         117.303178\n",
       "Purpose_small_business               112.705615\n",
       "Tax Liens                             31.927531\n",
       "Purpose_renewable_energy               0.000000"
      ]
     },
     "execution_count": 138,
     "metadata": {},
     "output_type": "execute_result"
    }
   ],
   "source": [
    "pd.DataFrame(lgbmc.feature_importances_,index=X.columns,columns=['imp']).sort_values(by='imp',ascending=False)"
   ]
  },
  {
   "cell_type": "code",
   "execution_count": 139,
   "metadata": {},
   "outputs": [
    {
     "name": "stdout",
     "output_type": "stream",
     "text": [
      "Test -classification_report :\n",
      "               precision    recall  f1-score   support\n",
      "\n",
      "           0       0.85      0.75      0.80     18988\n",
      "           1       0.78      0.87      0.82     19120\n",
      "\n",
      "    accuracy                           0.81     38108\n",
      "   macro avg       0.82      0.81      0.81     38108\n",
      "weighted avg       0.82      0.81      0.81     38108\n",
      "\n"
     ]
    }
   ],
   "source": [
    "print(\"Test -classification_report :\\n\",classification_report(y_test,y_test_pred))"
   ]
  },
  {
   "cell_type": "markdown",
   "metadata": {},
   "source": [
    "# XGBOOST Algorithm "
   ]
  },
  {
   "cell_type": "code",
   "execution_count": 131,
   "metadata": {},
   "outputs": [
    {
     "name": "stdout",
     "output_type": "stream",
     "text": [
      "Requirement already satisfied: xgboost in c:\\users\\suman\\anaconda3\\lib\\site-packages (1.3.3)\n",
      "Requirement already satisfied: numpy in c:\\users\\suman\\anaconda3\\lib\\site-packages (from xgboost) (1.19.2)\n",
      "Requirement already satisfied: scipy in c:\\users\\suman\\anaconda3\\lib\\site-packages (from xgboost) (1.5.2)\n",
      "Note: you may need to restart the kernel to use updated packages.\n"
     ]
    }
   ],
   "source": [
    "pip install xgboost"
   ]
  },
  {
   "cell_type": "code",
   "execution_count": 132,
   "metadata": {},
   "outputs": [],
   "source": [
    "from xgboost.sklearn import XGBClassifier"
   ]
  },
  {
   "cell_type": "code",
   "execution_count": 133,
   "metadata": {},
   "outputs": [
    {
     "name": "stdout",
     "output_type": "stream",
     "text": [
      "[15:48:44] WARNING: C:/Users/Administrator/workspace/xgboost-win64_release_1.3.0/src/learner.cc:1061: Starting in XGBoost 1.3.0, the default evaluation metric used with the objective 'binary:logistic' was changed from 'error' to 'logloss'. Explicitly set eval_metric if you'd like to restore the old behavior.\n"
     ]
    },
    {
     "data": {
      "text/plain": [
       "XGBClassifier(base_score=0.5, booster='gbtree', colsample_bylevel=1,\n",
       "              colsample_bynode=1, colsample_bytree=1, gamma=0, gpu_id=-1,\n",
       "              importance_type='gain', interaction_constraints='',\n",
       "              learning_rate=0.300000012, max_delta_step=0, max_depth=6,\n",
       "              min_child_weight=1, missing=nan, monotone_constraints='()',\n",
       "              n_estimators=100, n_jobs=4, num_parallel_tree=1, random_state=0,\n",
       "              reg_alpha=0, reg_lambda=1, scale_pos_weight=1, subsample=1,\n",
       "              tree_method='exact', validate_parameters=1, verbosity=None)"
      ]
     },
     "execution_count": 133,
     "metadata": {},
     "output_type": "execute_result"
    }
   ],
   "source": [
    "xgbc=XGBClassifier()\n",
    "xgbc.fit(X_train,y_train)"
   ]
  },
  {
   "cell_type": "code",
   "execution_count": 146,
   "metadata": {},
   "outputs": [
    {
     "name": "stdout",
     "output_type": "stream",
     "text": [
      "Accuracy Train: 0.87891942957398\n",
      "Confusion Matrix Train:\n",
      " [[37034  7490]\n",
      " [ 3276 41116]]\n",
      "Train-AUC 0.9562394028331385\n",
      "\n",
      "\n",
      "Accuracy Test: 0.8189094153458591\n",
      "Confusion Matrix Test:\n",
      " [[14465  4523]\n",
      " [ 2378 16742]]\n",
      "Test-AUC 0.9011258913909951\n"
     ]
    }
   ],
   "source": [
    "y_train_pred = xgbc.predict(X_train)\n",
    "y_train_prob = xgbc.predict_proba(X_train)[:,1]\n",
    "print(\"Accuracy Train:\",accuracy_score(y_train,y_train_pred))\n",
    "print(\"Confusion Matrix Train:\\n\",confusion_matrix(y_train,y_train_pred))\n",
    "print('Train-AUC',roc_auc_score(y_train,y_train_prob))\n",
    "print('\\n')\n",
    "y_test_pred = xgbc.predict(X_test)\n",
    "y_test_prob = xgbc.predict_proba(X_test)[:,1]\n",
    "print(\"Accuracy Test:\",accuracy_score(y_test,y_test_pred))\n",
    "print(\"Confusion Matrix Test:\\n\",confusion_matrix(y_test,y_test_pred))\n",
    "print('Test-AUC',roc_auc_score(y_test,y_test_prob))"
   ]
  },
  {
   "cell_type": "code",
   "execution_count": 147,
   "metadata": {},
   "outputs": [
    {
     "name": "stdout",
     "output_type": "stream",
     "text": [
      "Test -classification_report :\n",
      "               precision    recall  f1-score   support\n",
      "\n",
      "           0       0.86      0.76      0.81     18988\n",
      "           1       0.79      0.88      0.83     19120\n",
      "\n",
      "    accuracy                           0.82     38108\n",
      "   macro avg       0.82      0.82      0.82     38108\n",
      "weighted avg       0.82      0.82      0.82     38108\n",
      "\n"
     ]
    }
   ],
   "source": [
    "print(\"Test -classification_report :\\n\",classification_report(y_test,y_test_pred))"
   ]
  },
  {
   "cell_type": "markdown",
   "metadata": {},
   "source": [
    "# Hyper Parameter Tunning"
   ]
  },
  {
   "cell_type": "code",
   "execution_count": 135,
   "metadata": {},
   "outputs": [
    {
     "name": "stdout",
     "output_type": "stream",
     "text": [
      "[16:13:12] WARNING: C:/Users/Administrator/workspace/xgboost-win64_release_1.3.0/src/learner.cc:1061: Starting in XGBoost 1.3.0, the default evaluation metric used with the objective 'binary:logistic' was changed from 'error' to 'logloss'. Explicitly set eval_metric if you'd like to restore the old behavior.\n"
     ]
    },
    {
     "data": {
      "text/plain": [
       "{'gamma': 0.442898547719903,\n",
       " 'learning_rate': 0.27268845750676945,\n",
       " 'max_depth': 7,\n",
       " 'min_child_weight': 2,\n",
       " 'n_estimators': 155}"
      ]
     },
     "execution_count": 135,
     "metadata": {},
     "output_type": "execute_result"
    }
   ],
   "source": [
    "from sklearn.model_selection import RandomizedSearchCV\n",
    "from scipy.stats import randint as sp_randint\n",
    "from scipy.stats import uniform as sp_uniform\n",
    "xgbc=XGBClassifier()\n",
    "params={'n_estimators': sp_randint(50,250),\"max_depth\":sp_randint(1,8),\n",
    "        'min_child_weight':[1,2],\n",
    "       'learning_rate': sp_uniform(0,0.5),\n",
    "       'gamma':sp_uniform(0,0.5)}\n",
    "rsearch=RandomizedSearchCV(xgbc,param_distributions=params,cv=3,\n",
    "                  n_iter=50,scoring='roc_auc',random_state=4,\n",
    "                  n_jobs=-1)\n",
    "rsearch.fit(X,y)\n",
    "rsearch.best_params_"
   ]
  },
  {
   "cell_type": "code",
   "execution_count": 148,
   "metadata": {},
   "outputs": [
    {
     "name": "stdout",
     "output_type": "stream",
     "text": [
      "[17:00:32] WARNING: C:/Users/Administrator/workspace/xgboost-win64_release_1.3.0/src/learner.cc:1061: Starting in XGBoost 1.3.0, the default evaluation metric used with the objective 'binary:logistic' was changed from 'error' to 'logloss'. Explicitly set eval_metric if you'd like to restore the old behavior.\n",
      "Accuracy Train: 0.87891942957398\n",
      "Confusion Matrix Train:\n",
      " [[37034  7490]\n",
      " [ 3276 41116]]\n",
      "Train-AUC 0.9562394028331385\n",
      "\n",
      "\n",
      "Accuracy Test: 0.8189094153458591\n",
      "Confusion Matrix Test:\n",
      " [[14465  4523]\n",
      " [ 2378 16742]]\n",
      "Test-AUC 0.9011258913909951\n"
     ]
    }
   ],
   "source": [
    "xgbc=XGBClassifier(**rsearch.best_params_,importance_type='gain',random_state=4)\n",
    "xgbc.fit(X_train,y_train)\n",
    "y_train_pred = xgbc.predict(X_train)\n",
    "y_train_prob = xgbc.predict_proba(X_train)[:,1]\n",
    "print(\"Accuracy Train:\",accuracy_score(y_train,y_train_pred))\n",
    "print(\"Confusion Matrix Train:\\n\",confusion_matrix(y_train,y_train_pred))\n",
    "print('Train-AUC',roc_auc_score(y_train,y_train_prob))\n",
    "print('\\n')\n",
    "y_test_pred = xgbc.predict(X_test)\n",
    "y_test_prob = xgbc.predict_proba(X_test)[:,1]\n",
    "print(\"Accuracy Test:\",accuracy_score(y_test,y_test_pred))\n",
    "print(\"Confusion Matrix Test:\\n\",confusion_matrix(y_test,y_test_pred))\n",
    "print('Test-AUC',roc_auc_score(y_test,y_test_prob))"
   ]
  },
  {
   "cell_type": "code",
   "execution_count": 141,
   "metadata": {},
   "outputs": [
    {
     "name": "stdout",
     "output_type": "stream",
     "text": [
      "Test -classification_report :\n",
      "               precision    recall  f1-score   support\n",
      "\n",
      "           0       0.86      0.76      0.81     18988\n",
      "           1       0.79      0.88      0.83     19120\n",
      "\n",
      "    accuracy                           0.82     38108\n",
      "   macro avg       0.82      0.82      0.82     38108\n",
      "weighted avg       0.82      0.82      0.82     38108\n",
      "\n"
     ]
    }
   ],
   "source": [
    "print(\"Test -classification_report :\\n\",classification_report(y_test,y_test_pred))"
   ]
  },
  {
   "cell_type": "markdown",
   "metadata": {},
   "source": [
    "# Thank You!"
   ]
  },
  {
   "cell_type": "code",
   "execution_count": null,
   "metadata": {},
   "outputs": [],
   "source": []
  }
 ],
 "metadata": {
  "kernelspec": {
   "display_name": "Python 3",
   "language": "python",
   "name": "python3"
  },
  "language_info": {
   "codemirror_mode": {
    "name": "ipython",
    "version": 3
   },
   "file_extension": ".py",
   "mimetype": "text/x-python",
   "name": "python",
   "nbconvert_exporter": "python",
   "pygments_lexer": "ipython3",
   "version": "3.8.5"
  }
 },
 "nbformat": 4,
 "nbformat_minor": 4
}
